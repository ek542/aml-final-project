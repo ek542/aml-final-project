{
 "cells": [
  {
   "cell_type": "code",
   "execution_count": 1,
   "metadata": {
    "colab": {
     "base_uri": "https://localhost:8080/"
    },
    "id": "iVKBNfog9sfd",
    "outputId": "e4f15cd4-3540-4b42-fb6d-8ffb4cd70f48"
   },
   "outputs": [],
   "source": [
    "#!pip install prince\n",
    "#!pip install impyute\n",
    "#!pip install autoimpute\n",
    "import numpy as np\n",
    "import pandas as pd\n",
    "import matplotlib.pyplot as plt\n",
    "%matplotlib inline\n",
    "#import seaborn as sns\n",
    "#import prince\n",
    "#import impyute\n",
    "import inflect"
   ]
  },
  {
   "cell_type": "code",
   "execution_count": 2,
   "metadata": {},
   "outputs": [],
   "source": [
    "pd.options.mode.chained_assignment = None"
   ]
  },
  {
   "cell_type": "code",
   "execution_count": 3,
   "metadata": {
    "colab": {
     "base_uri": "https://localhost:8080/"
    },
    "id": "bmMk_8od-zko",
    "outputId": "c05fd3c6-cf7b-40b3-e773-06afbe9ae07b"
   },
   "outputs": [],
   "source": [
    "# from google.colab import drive\n",
    "# drive.mount('/content/drive')"
   ]
  },
  {
   "cell_type": "code",
   "execution_count": 8,
   "metadata": {},
   "outputs": [],
   "source": [
    "sqf_cpw_filter = pd.read_csv('clean_sqf.csv')"
   ]
  },
  {
   "cell_type": "code",
   "execution_count": 9,
   "metadata": {},
   "outputs": [],
   "source": [
    "p = inflect.engine()\n",
    "\n",
    "sqf_cpw_filter['YEAR2'] = sqf_cpw_filter['YEAR2'].apply(lambda x: p.number_to_words(int(x)))\n",
    "sqf_cpw_filter['MONTH2'] = sqf_cpw_filter['MONTH2'].apply(lambda x: p.number_to_words(int(x)))\n",
    "sqf_cpw_filter['DAY2'] = sqf_cpw_filter['DAY2'].apply(lambda x: p.number_to_words(int(x)))\n",
    "sqf_cpw_filter['STOP_LOCATION_PRECINCT'] = sqf_cpw_filter['STOP_LOCATION_PRECINCT'].apply(lambda x: p.number_to_words(int(x)))"
   ]
  },
  {
   "cell_type": "code",
   "execution_count": 10,
   "metadata": {},
   "outputs": [],
   "source": [
    "# Convert to correct datatype --> object for categorical, float64 for numerical \n",
    "sqf_cpw_filter = sqf_cpw_filter.astype({'YEAR2': 'object',\n",
    "                                        'STOP_LOCATION_PRECINCT': 'object',\n",
    "                                        'LOCATION_IN_OUT_CODE': 'object', 'JURISDICTION_CODE': 'object',\n",
    "                                        'OBSERVED_DURATION_MINUTES': 'float64', \n",
    "                                        'STOP_DURATION_MINUTES': 'float64',\n",
    "                                        'OFFICER_IN_UNIFORM_FLAG': 'object', 'FRISKED_FLAG': 'object',\n",
    "                                        'SUSPECT_SEX': 'object', 'SUSPECT_RACE_DESCRIPTION': 'object',\n",
    "                                        'SUSPECT_REPORTED_AGE': 'float64', 'SUSPECT_BODY_BUILD_TYPE': 'object',\n",
    "                                        'SUSPECT_WEIGHT': 'float64', 'WEAPON_FOUND_FLAG': 'object', \n",
    "                                        'MONTH2': 'string', 'DAY2': 'string',\n",
    "                                        'STOP_FRISK_TIME': 'float64'\n",
    "                                        })"
   ]
  },
  {
   "cell_type": "code",
   "execution_count": 11,
   "metadata": {},
   "outputs": [],
   "source": [
    "sqf_cpw_filter = sqf_cpw_filter.drop(columns='FRISKED_FLAG')"
   ]
  },
  {
   "cell_type": "code",
   "execution_count": 12,
   "metadata": {},
   "outputs": [
    {
     "name": "stdout",
     "output_type": "stream",
     "text": [
      "<class 'pandas.core.frame.DataFrame'>\n",
      "RangeIndex: 13031 entries, 0 to 13030\n",
      "Data columns (total 18 columns):\n",
      " #   Column                     Non-Null Count  Dtype  \n",
      "---  ------                     --------------  -----  \n",
      " 0   YEAR2                      13031 non-null  object \n",
      " 1   STOP_LOCATION_PRECINCT     13031 non-null  object \n",
      " 2   LOCATION_IN_OUT_CODE       10283 non-null  object \n",
      " 3   JURISDICTION_CODE          10735 non-null  object \n",
      " 4   OBSERVED_DURATION_MINUTES  13031 non-null  float64\n",
      " 5   STOP_DURATION_MINUTES      13028 non-null  float64\n",
      " 6   OFFICER_IN_UNIFORM_FLAG    13031 non-null  object \n",
      " 7   STOP_WAS_INITIATED         13031 non-null  object \n",
      " 8   SUSPECT_SEX                12998 non-null  object \n",
      " 9   SUSPECT_RACE_DESCRIPTION   13031 non-null  object \n",
      " 10  SUSPECT_REPORTED_AGE       12262 non-null  float64\n",
      " 11  SUSPECT_WEIGHT             12720 non-null  float64\n",
      " 12  SUSPECT_BODY_BUILD_TYPE    12882 non-null  object \n",
      " 13  WEAPON_FOUND_FLAG          13031 non-null  object \n",
      " 14  SUSPECT_HEIGHT             12699 non-null  float64\n",
      " 15  MONTH2                     13031 non-null  string \n",
      " 16  DAY2                       13031 non-null  string \n",
      " 17  STOP_FRISK_TIME            13031 non-null  float64\n",
      "dtypes: float64(6), object(10), string(2)\n",
      "memory usage: 1.8+ MB\n"
     ]
    }
   ],
   "source": [
    "sqf_cpw_filter.info()"
   ]
  },
  {
   "cell_type": "markdown",
   "metadata": {},
   "source": [
    "### Impute"
   ]
  },
  {
   "cell_type": "code",
   "execution_count": 13,
   "metadata": {
    "id": "YbFd-2Pg79v7"
   },
   "outputs": [],
   "source": [
    "# simple imputation \n",
    "\n",
    "def fill_missing_data(df):\n",
    "    num_cols = df.select_dtypes(['float64', 'int64'])\n",
    "    cat_cols = df.select_dtypes(['object', 'string'])\n",
    "    for col in num_cols:\n",
    "        df[col] = df[col].fillna(df[col].mean())\n",
    "    for col in cat_cols:\n",
    "        df[col] = df[col].fillna(df[col].mode()[0])    \n",
    "    return df"
   ]
  },
  {
   "cell_type": "code",
   "execution_count": 14,
   "metadata": {},
   "outputs": [],
   "source": [
    "sqf_cpw_filter_simpimp = fill_missing_data(sqf_cpw_filter)"
   ]
  },
  {
   "cell_type": "code",
   "execution_count": 12,
   "metadata": {
    "id": "umypTSrAXGBa"
   },
   "outputs": [],
   "source": [
    "# # imputation (ascending order of missing values) after ohe\n",
    "\n",
    "# from sklearn.experimental import enable_iterative_imputer\n",
    "# from sklearn.impute import IterativeImputer\n",
    "\n",
    "# sqf_ohe = pd.get_dummies(sqf_cpw_filter, drop_first=True, columns=['YEAR2', 'STOP_LOCATION_PRECINCT', \n",
    "#                                                                    'LOCATION_IN_OUT_CODE', \n",
    "#                                                                    'OFFICER_IN_UNIFORM_FLAG', 'FRISKED_FLAG', \n",
    "#                                                                    'STOP_WAS_INITIATED', 'JURISDICTION_CODE', \n",
    "#                                                                    'SUSPECT_SEX', 'WEAPON_FOUND_FLAG', \n",
    "#                                                                    'SUSPECT_RACE_DESCRIPTION', \n",
    "#                                                                    'SUSPECT_BODY_BUILD_TYPE', \n",
    "#                                                                    'MONTH2', 'DAY2'])\n",
    "\n",
    "# imputer = IterativeImputer(random_state=0)\n",
    "# imputed = imputer.fit_transform(sqf_ohe)\n",
    "# sqf_cpw_filter_itimp = pd.DataFrame(imputed, columns=sqf_ohe.columns)"
   ]
  },
  {
   "cell_type": "markdown",
   "metadata": {
    "id": "VHKDRkEm3wGh"
   },
   "source": [
    "# Predicting Frisk Processing"
   ]
  },
  {
   "cell_type": "code",
   "execution_count": 13,
   "metadata": {},
   "outputs": [],
   "source": [
    "from sklearn.model_selection import train_test_split\n",
    "from sklearn.preprocessing import StandardScaler"
   ]
  },
  {
   "cell_type": "code",
   "execution_count": 14,
   "metadata": {},
   "outputs": [],
   "source": [
    "def standardize_data(df_num):\n",
    "    train, test = train_test_split(df_num, test_size=0.2, random_state=1)\n",
    "    train, val = train_test_split(train, test_size=0.25, random_state=1)\n",
    "    scaler = StandardScaler()\n",
    "    train_scale = scaler.fit_transform(train)\n",
    "    val_scale = scaler.transform(val)\n",
    "    test_scale = scaler.transform(test)\n",
    "    scaled_train = pd.DataFrame(train_scale, index=train.index, columns=train.columns)\n",
    "    scaled_val = pd.DataFrame(val_scale, index=val.index, columns=val.columns)\n",
    "    scaled_test = pd.DataFrame(test_scale, index=test.index, columns=test.columns)\n",
    "    return scaled_train, scaled_val, scaled_test"
   ]
  },
  {
   "cell_type": "code",
   "execution_count": 15,
   "metadata": {},
   "outputs": [],
   "source": [
    "def process_data_simpleimputer(sqf_cpw, predict):\n",
    "    weapon = 'WEAPON_FOUND_FLAG_Y'\n",
    "    df_num = sqf_cpw.select_dtypes(['float64', 'int64'])\n",
    "    df_cat = sqf_cpw.select_dtypes(['object', 'string'])\n",
    "    cat = df_cat.columns\n",
    "    df_ohe = pd.get_dummies(df_cat, prefix=cat, columns=cat, drop_first=True)\n",
    "    train_cat, test_cat = train_test_split(df_ohe, test_size=0.2, random_state=1)\n",
    "    train_cat, val_cat = train_test_split(train_cat, test_size=0.25, random_state=1)\n",
    "    train_num, val_num, test_num = standardize_data(df_num)\n",
    "    train = train_num.join(train_cat, how='outer')\n",
    "    val = val_num.join(val_cat, how='outer')\n",
    "    test = test_num.join(test_cat, how='outer')\n",
    "    train_x = train.drop([weapon], axis=1)\n",
    "    val_x = val.drop([weapon], axis=1)\n",
    "    test_x = test.drop([weapon], axis=1)\n",
    "    # targets\n",
    "    targets_train = train[weapon]\n",
    "    targets_val = val[weapon]\n",
    "    targets_test = test[weapon]\n",
    "    \n",
    "    return train_x, val_x, test_x, targets_train, targets_val, targets_test"
   ]
  },
  {
   "cell_type": "code",
   "execution_count": 16,
   "metadata": {},
   "outputs": [],
   "source": [
    "def process_data_itimputer(sqf_cpw, predict):\n",
    "    # train, val, test split\n",
    "    train, test = train_test_split(sqf_cpw, test_size=0.2, random_state=1)\n",
    "    train, val = train_test_split(train, test_size=0.25, random_state=1)\n",
    "#     # one hot encoding (or not)\n",
    "#     if imputer == 'simple':\n",
    "#         # combine for one hot encoding\n",
    "#         combined = pd.concat([train, val, test], axis=0, sort=False)\n",
    "#         num = combined.select_dtypes(['float64', 'int64']).columns\n",
    "#         cat = combined.select_dtypes(['object', 'string']).columns\n",
    "#         print(num)\n",
    "#         print(cat)\n",
    "#         combined = pd.get_dummies(combined, prefix=cat, columns=cat, drop_first=True)\n",
    "#         #print(combined.shape)\n",
    "#         train_index = train.shape[0]\n",
    "#         val_index_1 = train.shape[0]\n",
    "#         val_index_2 = val_index_1 + val.shape[0] - 1\n",
    "#         test_index = val_index_2 + 1\n",
    "#         df_train = combined.iloc[:train_index, :]\n",
    "#         df_val = combined.iloc[val_index_1:val_index_2,:]\n",
    "#         df_test = combined.iloc[test_index:,:]\n",
    "#         weapon = 'WEAPON_FOUND_FLAG'\n",
    "#     else:\n",
    "    df_train = train\n",
    "    df_val = val\n",
    "    df_test = test\n",
    "    weapon = 'WEAPON_FOUND_FLAG_Y'\n",
    "    \n",
    "    # standardize columns\n",
    "    scaler = StandardScaler()\n",
    "    train_scale = scaler.fit_transform(df_train)\n",
    "    val_scale = scaler.transform(df_val)\n",
    "    test_scale = scaler.transform(df_test)\n",
    "    scaled_train = pd.DataFrame(train_scale, index=df_train.index, columns=df_train.columns)\n",
    "    scaled_val = pd.DataFrame(val_scale, index=df_val.index, columns=df_val.columns)\n",
    "    scaled_test = pd.DataFrame(test_scale, index=df_test.index, columns=df_test.columns)\n",
    "    \n",
    "    if predict == 'frisk':\n",
    "        scaled_train_x = scaled_train.drop(['FRISKED_FLAG_Y', weapon], axis=1)\n",
    "        scaled_val_x = scaled_val.drop(['FRISKED_FLAG_Y', weapon], axis=1)\n",
    "        scaled_test_x = scaled_test.drop(['FRISKED_FLAG_Y', weapon], axis=1)\n",
    "        # targets\n",
    "        targets_train = df_train['FRISKED_FLAG_Y']\n",
    "        targets_val = df_val['FRISKED_FLAG_Y']\n",
    "        targets_test = df_test['FRISKED_FLAG_Y']\n",
    "    else:\n",
    "        scaled_train_x = scaled_train.drop([weapon], axis=1)\n",
    "        scaled_val_x = scaled_val.drop([weapon], axis=1)\n",
    "        scaled_test_x = scaled_test.drop([weapon], axis=1)\n",
    "        # targets\n",
    "        targets_train = df_train[weapon]\n",
    "        targets_val = df_val[weapon]\n",
    "        targets_test = df_test[weapon]\n",
    "    \n",
    "    return scaled_train_x, scaled_val_x, scaled_test_x, targets_train, targets_val, targets_test"
   ]
  },
  {
   "cell_type": "markdown",
   "metadata": {},
   "source": [
    "# Predicting Frisk Simple Imputer"
   ]
  },
  {
   "cell_type": "code",
   "execution_count": 17,
   "metadata": {},
   "outputs": [
    {
     "name": "stdout",
     "output_type": "stream",
     "text": [
      "Index(['YEAR2', 'STOP_LOCATION_PRECINCT', 'LOCATION_IN_OUT_CODE',\n",
      "       'JURISDICTION_CODE', 'OFFICER_IN_UNIFORM_FLAG', 'FRISKED_FLAG',\n",
      "       'STOP_WAS_INITIATED', 'SUSPECT_SEX', 'SUSPECT_RACE_DESCRIPTION',\n",
      "       'SUSPECT_BODY_BUILD_TYPE', 'WEAPON_FOUND_FLAG', 'MONTH2', 'DAY2'],\n",
      "      dtype='object')\n",
      "(7818, 6)\n",
      "Index(['OBSERVED_DURATION_MINUTES', 'STOP_DURATION_MINUTES',\n",
      "       'SUSPECT_REPORTED_AGE', 'SUSPECT_WEIGHT', 'SUSPECT_HEIGHT',\n",
      "       'STOP_FRISK_TIME', 'YEAR2_two thousand and fifteen',\n",
      "       'YEAR2_two thousand and nineteen', 'YEAR2_two thousand and seventeen',\n",
      "       'YEAR2_two thousand and sixteen',\n",
      "       ...\n",
      "       'MONTH2_ten', 'MONTH2_three', 'MONTH2_twelve', 'MONTH2_two',\n",
      "       'DAY2_four', 'DAY2_one', 'DAY2_six', 'DAY2_three', 'DAY2_two',\n",
      "       'DAY2_zero'],\n",
      "      dtype='object', length=121)\n"
     ]
    }
   ],
   "source": [
    "scaled_train, scaled_val, scaled_test, targets_train, targets_val, targets_test = process_data_simpleimputer(sqf_cpw_filter_simpimp, 'frisk')"
   ]
  },
  {
   "cell_type": "code",
   "execution_count": 18,
   "metadata": {},
   "outputs": [
    {
     "data": {
      "text/html": [
       "<div>\n",
       "<style scoped>\n",
       "    .dataframe tbody tr th:only-of-type {\n",
       "        vertical-align: middle;\n",
       "    }\n",
       "\n",
       "    .dataframe tbody tr th {\n",
       "        vertical-align: top;\n",
       "    }\n",
       "\n",
       "    .dataframe thead th {\n",
       "        text-align: right;\n",
       "    }\n",
       "</style>\n",
       "<table border=\"1\" class=\"dataframe\">\n",
       "  <thead>\n",
       "    <tr style=\"text-align: right;\">\n",
       "      <th></th>\n",
       "      <th>OBSERVED_DURATION_MINUTES</th>\n",
       "      <th>STOP_DURATION_MINUTES</th>\n",
       "      <th>SUSPECT_REPORTED_AGE</th>\n",
       "      <th>SUSPECT_WEIGHT</th>\n",
       "      <th>SUSPECT_HEIGHT</th>\n",
       "      <th>STOP_FRISK_TIME</th>\n",
       "      <th>YEAR2_two thousand and fifteen</th>\n",
       "      <th>YEAR2_two thousand and nineteen</th>\n",
       "      <th>YEAR2_two thousand and seventeen</th>\n",
       "      <th>YEAR2_two thousand and sixteen</th>\n",
       "      <th>...</th>\n",
       "      <th>MONTH2_ten</th>\n",
       "      <th>MONTH2_three</th>\n",
       "      <th>MONTH2_twelve</th>\n",
       "      <th>MONTH2_two</th>\n",
       "      <th>DAY2_four</th>\n",
       "      <th>DAY2_one</th>\n",
       "      <th>DAY2_six</th>\n",
       "      <th>DAY2_three</th>\n",
       "      <th>DAY2_two</th>\n",
       "      <th>DAY2_zero</th>\n",
       "    </tr>\n",
       "  </thead>\n",
       "  <tbody>\n",
       "    <tr>\n",
       "      <th>9788</th>\n",
       "      <td>0.007903</td>\n",
       "      <td>-0.215211</td>\n",
       "      <td>-1.139877</td>\n",
       "      <td>-1.494227</td>\n",
       "      <td>-0.814166</td>\n",
       "      <td>0.730550</td>\n",
       "      <td>0</td>\n",
       "      <td>1</td>\n",
       "      <td>0</td>\n",
       "      <td>0</td>\n",
       "      <td>...</td>\n",
       "      <td>0</td>\n",
       "      <td>0</td>\n",
       "      <td>0</td>\n",
       "      <td>0</td>\n",
       "      <td>0</td>\n",
       "      <td>0</td>\n",
       "      <td>0</td>\n",
       "      <td>0</td>\n",
       "      <td>1</td>\n",
       "      <td>0</td>\n",
       "    </tr>\n",
       "    <tr>\n",
       "      <th>4689</th>\n",
       "      <td>0.846662</td>\n",
       "      <td>-0.275626</td>\n",
       "      <td>-0.951511</td>\n",
       "      <td>0.007942</td>\n",
       "      <td>0.000420</td>\n",
       "      <td>-1.136151</td>\n",
       "      <td>0</td>\n",
       "      <td>0</td>\n",
       "      <td>1</td>\n",
       "      <td>0</td>\n",
       "      <td>...</td>\n",
       "      <td>0</td>\n",
       "      <td>0</td>\n",
       "      <td>1</td>\n",
       "      <td>0</td>\n",
       "      <td>0</td>\n",
       "      <td>0</td>\n",
       "      <td>0</td>\n",
       "      <td>0</td>\n",
       "      <td>0</td>\n",
       "      <td>1</td>\n",
       "    </tr>\n",
       "    <tr>\n",
       "      <th>606</th>\n",
       "      <td>-0.271683</td>\n",
       "      <td>-0.215211</td>\n",
       "      <td>2.815825</td>\n",
       "      <td>-0.045580</td>\n",
       "      <td>-0.767729</td>\n",
       "      <td>-0.996567</td>\n",
       "      <td>1</td>\n",
       "      <td>0</td>\n",
       "      <td>0</td>\n",
       "      <td>0</td>\n",
       "      <td>...</td>\n",
       "      <td>0</td>\n",
       "      <td>0</td>\n",
       "      <td>0</td>\n",
       "      <td>0</td>\n",
       "      <td>0</td>\n",
       "      <td>0</td>\n",
       "      <td>1</td>\n",
       "      <td>0</td>\n",
       "      <td>0</td>\n",
       "      <td>0</td>\n",
       "    </tr>\n",
       "    <tr>\n",
       "      <th>3430</th>\n",
       "      <td>-0.271683</td>\n",
       "      <td>0.691009</td>\n",
       "      <td>-1.045694</td>\n",
       "      <td>-1.204498</td>\n",
       "      <td>-0.535541</td>\n",
       "      <td>-0.935150</td>\n",
       "      <td>0</td>\n",
       "      <td>0</td>\n",
       "      <td>0</td>\n",
       "      <td>1</td>\n",
       "      <td>...</td>\n",
       "      <td>0</td>\n",
       "      <td>0</td>\n",
       "      <td>1</td>\n",
       "      <td>0</td>\n",
       "      <td>0</td>\n",
       "      <td>0</td>\n",
       "      <td>1</td>\n",
       "      <td>0</td>\n",
       "      <td>0</td>\n",
       "      <td>0</td>\n",
       "    </tr>\n",
       "    <tr>\n",
       "      <th>9957</th>\n",
       "      <td>7.836318</td>\n",
       "      <td>0.328521</td>\n",
       "      <td>-0.198043</td>\n",
       "      <td>0.533878</td>\n",
       "      <td>0.300333</td>\n",
       "      <td>1.406135</td>\n",
       "      <td>0</td>\n",
       "      <td>1</td>\n",
       "      <td>0</td>\n",
       "      <td>0</td>\n",
       "      <td>...</td>\n",
       "      <td>0</td>\n",
       "      <td>0</td>\n",
       "      <td>0</td>\n",
       "      <td>0</td>\n",
       "      <td>0</td>\n",
       "      <td>0</td>\n",
       "      <td>0</td>\n",
       "      <td>1</td>\n",
       "      <td>0</td>\n",
       "      <td>0</td>\n",
       "    </tr>\n",
       "    <tr>\n",
       "      <th>...</th>\n",
       "      <td>...</td>\n",
       "      <td>...</td>\n",
       "      <td>...</td>\n",
       "      <td>...</td>\n",
       "      <td>...</td>\n",
       "      <td>...</td>\n",
       "      <td>...</td>\n",
       "      <td>...</td>\n",
       "      <td>...</td>\n",
       "      <td>...</td>\n",
       "      <td>...</td>\n",
       "      <td>...</td>\n",
       "      <td>...</td>\n",
       "      <td>...</td>\n",
       "      <td>...</td>\n",
       "      <td>...</td>\n",
       "      <td>...</td>\n",
       "      <td>...</td>\n",
       "      <td>...</td>\n",
       "      <td>...</td>\n",
       "      <td>...</td>\n",
       "    </tr>\n",
       "    <tr>\n",
       "      <th>592</th>\n",
       "      <td>0.287490</td>\n",
       "      <td>-0.215211</td>\n",
       "      <td>1.591441</td>\n",
       "      <td>-0.625039</td>\n",
       "      <td>-0.999916</td>\n",
       "      <td>-0.987261</td>\n",
       "      <td>1</td>\n",
       "      <td>0</td>\n",
       "      <td>0</td>\n",
       "      <td>0</td>\n",
       "      <td>...</td>\n",
       "      <td>0</td>\n",
       "      <td>1</td>\n",
       "      <td>0</td>\n",
       "      <td>0</td>\n",
       "      <td>0</td>\n",
       "      <td>1</td>\n",
       "      <td>0</td>\n",
       "      <td>0</td>\n",
       "      <td>0</td>\n",
       "      <td>0</td>\n",
       "    </tr>\n",
       "    <tr>\n",
       "      <th>9794</th>\n",
       "      <td>0.007903</td>\n",
       "      <td>-0.456870</td>\n",
       "      <td>-0.951511</td>\n",
       "      <td>-0.625039</td>\n",
       "      <td>0.300333</td>\n",
       "      <td>0.693327</td>\n",
       "      <td>0</td>\n",
       "      <td>1</td>\n",
       "      <td>0</td>\n",
       "      <td>0</td>\n",
       "      <td>...</td>\n",
       "      <td>0</td>\n",
       "      <td>0</td>\n",
       "      <td>0</td>\n",
       "      <td>0</td>\n",
       "      <td>0</td>\n",
       "      <td>0</td>\n",
       "      <td>0</td>\n",
       "      <td>0</td>\n",
       "      <td>0</td>\n",
       "      <td>0</td>\n",
       "    </tr>\n",
       "    <tr>\n",
       "      <th>10189</th>\n",
       "      <td>-0.271683</td>\n",
       "      <td>-0.396455</td>\n",
       "      <td>-0.668960</td>\n",
       "      <td>0.823608</td>\n",
       "      <td>1.414832</td>\n",
       "      <td>1.301913</td>\n",
       "      <td>0</td>\n",
       "      <td>1</td>\n",
       "      <td>0</td>\n",
       "      <td>0</td>\n",
       "      <td>...</td>\n",
       "      <td>0</td>\n",
       "      <td>0</td>\n",
       "      <td>0</td>\n",
       "      <td>0</td>\n",
       "      <td>0</td>\n",
       "      <td>1</td>\n",
       "      <td>0</td>\n",
       "      <td>0</td>\n",
       "      <td>0</td>\n",
       "      <td>0</td>\n",
       "    </tr>\n",
       "    <tr>\n",
       "      <th>4034</th>\n",
       "      <td>-0.271683</td>\n",
       "      <td>0.147277</td>\n",
       "      <td>0.084507</td>\n",
       "      <td>0.533878</td>\n",
       "      <td>0.021708</td>\n",
       "      <td>-0.721122</td>\n",
       "      <td>0</td>\n",
       "      <td>0</td>\n",
       "      <td>1</td>\n",
       "      <td>0</td>\n",
       "      <td>...</td>\n",
       "      <td>0</td>\n",
       "      <td>0</td>\n",
       "      <td>0</td>\n",
       "      <td>0</td>\n",
       "      <td>0</td>\n",
       "      <td>0</td>\n",
       "      <td>0</td>\n",
       "      <td>0</td>\n",
       "      <td>0</td>\n",
       "      <td>0</td>\n",
       "    </tr>\n",
       "    <tr>\n",
       "      <th>2617</th>\n",
       "      <td>-0.271683</td>\n",
       "      <td>-0.456870</td>\n",
       "      <td>-0.574777</td>\n",
       "      <td>0.823608</td>\n",
       "      <td>0.625395</td>\n",
       "      <td>-1.136151</td>\n",
       "      <td>0</td>\n",
       "      <td>0</td>\n",
       "      <td>0</td>\n",
       "      <td>1</td>\n",
       "      <td>...</td>\n",
       "      <td>0</td>\n",
       "      <td>1</td>\n",
       "      <td>0</td>\n",
       "      <td>0</td>\n",
       "      <td>0</td>\n",
       "      <td>0</td>\n",
       "      <td>0</td>\n",
       "      <td>0</td>\n",
       "      <td>1</td>\n",
       "      <td>0</td>\n",
       "    </tr>\n",
       "  </tbody>\n",
       "</table>\n",
       "<p>7818 rows × 119 columns</p>\n",
       "</div>"
      ],
      "text/plain": [
       "       OBSERVED_DURATION_MINUTES  STOP_DURATION_MINUTES  SUSPECT_REPORTED_AGE  \\\n",
       "9788                    0.007903              -0.215211             -1.139877   \n",
       "4689                    0.846662              -0.275626             -0.951511   \n",
       "606                    -0.271683              -0.215211              2.815825   \n",
       "3430                   -0.271683               0.691009             -1.045694   \n",
       "9957                    7.836318               0.328521             -0.198043   \n",
       "...                          ...                    ...                   ...   \n",
       "592                     0.287490              -0.215211              1.591441   \n",
       "9794                    0.007903              -0.456870             -0.951511   \n",
       "10189                  -0.271683              -0.396455             -0.668960   \n",
       "4034                   -0.271683               0.147277              0.084507   \n",
       "2617                   -0.271683              -0.456870             -0.574777   \n",
       "\n",
       "       SUSPECT_WEIGHT  SUSPECT_HEIGHT  STOP_FRISK_TIME  \\\n",
       "9788        -1.494227       -0.814166         0.730550   \n",
       "4689         0.007942        0.000420        -1.136151   \n",
       "606         -0.045580       -0.767729        -0.996567   \n",
       "3430        -1.204498       -0.535541        -0.935150   \n",
       "9957         0.533878        0.300333         1.406135   \n",
       "...               ...             ...              ...   \n",
       "592         -0.625039       -0.999916        -0.987261   \n",
       "9794        -0.625039        0.300333         0.693327   \n",
       "10189        0.823608        1.414832         1.301913   \n",
       "4034         0.533878        0.021708        -0.721122   \n",
       "2617         0.823608        0.625395        -1.136151   \n",
       "\n",
       "       YEAR2_two thousand and fifteen  YEAR2_two thousand and nineteen  \\\n",
       "9788                                0                                1   \n",
       "4689                                0                                0   \n",
       "606                                 1                                0   \n",
       "3430                                0                                0   \n",
       "9957                                0                                1   \n",
       "...                               ...                              ...   \n",
       "592                                 1                                0   \n",
       "9794                                0                                1   \n",
       "10189                               0                                1   \n",
       "4034                                0                                0   \n",
       "2617                                0                                0   \n",
       "\n",
       "       YEAR2_two thousand and seventeen  YEAR2_two thousand and sixteen  ...  \\\n",
       "9788                                  0                               0  ...   \n",
       "4689                                  1                               0  ...   \n",
       "606                                   0                               0  ...   \n",
       "3430                                  0                               1  ...   \n",
       "9957                                  0                               0  ...   \n",
       "...                                 ...                             ...  ...   \n",
       "592                                   0                               0  ...   \n",
       "9794                                  0                               0  ...   \n",
       "10189                                 0                               0  ...   \n",
       "4034                                  1                               0  ...   \n",
       "2617                                  0                               1  ...   \n",
       "\n",
       "       MONTH2_ten  MONTH2_three  MONTH2_twelve  MONTH2_two  DAY2_four  \\\n",
       "9788            0             0              0           0          0   \n",
       "4689            0             0              1           0          0   \n",
       "606             0             0              0           0          0   \n",
       "3430            0             0              1           0          0   \n",
       "9957            0             0              0           0          0   \n",
       "...           ...           ...            ...         ...        ...   \n",
       "592             0             1              0           0          0   \n",
       "9794            0             0              0           0          0   \n",
       "10189           0             0              0           0          0   \n",
       "4034            0             0              0           0          0   \n",
       "2617            0             1              0           0          0   \n",
       "\n",
       "       DAY2_one  DAY2_six  DAY2_three  DAY2_two  DAY2_zero  \n",
       "9788          0         0           0         1          0  \n",
       "4689          0         0           0         0          1  \n",
       "606           0         1           0         0          0  \n",
       "3430          0         1           0         0          0  \n",
       "9957          0         0           1         0          0  \n",
       "...         ...       ...         ...       ...        ...  \n",
       "592           1         0           0         0          0  \n",
       "9794          0         0           0         0          0  \n",
       "10189         1         0           0         0          0  \n",
       "4034          0         0           0         0          0  \n",
       "2617          0         0           0         1          0  \n",
       "\n",
       "[7818 rows x 119 columns]"
      ]
     },
     "execution_count": 18,
     "metadata": {},
     "output_type": "execute_result"
    }
   ],
   "source": [
    "scaled_train"
   ]
  },
  {
   "cell_type": "code",
   "execution_count": 19,
   "metadata": {
    "id": "I1kgck5A2qDF"
   },
   "outputs": [],
   "source": [
    "from sklearn.linear_model import LogisticRegression\n",
    "\n",
    "logreg = LogisticRegression(penalty='l2', max_iter=1000)\n",
    "\n",
    "logreg.fit(scaled_train, targets_train)\n",
    "\n",
    "y_train_pred = logreg.predict_proba(scaled_train)"
   ]
  },
  {
   "cell_type": "code",
   "execution_count": 20,
   "metadata": {
    "colab": {
     "base_uri": "https://localhost:8080/"
    },
    "id": "r9P7es3V2wqM",
    "outputId": "d14b3d35-2d7a-46a3-865b-9a90d1d77dcd"
   },
   "outputs": [
    {
     "name": "stdout",
     "output_type": "stream",
     "text": [
      "The AUC score of my training set:\n"
     ]
    },
    {
     "data": {
      "text/plain": [
       "0.715072223639837"
      ]
     },
     "execution_count": 20,
     "metadata": {},
     "output_type": "execute_result"
    }
   ],
   "source": [
    "from sklearn.metrics import roc_auc_score\n",
    "print('The AUC score of my training set:')\n",
    "roc_auc_score(targets_train, y_train_pred[:, 1])"
   ]
  },
  {
   "cell_type": "code",
   "execution_count": 21,
   "metadata": {
    "colab": {
     "base_uri": "https://localhost:8080/"
    },
    "id": "BYhrXN453kfs",
    "outputId": "3a2e94e5-17d7-458d-b097-a1e4eeb0809d"
   },
   "outputs": [
    {
     "data": {
      "text/plain": [
       "0.6345289276501658"
      ]
     },
     "execution_count": 21,
     "metadata": {},
     "output_type": "execute_result"
    }
   ],
   "source": [
    "# AUC score for validation set\n",
    "y_val_pred = logreg.predict_proba(scaled_val)\n",
    "roc_auc_score(targets_val, y_val_pred[:, 1])"
   ]
  },
  {
   "cell_type": "code",
   "execution_count": 83,
   "metadata": {},
   "outputs": [
    {
     "name": "stdout",
     "output_type": "stream",
     "text": [
      "acc train =  0.8956254796623178\n",
      "acc val =  0.8937068303914044\n"
     ]
    }
   ],
   "source": [
    "# Accuracy\n",
    "from sklearn.metrics import accuracy_score\n",
    "y_acc_train = accuracy_score(targets_train, logreg.predict(scaled_train))\n",
    "y_acc_val = accuracy_score(targets_val, logreg.predict(scaled_val))\n",
    "print('acc train = ', y_acc_train)\n",
    "print('acc val = ', y_acc_val)"
   ]
  },
  {
   "cell_type": "code",
   "execution_count": 87,
   "metadata": {},
   "outputs": [
    {
     "data": {
      "text/plain": [
       "<sklearn.metrics._plot.confusion_matrix.ConfusionMatrixDisplay at 0x7fc5a5b10c50>"
      ]
     },
     "execution_count": 87,
     "metadata": {},
     "output_type": "execute_result"
    },
    {
     "data": {
      "image/png": "[encoded data removed]",
      "text/plain": [
       "<Figure size 432x288 with 2 Axes>"
      ]
     },
     "metadata": {
      "needs_background": "light"
     },
     "output_type": "display_data"
    }
   ],
   "source": [
    "# Train conf matrix\n",
    "#from sklearn.metrics import confusion_matrix\n",
    "from sklearn.metrics import plot_confusion_matrix\n",
    "#confusion_matrix(targets_train, logreg.predict(scaled_train))\n",
    "plot_confusion_matrix(logreg, scaled_train, targets_train) "
   ]
  },
  {
   "cell_type": "code",
   "execution_count": 88,
   "metadata": {},
   "outputs": [
    {
     "data": {
      "text/plain": [
       "<sklearn.metrics._plot.confusion_matrix.ConfusionMatrixDisplay at 0x7fc5a5b17110>"
      ]
     },
     "execution_count": 88,
     "metadata": {},
     "output_type": "execute_result"
    },
    {
     "data": {
      "image/png": "[encoded data removed]",
      "text/plain": [
       "<Figure size 432x288 with 2 Axes>"
      ]
     },
     "metadata": {
      "needs_background": "light"
     },
     "output_type": "display_data"
    }
   ],
   "source": [
    "# Val conf matrix\n",
    "from sklearn.metrics import plot_confusion_matrix\n",
    "plot_confusion_matrix(logreg, scaled_val, targets_val) "
   ]
  },
  {
   "cell_type": "code",
   "execution_count": 100,
   "metadata": {},
   "outputs": [
    {
     "name": "stderr",
     "output_type": "stream",
     "text": [
      "/Users/eeshakhanna/opt/anaconda3/lib/python3.7/site-packages/sklearn/linear_model/_sag.py:329: ConvergenceWarning: The max_iter was reached which means the coef_ did not converge\n",
      "  \"the coef_ did not converge\", ConvergenceWarning)\n",
      "/Users/eeshakhanna/opt/anaconda3/lib/python3.7/site-packages/sklearn/linear_model/_sag.py:329: ConvergenceWarning: The max_iter was reached which means the coef_ did not converge\n",
      "  \"the coef_ did not converge\", ConvergenceWarning)\n",
      "/Users/eeshakhanna/opt/anaconda3/lib/python3.7/site-packages/sklearn/linear_model/_sag.py:329: ConvergenceWarning: The max_iter was reached which means the coef_ did not converge\n",
      "  \"the coef_ did not converge\", ConvergenceWarning)\n",
      "/Users/eeshakhanna/opt/anaconda3/lib/python3.7/site-packages/sklearn/linear_model/_sag.py:329: ConvergenceWarning: The max_iter was reached which means the coef_ did not converge\n",
      "  \"the coef_ did not converge\", ConvergenceWarning)\n",
      "/Users/eeshakhanna/opt/anaconda3/lib/python3.7/site-packages/sklearn/linear_model/_sag.py:329: ConvergenceWarning: The max_iter was reached which means the coef_ did not converge\n",
      "  \"the coef_ did not converge\", ConvergenceWarning)\n"
     ]
    }
   ],
   "source": [
    "from sklearn.metrics import log_loss\n",
    "ll = []\n",
    "\n",
    "step = np.linspace(1, 1000, 112)\n",
    "\n",
    "for i in step:\n",
    "    logreg = LogisticRegression(penalty='l1', max_iter=i, solver='saga')\n",
    "    logreg.fit(scaled_train, targets_train)\n",
    "    loss = log_loss(targets_train, logreg.predict(scaled_train))\n",
    "    #print(i, loss)\n",
    "    ll.append(loss)"
   ]
  },
  {
   "cell_type": "code",
   "execution_count": 108,
   "metadata": {},
   "outputs": [
    {
     "data": {
      "text/plain": [
       "array([   1.,   10.,   19.,   28.,   37.,   46.,   55.,   64.,   73.,\n",
       "         82.,   91.,  100.,  109.,  118.,  127.,  136.,  145.,  154.,\n",
       "        163.,  172.,  181.,  190.,  199.,  208.,  217.,  226.,  235.,\n",
       "        244.,  253.,  262.,  271.,  280.,  289.,  298.,  307.,  316.,\n",
       "        325.,  334.,  343.,  352.,  361.,  370.,  379.,  388.,  397.,\n",
       "        406.,  415.,  424.,  433.,  442.,  451.,  460.,  469.,  478.,\n",
       "        487.,  496.,  505.,  514.,  523.,  532.,  541.,  550.,  559.,\n",
       "        568.,  577.,  586.,  595.,  604.,  613.,  622.,  631.,  640.,\n",
       "        649.,  658.,  667.,  676.,  685.,  694.,  703.,  712.,  721.,\n",
       "        730.,  739.,  748.,  757.,  766.,  775.,  784.,  793.,  802.,\n",
       "        811.,  820.,  829.,  838.,  847.,  856.,  865.,  874.,  883.,\n",
       "        892.,  901.,  910.,  919.,  928.,  937.,  946.,  955.,  964.,\n",
       "        973.,  982.,  991., 1000.])"
      ]
     },
     "execution_count": 108,
     "metadata": {},
     "output_type": "execute_result"
    }
   ],
   "source": [
    "np.linspace(1, 1000, 112)"
   ]
  },
  {
   "cell_type": "code",
   "execution_count": 101,
   "metadata": {},
   "outputs": [
    {
     "data": {
      "text/plain": [
       "[3.6669030536765073,\n",
       " 3.6669030536765073,\n",
       " 3.6669030536765073,\n",
       " 3.6580671427037927,\n",
       " 3.6536491872174355,\n",
       " 3.653649084940967,\n",
       " 3.6492310271781414,\n",
       " 3.644813071691784,\n",
       " 3.640395116205427,\n",
       " 3.627141249746355,\n",
       " 3.627141147469887,\n",
       " 3.6227231919835297,\n",
       " 3.609469325524458,\n",
       " 3.6006334145517433,\n",
       " 3.591797503579029,\n",
       " 3.6006332099988065,\n",
       " 3.5962152545124493,\n",
       " 3.5962152545124493,\n",
       " 3.591797299026092,\n",
       " 3.5873793435397348,\n",
       " 3.5873793435397348,\n",
       " 3.5873793435397348,\n",
       " 3.5962150499595125,\n",
       " 3.5962150499595125,\n",
       " 3.5962150499595125,\n",
       " 3.60505075637929,\n",
       " 3.60505075637929,\n",
       " 3.60505075637929,\n",
       " 3.6094687118656474,\n",
       " 3.60505075637929,\n",
       " 3.60505075637929,\n",
       " 3.60505075637929,\n",
       " 3.6138864627990674,\n",
       " 3.609468609589179,\n",
       " 3.609468609589179,\n",
       " 3.609468609589179,\n",
       " 3.609468609589179,\n",
       " 3.609468609589179,\n",
       " 3.609468609589179,\n",
       " 3.609468609589179,\n",
       " 3.609468609589179,\n",
       " 3.609468609589179,\n",
       " 3.609468609589179,\n",
       " 3.609468609589179,\n",
       " 3.609468609589179,\n",
       " 3.609468609589179,\n",
       " 3.60946850731271,\n",
       " 3.60946850731271,\n",
       " 3.60946850731271,\n",
       " 3.60946850731271,\n",
       " 3.60946850731271,\n",
       " 3.60946850731271,\n",
       " 3.60946850731271,\n",
       " 3.60946850731271,\n",
       " 3.60946850731271,\n",
       " 3.60946850731271,\n",
       " 3.6138863605225993,\n",
       " 3.6183043160089565,\n",
       " 3.6138863605225993,\n",
       " 3.6138863605225993,\n",
       " 3.6138863605225993,\n",
       " 3.6138863605225993,\n",
       " 3.6138863605225993,\n",
       " 3.6138863605225993,\n",
       " 3.6138863605225993,\n",
       " 3.609468405036242,\n",
       " 3.609468405036242,\n",
       " 3.609468405036242,\n",
       " 3.605050449549885,\n",
       " 3.605050449549885,\n",
       " 3.605050449549885,\n",
       " 3.605050449549885,\n",
       " 3.605050449549885,\n",
       " 3.605050449549885,\n",
       " 3.605050449549885,\n",
       " 3.605050449549885,\n",
       " 3.605050449549885,\n",
       " 3.605050449549885,\n",
       " 3.605050449549885,\n",
       " 3.605050449549885,\n",
       " 3.605050449549885,\n",
       " 3.605050449549885,\n",
       " 3.605050449549885,\n",
       " 3.605050449549885,\n",
       " 3.605050449549885,\n",
       " 3.605050449549885,\n",
       " 3.605050449549885,\n",
       " 3.605050449549885,\n",
       " 3.605050449549885,\n",
       " 3.605050449549885,\n",
       " 3.605050449549885,\n",
       " 3.605050449549885,\n",
       " 3.605050449549885,\n",
       " 3.605050449549885,\n",
       " 3.605050449549885,\n",
       " 3.605050449549885,\n",
       " 3.605050449549885,\n",
       " 3.605050449549885,\n",
       " 3.605050449549885,\n",
       " 3.605050449549885]"
      ]
     },
     "execution_count": 101,
     "metadata": {},
     "output_type": "execute_result"
    }
   ],
   "source": [
    "ll"
   ]
  },
  {
   "cell_type": "code",
   "execution_count": 102,
   "metadata": {},
   "outputs": [
    {
     "data": {
      "text/plain": [
       "[<matplotlib.lines.Line2D at 0x7fc59fe69650>]"
      ]
     },
     "execution_count": 102,
     "metadata": {},
     "output_type": "execute_result"
    },
    {
     "data": {
      "image/png": "[encoded data removed]",
      "text/plain": [
       "<Figure size 432x288 with 1 Axes>"
      ]
     },
     "metadata": {
      "needs_background": "light"
     },
     "output_type": "display_data"
    }
   ],
   "source": [
    "plt.plot(step, ll)"
   ]
  },
  {
   "cell_type": "markdown",
   "metadata": {},
   "source": [
    "# Predicting Frisk Iterative Imputer"
   ]
  },
  {
   "cell_type": "code",
   "execution_count": 22,
   "metadata": {},
   "outputs": [],
   "source": [
    "scaled_train_i, scaled_val_i, scaled_test_i, targets_train_i, targets_val_i, targets_test_i = process_data_itimputer(sqf_cpw_filter_itimp, 'frisk')"
   ]
  },
  {
   "cell_type": "code",
   "execution_count": 23,
   "metadata": {},
   "outputs": [
    {
     "data": {
      "text/plain": [
       "(7818, 119)"
      ]
     },
     "execution_count": 23,
     "metadata": {},
     "output_type": "execute_result"
    }
   ],
   "source": [
    "scaled_train_i.shape"
   ]
  },
  {
   "cell_type": "code",
   "execution_count": 24,
   "metadata": {},
   "outputs": [],
   "source": [
    "logreg_i = LogisticRegression(penalty='l2', max_iter=1000)\n",
    "\n",
    "logreg_i.fit(scaled_train_i, targets_train_i)\n",
    "\n",
    "y_train_pred_i = logreg_i.predict_proba(scaled_train_i)"
   ]
  },
  {
   "cell_type": "code",
   "execution_count": 25,
   "metadata": {},
   "outputs": [
    {
     "name": "stdout",
     "output_type": "stream",
     "text": [
      "The AUC score of my training set:\n"
     ]
    },
    {
     "data": {
      "text/plain": [
       "0.7151615333687353"
      ]
     },
     "execution_count": 25,
     "metadata": {},
     "output_type": "execute_result"
    }
   ],
   "source": [
    "print('The AUC score of my training set:')\n",
    "roc_auc_score(targets_train_i, y_train_pred_i[:, 1])"
   ]
  },
  {
   "cell_type": "code",
   "execution_count": 26,
   "metadata": {},
   "outputs": [
    {
     "data": {
      "text/plain": [
       "0.6329443557302543"
      ]
     },
     "execution_count": 26,
     "metadata": {},
     "output_type": "execute_result"
    }
   ],
   "source": [
    "# AUC score for validation set\n",
    "y_val_pred_i = logreg_i.predict_proba(scaled_val_i)\n",
    "roc_auc_score(targets_val_i, y_val_pred_i[:, 1])"
   ]
  },
  {
   "cell_type": "markdown",
   "metadata": {
    "id": "Ft2yHj3t3y1t"
   },
   "source": [
    "# Predicting Found Weapon Simple Imputer"
   ]
  },
  {
   "cell_type": "code",
   "execution_count": 27,
   "metadata": {
    "id": "FbUf6R6n4W-V"
   },
   "outputs": [],
   "source": [
    "sqf_cpw_filter_weapon = sqf_cpw_filter_simpimp[sqf_cpw_filter_simpimp['FRISKED_FLAG'] == 'Y'] # we want to filter out only the found weapon after the suspect is frisked"
   ]
  },
  {
   "cell_type": "code",
   "execution_count": 28,
   "metadata": {},
   "outputs": [
    {
     "name": "stdout",
     "output_type": "stream",
     "text": [
      "Index(['YEAR2', 'STOP_LOCATION_PRECINCT', 'LOCATION_IN_OUT_CODE',\n",
      "       'JURISDICTION_CODE', 'OFFICER_IN_UNIFORM_FLAG', 'FRISKED_FLAG',\n",
      "       'STOP_WAS_INITIATED', 'SUSPECT_SEX', 'SUSPECT_RACE_DESCRIPTION',\n",
      "       'SUSPECT_BODY_BUILD_TYPE', 'WEAPON_FOUND_FLAG', 'MONTH2', 'DAY2'],\n",
      "      dtype='object')\n",
      "(6984, 6)\n",
      "Index(['OBSERVED_DURATION_MINUTES', 'STOP_DURATION_MINUTES',\n",
      "       'SUSPECT_REPORTED_AGE', 'SUSPECT_WEIGHT', 'SUSPECT_HEIGHT',\n",
      "       'STOP_FRISK_TIME', 'YEAR2_two thousand and fifteen',\n",
      "       'YEAR2_two thousand and nineteen', 'YEAR2_two thousand and seventeen',\n",
      "       'YEAR2_two thousand and sixteen',\n",
      "       ...\n",
      "       'MONTH2_ten', 'MONTH2_three', 'MONTH2_twelve', 'MONTH2_two',\n",
      "       'DAY2_four', 'DAY2_one', 'DAY2_six', 'DAY2_three', 'DAY2_two',\n",
      "       'DAY2_zero'],\n",
      "      dtype='object', length=120)\n"
     ]
    }
   ],
   "source": [
    "scaled_train_w, scaled_val_w, scaled_test_w, targets_train_w, targets_val_w, targets_test_w = process_data_simpleimputer(sqf_cpw_filter_weapon, 'weapon')"
   ]
  },
  {
   "cell_type": "code",
   "execution_count": 29,
   "metadata": {},
   "outputs": [
    {
     "data": {
      "text/plain": [
       "3975     0\n",
       "7340     0\n",
       "9814     0\n",
       "7653     0\n",
       "10669    0\n",
       "        ..\n",
       "5174     0\n",
       "64       0\n",
       "7603     0\n",
       "2328     1\n",
       "9181     0\n",
       "Name: WEAPON_FOUND_FLAG_Y, Length: 6984, dtype: uint8"
      ]
     },
     "execution_count": 29,
     "metadata": {},
     "output_type": "execute_result"
    }
   ],
   "source": [
    "targets_train_w"
   ]
  },
  {
   "cell_type": "code",
   "execution_count": 30,
   "metadata": {},
   "outputs": [],
   "source": [
    "logreg_w = LogisticRegression(penalty='l2', max_iter=1000)\n",
    "\n",
    "logreg_w.fit(scaled_train_w, targets_train_w)\n",
    "\n",
    "y_train_pred_w = logreg_w.predict_proba(scaled_train_w)"
   ]
  },
  {
   "cell_type": "code",
   "execution_count": 31,
   "metadata": {},
   "outputs": [
    {
     "name": "stdout",
     "output_type": "stream",
     "text": [
      "The AUC score of my training set:\n"
     ]
    },
    {
     "data": {
      "text/plain": [
       "0.7176189123137514"
      ]
     },
     "execution_count": 31,
     "metadata": {},
     "output_type": "execute_result"
    }
   ],
   "source": [
    "print('The AUC score of my training set:')\n",
    "roc_auc_score(targets_train_w, y_train_pred_w[:, 1])"
   ]
  },
  {
   "cell_type": "code",
   "execution_count": 32,
   "metadata": {},
   "outputs": [
    {
     "data": {
      "text/plain": [
       "0.6984038634914351"
      ]
     },
     "execution_count": 32,
     "metadata": {},
     "output_type": "execute_result"
    }
   ],
   "source": [
    "# AUC score for validation set\n",
    "y_val_pred_w = logreg_w.predict_proba(scaled_val_w)\n",
    "roc_auc_score(targets_val_w, y_val_pred_w[:, 1])"
   ]
  },
  {
   "cell_type": "markdown",
   "metadata": {},
   "source": [
    "# Predicting Found Weapon Iterative Imputer"
   ]
  },
  {
   "cell_type": "code",
   "execution_count": 33,
   "metadata": {},
   "outputs": [],
   "source": [
    "sqf_cpw_filter_weapon_it = sqf_cpw_filter_itimp[sqf_cpw_filter_itimp['FRISKED_FLAG_Y'] == 1] # we want to filter out only the found weapon after the suspect is frisked"
   ]
  },
  {
   "cell_type": "code",
   "execution_count": 34,
   "metadata": {},
   "outputs": [],
   "source": [
    "scaled_train_w_i, scaled_val_w_i, scaled_test_w_i, targets_train_w_i, targets_val_w_i, targets_test_w_i = process_data_itimputer(sqf_cpw_filter_weapon_it, 'weapon')"
   ]
  },
  {
   "cell_type": "code",
   "execution_count": 35,
   "metadata": {},
   "outputs": [],
   "source": [
    "logreg_w_i = LogisticRegression(penalty='l2', max_iter=1000)\n",
    "\n",
    "logreg_w_i.fit(scaled_train_w_i, targets_train_w_i)\n",
    "\n",
    "y_train_pred_w_i = logreg_w_i.predict_proba(scaled_train_w_i)"
   ]
  },
  {
   "cell_type": "code",
   "execution_count": 36,
   "metadata": {},
   "outputs": [
    {
     "name": "stdout",
     "output_type": "stream",
     "text": [
      "The AUC score of my training set:\n"
     ]
    },
    {
     "data": {
      "text/plain": [
       "0.7188713705819225"
      ]
     },
     "execution_count": 36,
     "metadata": {},
     "output_type": "execute_result"
    }
   ],
   "source": [
    "print('The AUC score of my training set:')\n",
    "roc_auc_score(targets_train_w_i, y_train_pred_w_i[:, 1])"
   ]
  },
  {
   "cell_type": "code",
   "execution_count": 37,
   "metadata": {},
   "outputs": [
    {
     "data": {
      "text/plain": [
       "0.6955755106977154"
      ]
     },
     "execution_count": 37,
     "metadata": {},
     "output_type": "execute_result"
    }
   ],
   "source": [
    "# AUC score for validation set\n",
    "y_val_pred_w_i = logreg_w_i.predict_proba(scaled_val_w_i)\n",
    "roc_auc_score(targets_val_w_i, y_val_pred_w_i[:, 1])"
   ]
  },
  {
   "cell_type": "markdown",
   "metadata": {},
   "source": [
    "# Hyperparam Selection - Predicting Weapon Simple Imputer"
   ]
  },
  {
   "cell_type": "code",
   "execution_count": 38,
   "metadata": {
    "id": "9aWBRBb8AJ7B"
   },
   "outputs": [],
   "source": [
    "# Lasso\n",
    "#creating 30 values for C between 1e-2 and 10 \n",
    "import numpy as np\n",
    "\n",
    "C_list_train_log = []\n",
    "C_range_log = []\n",
    "for i in np.logspace(-2,1,num=30):\n",
    "  C_range_log.append(i)\n",
    "\n",
    "#creating 20 instances of logistic regression for the 20 values of C\n",
    "for C_in_range in C_range_log:  \n",
    "  clf_l1_C_in_range = LogisticRegression(C=C_in_range, penalty='l1', solver='liblinear').fit(scaled_train_w, targets_train_w)\n",
    "  C_list_train_log.append(clf_l1_C_in_range)"
   ]
  },
  {
   "cell_type": "code",
   "execution_count": 39,
   "metadata": {
    "id": "o8sN7svLBM1y"
   },
   "outputs": [],
   "source": [
    "predicted_values_train = []\n",
    "predicted_values_val = []\n",
    "predicted_values_test = []\n",
    "for classifier in C_list_train_log:\n",
    "  pred_train = classifier.predict_proba(scaled_train_w)\n",
    "  pred_val = classifier.predict_proba(scaled_val_w)\n",
    "  pred_test = classifier.predict_proba(scaled_test_w)\n",
    "  predicted_values_train.append(pred_train)\n",
    "  predicted_values_val.append(pred_val)\n",
    "  predicted_values_test.append(pred_test)"
   ]
  },
  {
   "cell_type": "code",
   "execution_count": 40,
   "metadata": {
    "colab": {
     "base_uri": "https://localhost:8080/"
    },
    "id": "wpi2taapJBb_",
    "outputId": "ef6630ec-4276-446c-b04d-56a45522cc7b"
   },
   "outputs": [
    {
     "data": {
      "text/plain": [
       "30"
      ]
     },
     "execution_count": 40,
     "metadata": {},
     "output_type": "execute_result"
    }
   ],
   "source": [
    "len(predicted_values_test)"
   ]
  },
  {
   "cell_type": "code",
   "execution_count": 41,
   "metadata": {
    "colab": {
     "base_uri": "https://localhost:8080/"
    },
    "id": "9Y75eXiSBc6S",
    "outputId": "330fdb64-ba54-4930-bf5d-2804a8f872bd"
   },
   "outputs": [
    {
     "data": {
      "text/plain": [
       "[0.6495636084580086,\n",
       " 0.6561817846896411,\n",
       " 0.6596396553614298,\n",
       " 0.6639659090315859,\n",
       " 0.6699288453951612,\n",
       " 0.6732675408667275,\n",
       " 0.6757486671096583,\n",
       " 0.6792943157605846,\n",
       " 0.68406535096649,\n",
       " 0.6877685077668969,\n",
       " 0.6930915672732074,\n",
       " 0.6979123458198814,\n",
       " 0.7010675800946092,\n",
       " 0.7037335845111019,\n",
       " 0.7063684154396767,\n",
       " 0.709038894519507,\n",
       " 0.7112851755149405,\n",
       " 0.7128486228850691,\n",
       " 0.71416029586474,\n",
       " 0.7151717189344633,\n",
       " 0.7159756667807706,\n",
       " 0.7166851992306562,\n",
       " 0.7173492392699438,\n",
       " 0.7178205704748288,\n",
       " 0.7181038166640936,\n",
       " 0.7183281464527478,\n",
       " 0.7184541828034213,\n",
       " 0.7185635137443013,\n",
       " 0.7186097519321223,\n",
       " 0.7186756786386284]"
      ]
     },
     "execution_count": 41,
     "metadata": {},
     "output_type": "execute_result"
    }
   ],
   "source": [
    "# checking AUC score on training predictions with l1 regularization\n",
    "from sklearn import metrics \n",
    "auc_train = []\n",
    "for pred in predicted_values_train:\n",
    "  auc_list = metrics.roc_auc_score(y_true=targets_train_w, y_score=pred[:,1])\n",
    "  auc_train.append(auc_list)\n",
    "auc_train"
   ]
  },
  {
   "cell_type": "code",
   "execution_count": 42,
   "metadata": {
    "colab": {
     "base_uri": "https://localhost:8080/"
    },
    "id": "BDaLoYjJBg0v",
    "outputId": "c14e5734-a11b-47e5-b641-d3d933f43320"
   },
   "outputs": [
    {
     "data": {
      "text/plain": [
       "[0.6591910471227214,\n",
       " 0.6669119829804077,\n",
       " 0.6696070266288454,\n",
       " 0.6753633704949755,\n",
       " 0.6823064406183346,\n",
       " 0.6866671614222575,\n",
       " 0.6884750808100798,\n",
       " 0.6912017338434813,\n",
       " 0.6937167414297338,\n",
       " 0.6954724366163115,\n",
       " 0.6970151120346549,\n",
       " 0.7000393055830421,\n",
       " 0.7017846933614794,\n",
       " 0.7021392682015084,\n",
       " 0.7035836796622468,\n",
       " 0.7043876574971963,\n",
       " 0.7040482001891066,\n",
       " 0.7030710578973988,\n",
       " 0.7023110583371814,\n",
       " 0.7016293950788312,\n",
       " 0.7011250192404951,\n",
       " 0.7010082019482375,\n",
       " 0.7004392330188887,\n",
       " 0.699802922356356,\n",
       " 0.6989453459990764,\n",
       " 0.698353013611276,\n",
       " 0.6977991622138663,\n",
       " 0.6973744969984826,\n",
       " 0.6969690722782944,\n",
       " 0.6966227433647778]"
      ]
     },
     "execution_count": 42,
     "metadata": {},
     "output_type": "execute_result"
    }
   ],
   "source": [
    "# checking AUC score on validation predictions with l1 regularization\n",
    "auc_val = []\n",
    "for pred in predicted_values_val:\n",
    "  auc_list = metrics.roc_auc_score(y_true=targets_val_w, y_score=pred[:,1])\n",
    "  auc_val.append(auc_list)\n",
    "auc_val"
   ]
  },
  {
   "cell_type": "code",
   "execution_count": 44,
   "metadata": {
    "colab": {
     "base_uri": "https://localhost:8080/"
    },
    "id": "qtH_aDRXJSBa",
    "outputId": "aa371567-9ddb-4ace-850b-f9075be6f634"
   },
   "outputs": [
    {
     "data": {
      "text/plain": [
       "(2328,)"
      ]
     },
     "execution_count": 44,
     "metadata": {},
     "output_type": "execute_result"
    }
   ],
   "source": [
    "predicted_values_test[0][:,1].shape"
   ]
  },
  {
   "cell_type": "code",
   "execution_count": 45,
   "metadata": {
    "colab": {
     "base_uri": "https://localhost:8080/"
    },
    "id": "Sg4OIGkwCPSj",
    "outputId": "9fb8b8ed-a2e4-4acb-fa48-e7bfcf798215"
   },
   "outputs": [
    {
     "data": {
      "text/plain": [
       "[0.667694659321769,\n",
       " 0.6751427224957024,\n",
       " 0.6789946427176122,\n",
       " 0.6827940645022661,\n",
       " 0.6869768469682763,\n",
       " 0.6885127314814814,\n",
       " 0.689095708313799,\n",
       " 0.6900449533130177,\n",
       " 0.6904759288560712,\n",
       " 0.6906395286372871,\n",
       " 0.6937399886701047,\n",
       " 0.6983610720425066,\n",
       " 0.7012545905610252,\n",
       " 0.7035327785591499,\n",
       " 0.705154125644632,\n",
       " 0.7052969702297234,\n",
       " 0.7051980778246602,\n",
       " 0.7050674421784653,\n",
       " 0.7048806454133458,\n",
       " 0.7046535591498673,\n",
       " 0.7038782915299265,\n",
       " 0.70290279731208,\n",
       " 0.701877246444757,\n",
       " 0.7010482594936709,\n",
       " 0.7004671140021879,\n",
       " 0.6999286997968432,\n",
       " 0.6994415631348647,\n",
       " 0.6991058173152055,\n",
       " 0.6988201281450226,\n",
       " 0.6986235642287857]"
      ]
     },
     "execution_count": 45,
     "metadata": {},
     "output_type": "execute_result"
    }
   ],
   "source": [
    "# checking AUC score on test predictions with l1 regularization\n",
    "auc_test = []\n",
    "for pred in predicted_values_test:\n",
    "  auc_list = metrics.roc_auc_score(y_true=targets_test_w, y_score=pred[:,1])\n",
    "  auc_test.append(auc_list)\n",
    "auc_test"
   ]
  },
  {
   "cell_type": "code",
   "execution_count": 46,
   "metadata": {
    "colab": {
     "base_uri": "https://localhost:8080/",
     "height": 409
    },
    "id": "Qd1B3y9OCXFk",
    "outputId": "a4d7bfa3-e096-4b3f-c1c1-f3f1b41b533a"
   },
   "outputs": [
    {
     "data": {
      "image/png": "[encoded data removed]",
      "text/plain": [
       "<Figure size 576x432 with 1 Axes>"
      ]
     },
     "metadata": {
      "needs_background": "light"
     },
     "output_type": "display_data"
    }
   ],
   "source": [
    "#plotting regularization strength vs. AUC score for train, val, and test\n",
    "plt.figure(figsize=(8, 6))\n",
    "plt.semilogx(C_range_log, auc_train, label='Train')\n",
    "plt.semilogx(C_range_log, auc_val, label='Validation')\n",
    "#plt.semilogx(C_range_log, auc_test, label='Test')\n",
    "plt.xlabel(\"Strength of Regularization Parameter\")\n",
    "plt.ylabel(\"AUC Score\")\n",
    "plt.title(\"AUC Score for Different Values of C (Regularization Parameter)\", size=14)\n",
    "plt.grid()\n",
    "plt.legend()\n",
    "plt.show()"
   ]
  },
  {
   "cell_type": "code",
   "execution_count": 47,
   "metadata": {
    "id": "eS15inUON-EN"
   },
   "outputs": [],
   "source": [
    "# Choose C hyperparam where validation performs best"
   ]
  },
  {
   "cell_type": "markdown",
   "metadata": {
    "id": "mm9SKHuBrByi"
   },
   "source": [
    "# DIMENSIONALITY REDUCTION"
   ]
  },
  {
   "cell_type": "markdown",
   "metadata": {},
   "source": [
    "### FAMD"
   ]
  },
  {
   "cell_type": "code",
   "execution_count": 48,
   "metadata": {},
   "outputs": [],
   "source": [
    "# sqf_dr = sqf_cpw_filter_simpimp[['LOCATION_IN_OUT_CODE', 'OBSERVED_DURATION_MINUTES',\n",
    "#                                 'JURISDICTION_CODE', 'STOP_DURATION_MINUTES', 'OFFICER_IN_UNIFORM_FLAG',\n",
    "#                                 'STOP_WAS_INITIATED', 'SUSPECT_SEX', 'SUSPECT_RACE_DESCRIPTION',\n",
    "#                                 'SUSPECT_REPORTED_AGE', 'SUSPECT_WEIGHT', 'SUSPECT_BODY_BUILD_TYPE',\n",
    "#                                 'SUSPECT_HEIGHT', 'STOP_FRISK_TIME', 'MONTH2']]"
   ]
  },
  {
   "cell_type": "code",
   "execution_count": 49,
   "metadata": {},
   "outputs": [],
   "source": [
    "sqf_cpw_filter_simpimp = sqf_cpw_filter_simpimp.astype({'YEAR2': 'object'})"
   ]
  },
  {
   "cell_type": "code",
   "execution_count": 50,
   "metadata": {},
   "outputs": [],
   "source": [
    "sqf_dr = sqf_cpw_filter_simpimp.drop(columns=['FRISKED_FLAG', 'WEAPON_FOUND_FLAG'])\n",
    "sqf_dr_num = sqf_dr.select_dtypes(['float64', 'int64'])\n",
    "sqf_dr_cat = sqf_dr.select_dtypes(['object', 'string'])\n",
    "\n",
    "scaler_famd = StandardScaler()\n",
    "train_dr_num = scaler_famd.fit_transform(sqf_dr_num)\n",
    "train_dr_num_df = pd.DataFrame(train_dr_num, index=sqf_dr_num.index, columns=sqf_dr_num.columns)\n",
    "sqf_dr = pd.merge(train_dr_num_df, sqf_dr_cat, left_index=True, right_index=True)"
   ]
  },
  {
   "cell_type": "code",
   "execution_count": 51,
   "metadata": {},
   "outputs": [],
   "source": [
    "sqf_famd = sqf_dr[['LOCATION_IN_OUT_CODE', 'OBSERVED_DURATION_MINUTES',\n",
    "                                'JURISDICTION_CODE', 'STOP_DURATION_MINUTES', 'OFFICER_IN_UNIFORM_FLAG',\n",
    "                                'STOP_WAS_INITIATED', 'SUSPECT_SEX', 'SUSPECT_RACE_DESCRIPTION',\n",
    "                                'SUSPECT_REPORTED_AGE', 'SUSPECT_WEIGHT', 'SUSPECT_BODY_BUILD_TYPE',\n",
    "                                'SUSPECT_HEIGHT', 'STOP_FRISK_TIME']]"
   ]
  },
  {
   "cell_type": "code",
   "execution_count": 52,
   "metadata": {
    "id": "QUu8rZ3kj54n"
   },
   "outputs": [
    {
     "data": {
      "text/plain": [
       "array([0.11928708, 0.08575533, 0.07991801, 0.07355764, 0.06636375,\n",
       "       0.06177326, 0.05712362, 0.05062703, 0.04236867, 0.03892719,\n",
       "       0.03606277, 0.03391645, 0.03229201, 0.03185776, 0.03018125,\n",
       "       0.02988059, 0.02905831, 0.0286271 , 0.02722835, 0.02448693])"
      ]
     },
     "execution_count": 52,
     "metadata": {},
     "output_type": "execute_result"
    }
   ],
   "source": [
    "from prince import FAMD\n",
    "famd = FAMD(n_components = 20, random_state = 101)\n",
    "\n",
    "famd.fit(sqf_famd)\n",
    "famd.transform(sqf_famd)\n",
    "famd.explained_inertia_"
   ]
  },
  {
   "cell_type": "code",
   "execution_count": 53,
   "metadata": {},
   "outputs": [
    {
     "data": {
      "text/plain": [
       "0.9792930808753596"
      ]
     },
     "execution_count": 53,
     "metadata": {},
     "output_type": "execute_result"
    }
   ],
   "source": [
    "famd.explained_inertia_.sum()"
   ]
  },
  {
   "cell_type": "markdown",
   "metadata": {},
   "source": [
    "### PCA"
   ]
  },
  {
   "cell_type": "code",
   "execution_count": 54,
   "metadata": {},
   "outputs": [],
   "source": [
    "# OHE\n",
    "\n",
    "sqf_ohe = pd.get_dummies(sqf_cpw_filter_simpimp, drop_first=True, columns=['YEAR2', 'STOP_LOCATION_PRECINCT', \n",
    "                                                                   'LOCATION_IN_OUT_CODE', \n",
    "                                                                   'OFFICER_IN_UNIFORM_FLAG', 'FRISKED_FLAG', \n",
    "                                                                   'STOP_WAS_INITIATED', 'JURISDICTION_CODE', \n",
    "                                                                   'SUSPECT_SEX', 'WEAPON_FOUND_FLAG', \n",
    "                                                                   'SUSPECT_RACE_DESCRIPTION', \n",
    "                                                                   'SUSPECT_BODY_BUILD_TYPE', \n",
    "                                                                   'MONTH2', 'DAY2'])"
   ]
  },
  {
   "cell_type": "code",
   "execution_count": 55,
   "metadata": {},
   "outputs": [],
   "source": [
    "# imputation (ascending order of missing values)\n",
    "\n",
    "# from sklearn.experimental import enable_iterative_imputer\n",
    "# from sklearn.impute import IterativeImputer\n",
    "\n",
    "# imputer = IterativeImputer(random_state=0)\n",
    "# imputed = imputer.fit_transform(sqf_ohe)\n",
    "# df_imputed = pd.DataFrame(imputed, columns=sqf_ohe.columns)"
   ]
  },
  {
   "cell_type": "code",
   "execution_count": 56,
   "metadata": {},
   "outputs": [],
   "source": [
    "df_imputed_dr = sqf_ohe"
   ]
  },
  {
   "cell_type": "code",
   "execution_count": 57,
   "metadata": {},
   "outputs": [],
   "source": [
    "from sklearn.model_selection import train_test_split\n",
    "\n",
    "train_dr, test_dr = train_test_split(df_imputed_dr, test_size=0.2, random_state=1)\n",
    "\n",
    "train_dr, val_dr = train_test_split(train_dr, test_size=0.25, random_state=1)"
   ]
  },
  {
   "cell_type": "code",
   "execution_count": 58,
   "metadata": {},
   "outputs": [],
   "source": [
    "train_targets_pca = train_dr['FRISKED_FLAG_Y']\n",
    "train_dr = train_dr.drop(columns='FRISKED_FLAG_Y')\n",
    "val_targets_pca = val_dr['FRISKED_FLAG_Y']\n",
    "val_dr = val_dr.drop(columns='FRISKED_FLAG_Y')\n",
    "test_targets_pca = test_dr['FRISKED_FLAG_Y']\n",
    "test_dr = test_dr.drop(columns='FRISKED_FLAG_Y')"
   ]
  },
  {
   "cell_type": "code",
   "execution_count": 59,
   "metadata": {},
   "outputs": [],
   "source": [
    "from sklearn.preprocessing import StandardScaler\n",
    "\n",
    "scaler_pca = StandardScaler()\n",
    "train_pca = scaler_pca.fit_transform(train_dr)\n",
    "train_pca_df = pd.DataFrame(train_pca, index=train_dr.index, columns=train_dr.columns)\n",
    "val_pca = scaler_pca.transform(val_dr)\n",
    "val_pca_df = pd.DataFrame(val_pca, index=val_dr.index, columns=val_dr.columns)\n",
    "test_pca = scaler_pca.transform(test_dr)\n",
    "test_pca_df = pd.DataFrame(test_pca, index=test_dr.index, columns=test_dr.columns)"
   ]
  },
  {
   "cell_type": "code",
   "execution_count": 60,
   "metadata": {},
   "outputs": [
    {
     "data": {
      "text/plain": [
       "(7818, 120)"
      ]
     },
     "execution_count": 60,
     "metadata": {},
     "output_type": "execute_result"
    }
   ],
   "source": [
    "train_pca_df.shape"
   ]
  },
  {
   "cell_type": "code",
   "execution_count": 61,
   "metadata": {},
   "outputs": [],
   "source": [
    "from sklearn.decomposition import PCA\n",
    "\n",
    "n_components = np.linspace(1, train_pca_df.shape[1], train_pca_df.shape[1], dtype=int)\n",
    "explained_variance_marginal = []\n",
    "explained_variance_cumulative = []\n",
    "\n",
    "for i in n_components:\n",
    "  pca = PCA(n_components=i)\n",
    "  pca.fit(train_pca_df)\n",
    "  explained_variance_marginal.append(pca.explained_variance_ratio_[i-1])\n",
    "  explained_variance_cumulative.append(np.sum(pca.explained_variance_ratio_))"
   ]
  },
  {
   "cell_type": "code",
   "execution_count": 62,
   "metadata": {
    "id": "PS9rq4bDssfP"
   },
   "outputs": [
    {
     "data": {
      "image/png": "[encoded data removed]",
      "text/plain": [
       "<Figure size 1080x432 with 2 Axes>"
      ]
     },
     "metadata": {
      "needs_background": "light"
     },
     "output_type": "display_data"
    }
   ],
   "source": [
    "# figure for report\n",
    "fig, axes = plt.subplots(nrows=1, ncols=2, figsize=(15, 6))\n",
    "\n",
    "axes[0].plot(n_components, explained_variance_marginal)\n",
    "#axes[0].scatter(n_components, explained_variance_marginal)\n",
    "axes[0].set_xlabel(\"Number of Principal Components\")\n",
    "axes[0].set_ylabel(\"Variance Explained - Marginal\")\n",
    "axes[0].set_title(\"Variance Explained by Principal Components (Marginal)\", size=14)\n",
    "axes[0].grid()\n",
    "\n",
    "#axes[1].scatter(n_components, explained_variance_cumulative, color='red')\n",
    "axes[1].plot(n_components, explained_variance_cumulative, color='red')\n",
    "axes[1].set_xlabel(\"Number of Principal Components\")\n",
    "axes[1].set_ylabel(\"Variance Explained - Cumulative\")\n",
    "axes[1].set_title(\"Variance Explained by Principal Components (Cumulative)\", size=14)\n",
    "axes[1].grid()"
   ]
  },
  {
   "cell_type": "code",
   "execution_count": 63,
   "metadata": {},
   "outputs": [],
   "source": [
    "n_comp = 90"
   ]
  },
  {
   "cell_type": "code",
   "execution_count": 64,
   "metadata": {},
   "outputs": [
    {
     "data": {
      "text/plain": [
       "0.8516446465478101"
      ]
     },
     "execution_count": 64,
     "metadata": {},
     "output_type": "execute_result"
    }
   ],
   "source": [
    "# train pca\n",
    "pca = PCA(n_components=n_comp)\n",
    "pca_train_data = pca.fit_transform(train_pca_df)\n",
    "pca.explained_variance_ratio_.sum()"
   ]
  },
  {
   "cell_type": "code",
   "execution_count": 65,
   "metadata": {},
   "outputs": [],
   "source": [
    "# val pca\n",
    "pca_val_data = pca.transform(val_pca_df)"
   ]
  },
  {
   "cell_type": "code",
   "execution_count": 66,
   "metadata": {},
   "outputs": [],
   "source": [
    "# test pca\n",
    "pca_test_data = pca.transform(test_pca_df)"
   ]
  },
  {
   "cell_type": "code",
   "execution_count": 67,
   "metadata": {
    "id": "6PZv3Elr8dVu"
   },
   "outputs": [],
   "source": [
    "cols = np.linspace(1, n_comp, 90, dtype=int)\n",
    "pca_train_data_df = pd.DataFrame(data = pca_train_data, columns=cols, index=train_pca_df.index)\n",
    "pca_val_data_df = pd.DataFrame(data = pca_val_data, columns=cols, index=val_pca_df.index)\n",
    "pca_test_data_df = pd.DataFrame(data = pca_test_data, columns=cols, index=test_pca_df.index)"
   ]
  },
  {
   "cell_type": "code",
   "execution_count": 68,
   "metadata": {},
   "outputs": [
    {
     "data": {
      "text/html": [
       "<div>\n",
       "<style scoped>\n",
       "    .dataframe tbody tr th:only-of-type {\n",
       "        vertical-align: middle;\n",
       "    }\n",
       "\n",
       "    .dataframe tbody tr th {\n",
       "        vertical-align: top;\n",
       "    }\n",
       "\n",
       "    .dataframe thead th {\n",
       "        text-align: right;\n",
       "    }\n",
       "</style>\n",
       "<table border=\"1\" class=\"dataframe\">\n",
       "  <thead>\n",
       "    <tr style=\"text-align: right;\">\n",
       "      <th></th>\n",
       "      <th>1</th>\n",
       "      <th>2</th>\n",
       "      <th>3</th>\n",
       "      <th>4</th>\n",
       "      <th>5</th>\n",
       "      <th>6</th>\n",
       "      <th>7</th>\n",
       "      <th>8</th>\n",
       "      <th>9</th>\n",
       "      <th>10</th>\n",
       "      <th>...</th>\n",
       "      <th>81</th>\n",
       "      <th>82</th>\n",
       "      <th>83</th>\n",
       "      <th>84</th>\n",
       "      <th>85</th>\n",
       "      <th>86</th>\n",
       "      <th>87</th>\n",
       "      <th>88</th>\n",
       "      <th>89</th>\n",
       "      <th>90</th>\n",
       "    </tr>\n",
       "  </thead>\n",
       "  <tbody>\n",
       "    <tr>\n",
       "      <th>9788</th>\n",
       "      <td>-0.877722</td>\n",
       "      <td>0.701669</td>\n",
       "      <td>-2.373210</td>\n",
       "      <td>-0.318890</td>\n",
       "      <td>0.924593</td>\n",
       "      <td>-0.215780</td>\n",
       "      <td>1.494004</td>\n",
       "      <td>0.113207</td>\n",
       "      <td>0.386991</td>\n",
       "      <td>-0.815593</td>\n",
       "      <td>...</td>\n",
       "      <td>-0.932205</td>\n",
       "      <td>0.244337</td>\n",
       "      <td>1.008629</td>\n",
       "      <td>1.168532</td>\n",
       "      <td>0.239080</td>\n",
       "      <td>-0.021355</td>\n",
       "      <td>-0.136028</td>\n",
       "      <td>-0.271826</td>\n",
       "      <td>0.508893</td>\n",
       "      <td>-0.935239</td>\n",
       "    </tr>\n",
       "    <tr>\n",
       "      <th>4689</th>\n",
       "      <td>-0.599644</td>\n",
       "      <td>-1.043546</td>\n",
       "      <td>-0.512187</td>\n",
       "      <td>-1.817138</td>\n",
       "      <td>1.503905</td>\n",
       "      <td>-0.482509</td>\n",
       "      <td>-2.389607</td>\n",
       "      <td>0.100669</td>\n",
       "      <td>-0.450648</td>\n",
       "      <td>-0.543399</td>\n",
       "      <td>...</td>\n",
       "      <td>0.236668</td>\n",
       "      <td>0.157176</td>\n",
       "      <td>2.225785</td>\n",
       "      <td>-1.339017</td>\n",
       "      <td>0.451801</td>\n",
       "      <td>-0.022471</td>\n",
       "      <td>-0.706598</td>\n",
       "      <td>-0.616914</td>\n",
       "      <td>1.450791</td>\n",
       "      <td>-1.024413</td>\n",
       "    </tr>\n",
       "    <tr>\n",
       "      <th>606</th>\n",
       "      <td>-0.577328</td>\n",
       "      <td>-1.453399</td>\n",
       "      <td>3.308285</td>\n",
       "      <td>-1.310959</td>\n",
       "      <td>1.609205</td>\n",
       "      <td>-1.332767</td>\n",
       "      <td>0.856375</td>\n",
       "      <td>0.588939</td>\n",
       "      <td>0.088185</td>\n",
       "      <td>-0.367480</td>\n",
       "      <td>...</td>\n",
       "      <td>0.738006</td>\n",
       "      <td>1.086876</td>\n",
       "      <td>-1.844422</td>\n",
       "      <td>-1.180252</td>\n",
       "      <td>-1.035052</td>\n",
       "      <td>1.268832</td>\n",
       "      <td>-0.142638</td>\n",
       "      <td>-0.582271</td>\n",
       "      <td>-1.024587</td>\n",
       "      <td>0.225339</td>\n",
       "    </tr>\n",
       "    <tr>\n",
       "      <th>3430</th>\n",
       "      <td>-0.453356</td>\n",
       "      <td>1.300107</td>\n",
       "      <td>-0.080650</td>\n",
       "      <td>-0.804677</td>\n",
       "      <td>0.855590</td>\n",
       "      <td>2.867112</td>\n",
       "      <td>0.740307</td>\n",
       "      <td>0.605202</td>\n",
       "      <td>2.474055</td>\n",
       "      <td>0.277049</td>\n",
       "      <td>...</td>\n",
       "      <td>0.158250</td>\n",
       "      <td>0.390905</td>\n",
       "      <td>0.796493</td>\n",
       "      <td>-0.257921</td>\n",
       "      <td>1.045873</td>\n",
       "      <td>0.078038</td>\n",
       "      <td>-0.650096</td>\n",
       "      <td>-0.361819</td>\n",
       "      <td>0.137806</td>\n",
       "      <td>-0.273457</td>\n",
       "    </tr>\n",
       "    <tr>\n",
       "      <th>9957</th>\n",
       "      <td>-0.090787</td>\n",
       "      <td>0.317778</td>\n",
       "      <td>-0.796296</td>\n",
       "      <td>2.832912</td>\n",
       "      <td>-0.876554</td>\n",
       "      <td>-0.597788</td>\n",
       "      <td>-0.379632</td>\n",
       "      <td>1.311252</td>\n",
       "      <td>0.197554</td>\n",
       "      <td>-0.923432</td>\n",
       "      <td>...</td>\n",
       "      <td>1.208186</td>\n",
       "      <td>0.573648</td>\n",
       "      <td>-0.516711</td>\n",
       "      <td>0.794704</td>\n",
       "      <td>-1.159985</td>\n",
       "      <td>2.474268</td>\n",
       "      <td>-0.414873</td>\n",
       "      <td>0.046118</td>\n",
       "      <td>1.341231</td>\n",
       "      <td>1.482122</td>\n",
       "    </tr>\n",
       "    <tr>\n",
       "      <th>...</th>\n",
       "      <td>...</td>\n",
       "      <td>...</td>\n",
       "      <td>...</td>\n",
       "      <td>...</td>\n",
       "      <td>...</td>\n",
       "      <td>...</td>\n",
       "      <td>...</td>\n",
       "      <td>...</td>\n",
       "      <td>...</td>\n",
       "      <td>...</td>\n",
       "      <td>...</td>\n",
       "      <td>...</td>\n",
       "      <td>...</td>\n",
       "      <td>...</td>\n",
       "      <td>...</td>\n",
       "      <td>...</td>\n",
       "      <td>...</td>\n",
       "      <td>...</td>\n",
       "      <td>...</td>\n",
       "      <td>...</td>\n",
       "      <td>...</td>\n",
       "    </tr>\n",
       "    <tr>\n",
       "      <th>592</th>\n",
       "      <td>0.720859</td>\n",
       "      <td>1.225139</td>\n",
       "      <td>0.708605</td>\n",
       "      <td>-3.248945</td>\n",
       "      <td>-0.940651</td>\n",
       "      <td>-0.556204</td>\n",
       "      <td>0.508873</td>\n",
       "      <td>-1.400606</td>\n",
       "      <td>-0.129056</td>\n",
       "      <td>-0.169739</td>\n",
       "      <td>...</td>\n",
       "      <td>-0.747951</td>\n",
       "      <td>-1.123049</td>\n",
       "      <td>-0.503342</td>\n",
       "      <td>0.632312</td>\n",
       "      <td>-1.100545</td>\n",
       "      <td>1.144033</td>\n",
       "      <td>-2.204627</td>\n",
       "      <td>-0.230863</td>\n",
       "      <td>-0.729123</td>\n",
       "      <td>-0.072412</td>\n",
       "    </tr>\n",
       "    <tr>\n",
       "      <th>9794</th>\n",
       "      <td>-0.921106</td>\n",
       "      <td>0.800033</td>\n",
       "      <td>-1.793316</td>\n",
       "      <td>0.023304</td>\n",
       "      <td>0.838891</td>\n",
       "      <td>0.092380</td>\n",
       "      <td>0.938094</td>\n",
       "      <td>-0.692154</td>\n",
       "      <td>0.773398</td>\n",
       "      <td>-0.417250</td>\n",
       "      <td>...</td>\n",
       "      <td>-0.864795</td>\n",
       "      <td>0.098628</td>\n",
       "      <td>0.883986</td>\n",
       "      <td>0.719961</td>\n",
       "      <td>-0.312533</td>\n",
       "      <td>0.025536</td>\n",
       "      <td>-0.320337</td>\n",
       "      <td>-0.723347</td>\n",
       "      <td>0.511072</td>\n",
       "      <td>-0.540470</td>\n",
       "    </tr>\n",
       "    <tr>\n",
       "      <th>10189</th>\n",
       "      <td>-0.928365</td>\n",
       "      <td>0.064577</td>\n",
       "      <td>0.393432</td>\n",
       "      <td>1.264929</td>\n",
       "      <td>0.918514</td>\n",
       "      <td>-2.148756</td>\n",
       "      <td>1.432457</td>\n",
       "      <td>-0.395539</td>\n",
       "      <td>1.194871</td>\n",
       "      <td>-0.245396</td>\n",
       "      <td>...</td>\n",
       "      <td>0.067492</td>\n",
       "      <td>0.755275</td>\n",
       "      <td>-1.102690</td>\n",
       "      <td>-0.689267</td>\n",
       "      <td>-1.089510</td>\n",
       "      <td>0.112751</td>\n",
       "      <td>0.622422</td>\n",
       "      <td>0.898882</td>\n",
       "      <td>0.626362</td>\n",
       "      <td>-0.374219</td>\n",
       "    </tr>\n",
       "    <tr>\n",
       "      <th>4034</th>\n",
       "      <td>0.085889</td>\n",
       "      <td>-2.868541</td>\n",
       "      <td>0.148334</td>\n",
       "      <td>-0.803243</td>\n",
       "      <td>-0.082360</td>\n",
       "      <td>-0.626974</td>\n",
       "      <td>-2.443424</td>\n",
       "      <td>1.356737</td>\n",
       "      <td>0.130485</td>\n",
       "      <td>-0.649704</td>\n",
       "      <td>...</td>\n",
       "      <td>0.101081</td>\n",
       "      <td>0.418767</td>\n",
       "      <td>-0.270233</td>\n",
       "      <td>0.741918</td>\n",
       "      <td>-0.272809</td>\n",
       "      <td>-0.352912</td>\n",
       "      <td>-0.494070</td>\n",
       "      <td>-0.664341</td>\n",
       "      <td>-1.011239</td>\n",
       "      <td>1.102381</td>\n",
       "    </tr>\n",
       "    <tr>\n",
       "      <th>2617</th>\n",
       "      <td>-0.495992</td>\n",
       "      <td>-0.874448</td>\n",
       "      <td>2.273114</td>\n",
       "      <td>-1.405725</td>\n",
       "      <td>0.365407</td>\n",
       "      <td>-2.220731</td>\n",
       "      <td>0.012089</td>\n",
       "      <td>0.597311</td>\n",
       "      <td>1.254459</td>\n",
       "      <td>-0.598466</td>\n",
       "      <td>...</td>\n",
       "      <td>1.068159</td>\n",
       "      <td>0.085254</td>\n",
       "      <td>0.828282</td>\n",
       "      <td>0.058034</td>\n",
       "      <td>0.738726</td>\n",
       "      <td>-1.683510</td>\n",
       "      <td>0.655742</td>\n",
       "      <td>1.262485</td>\n",
       "      <td>0.203902</td>\n",
       "      <td>-0.331893</td>\n",
       "    </tr>\n",
       "  </tbody>\n",
       "</table>\n",
       "<p>7818 rows × 90 columns</p>\n",
       "</div>"
      ],
      "text/plain": [
       "             1         2         3         4         5         6         7   \\\n",
       "9788  -0.877722  0.701669 -2.373210 -0.318890  0.924593 -0.215780  1.494004   \n",
       "4689  -0.599644 -1.043546 -0.512187 -1.817138  1.503905 -0.482509 -2.389607   \n",
       "606   -0.577328 -1.453399  3.308285 -1.310959  1.609205 -1.332767  0.856375   \n",
       "3430  -0.453356  1.300107 -0.080650 -0.804677  0.855590  2.867112  0.740307   \n",
       "9957  -0.090787  0.317778 -0.796296  2.832912 -0.876554 -0.597788 -0.379632   \n",
       "...         ...       ...       ...       ...       ...       ...       ...   \n",
       "592    0.720859  1.225139  0.708605 -3.248945 -0.940651 -0.556204  0.508873   \n",
       "9794  -0.921106  0.800033 -1.793316  0.023304  0.838891  0.092380  0.938094   \n",
       "10189 -0.928365  0.064577  0.393432  1.264929  0.918514 -2.148756  1.432457   \n",
       "4034   0.085889 -2.868541  0.148334 -0.803243 -0.082360 -0.626974 -2.443424   \n",
       "2617  -0.495992 -0.874448  2.273114 -1.405725  0.365407 -2.220731  0.012089   \n",
       "\n",
       "             8         9         10  ...        81        82        83  \\\n",
       "9788   0.113207  0.386991 -0.815593  ... -0.932205  0.244337  1.008629   \n",
       "4689   0.100669 -0.450648 -0.543399  ...  0.236668  0.157176  2.225785   \n",
       "606    0.588939  0.088185 -0.367480  ...  0.738006  1.086876 -1.844422   \n",
       "3430   0.605202  2.474055  0.277049  ...  0.158250  0.390905  0.796493   \n",
       "9957   1.311252  0.197554 -0.923432  ...  1.208186  0.573648 -0.516711   \n",
       "...         ...       ...       ...  ...       ...       ...       ...   \n",
       "592   -1.400606 -0.129056 -0.169739  ... -0.747951 -1.123049 -0.503342   \n",
       "9794  -0.692154  0.773398 -0.417250  ... -0.864795  0.098628  0.883986   \n",
       "10189 -0.395539  1.194871 -0.245396  ...  0.067492  0.755275 -1.102690   \n",
       "4034   1.356737  0.130485 -0.649704  ...  0.101081  0.418767 -0.270233   \n",
       "2617   0.597311  1.254459 -0.598466  ...  1.068159  0.085254  0.828282   \n",
       "\n",
       "             84        85        86        87        88        89        90  \n",
       "9788   1.168532  0.239080 -0.021355 -0.136028 -0.271826  0.508893 -0.935239  \n",
       "4689  -1.339017  0.451801 -0.022471 -0.706598 -0.616914  1.450791 -1.024413  \n",
       "606   -1.180252 -1.035052  1.268832 -0.142638 -0.582271 -1.024587  0.225339  \n",
       "3430  -0.257921  1.045873  0.078038 -0.650096 -0.361819  0.137806 -0.273457  \n",
       "9957   0.794704 -1.159985  2.474268 -0.414873  0.046118  1.341231  1.482122  \n",
       "...         ...       ...       ...       ...       ...       ...       ...  \n",
       "592    0.632312 -1.100545  1.144033 -2.204627 -0.230863 -0.729123 -0.072412  \n",
       "9794   0.719961 -0.312533  0.025536 -0.320337 -0.723347  0.511072 -0.540470  \n",
       "10189 -0.689267 -1.089510  0.112751  0.622422  0.898882  0.626362 -0.374219  \n",
       "4034   0.741918 -0.272809 -0.352912 -0.494070 -0.664341 -1.011239  1.102381  \n",
       "2617   0.058034  0.738726 -1.683510  0.655742  1.262485  0.203902 -0.331893  \n",
       "\n",
       "[7818 rows x 90 columns]"
      ]
     },
     "execution_count": 68,
     "metadata": {},
     "output_type": "execute_result"
    }
   ],
   "source": [
    "pca_train_data_df"
   ]
  },
  {
   "cell_type": "code",
   "execution_count": 69,
   "metadata": {
    "id": "I1kgck5A2qDF"
   },
   "outputs": [],
   "source": [
    "from sklearn.linear_model import LogisticRegression\n",
    "\n",
    "logreg_pca = LogisticRegression(penalty='l2', max_iter=1000)\n",
    "\n",
    "logreg_pca.fit(pca_train_data_df, train_targets_pca)\n",
    "\n",
    "y_train_pred_pca = logreg_pca.predict_proba(pca_train_data_df)"
   ]
  },
  {
   "cell_type": "code",
   "execution_count": 70,
   "metadata": {
    "colab": {
     "base_uri": "https://localhost:8080/"
    },
    "id": "r9P7es3V2wqM",
    "outputId": "d14b3d35-2d7a-46a3-865b-9a90d1d77dcd"
   },
   "outputs": [
    {
     "name": "stdout",
     "output_type": "stream",
     "text": [
      "The AUC score of my training set:\n"
     ]
    },
    {
     "data": {
      "text/plain": [
       "0.6979957896842091"
      ]
     },
     "execution_count": 70,
     "metadata": {},
     "output_type": "execute_result"
    }
   ],
   "source": [
    "from sklearn.metrics import roc_auc_score\n",
    "print('The AUC score of my training set:')\n",
    "roc_auc_score(train_targets_pca, y_train_pred_pca[:, 1])"
   ]
  },
  {
   "cell_type": "code",
   "execution_count": 71,
   "metadata": {
    "colab": {
     "base_uri": "https://localhost:8080/"
    },
    "id": "BYhrXN453kfs",
    "outputId": "3a2e94e5-17d7-458d-b097-a1e4eeb0809d"
   },
   "outputs": [
    {
     "data": {
      "text/plain": [
       "0.6154265446505344"
      ]
     },
     "execution_count": 71,
     "metadata": {},
     "output_type": "execute_result"
    }
   ],
   "source": [
    "# AUC score for validation set\n",
    "y_val_pred_pca = logreg_pca.predict_proba(pca_val_data)\n",
    "roc_auc_score(val_targets_pca, y_val_pred_pca[:, 1])"
   ]
  },
  {
   "cell_type": "code",
   "execution_count": 72,
   "metadata": {},
   "outputs": [],
   "source": [
    "comp_matrix = pca.components_[0:90, :]"
   ]
  },
  {
   "cell_type": "code",
   "execution_count": 73,
   "metadata": {},
   "outputs": [
    {
     "data": {
      "text/plain": [
       "(90, 120)"
      ]
     },
     "execution_count": 73,
     "metadata": {},
     "output_type": "execute_result"
    }
   ],
   "source": [
    "comp_matrix.shape"
   ]
  },
  {
   "cell_type": "code",
   "execution_count": null,
   "metadata": {},
   "outputs": [],
   "source": [
    "# # Convert component matrix to df for easy interpretation\n",
    "# comp_matrix_df = pd.DataFrame(comp_matrix, columns=cols, index=np.linspace(0, 120, 120))"
   ]
  },
  {
   "cell_type": "code",
   "execution_count": null,
   "metadata": {},
   "outputs": [],
   "source": []
  }
 ],
 "metadata": {
  "colab": {
   "collapsed_sections": [],
   "name": "ek_working_file.ipynb",
   "provenance": []
  },
  "kernelspec": {
   "display_name": "Python 3",
   "language": "python",
   "name": "python3"
  },
  "language_info": {
   "codemirror_mode": {
    "name": "ipython",
    "version": 3
   },
   "file_extension": ".py",
   "mimetype": "text/x-python",
   "name": "python",
   "nbconvert_exporter": "python",
   "pygments_lexer": "ipython3",
   "version": "3.7.4"
  }
 },
 "nbformat": 4,
 "nbformat_minor": 1
}
