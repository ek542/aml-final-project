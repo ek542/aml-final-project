{
 "cells": [
  {
   "cell_type": "code",
   "execution_count": 1,
   "id": "fitting-punishment",
   "metadata": {},
   "outputs": [],
   "source": [
    "import numpy as np\n",
    "import pandas as pd\n",
    "import matplotlib.pyplot as plt\n",
    "%matplotlib inline\n",
    "import inflect\n",
    "from sklearn.model_selection import train_test_split\n",
    "from sklearn.preprocessing import StandardScaler\n",
    "from sklearn.metrics import roc_auc_score\n",
    "from sklearn.svm import SVC\n",
    "from sklearn.ensemble import RandomForestClassifier\n",
    "from sklearn.metrics import plot_confusion_matrix"
   ]
  },
  {
   "cell_type": "code",
   "execution_count": 2,
   "id": "advance-screw",
   "metadata": {},
   "outputs": [],
   "source": [
    "pd.options.mode.chained_assignment = None"
   ]
  },
  {
   "cell_type": "code",
   "execution_count": 3,
   "id": "subjective-torture",
   "metadata": {},
   "outputs": [],
   "source": [
    "sqf_cpw_filter = pd.read_csv('clean_sqf.csv')"
   ]
  },
  {
   "cell_type": "code",
   "execution_count": 343,
   "id": "another-scott",
   "metadata": {},
   "outputs": [
    {
     "data": {
      "text/plain": [
       "N    10800\n",
       "Y     2231\n",
       "Name: WEAPON_FOUND_FLAG, dtype: int64"
      ]
     },
     "execution_count": 343,
     "metadata": {},
     "output_type": "execute_result"
    }
   ],
   "source": [
    "sqf_cpw_filter['WEAPON_FOUND_FLAG'].value_counts()"
   ]
  },
  {
   "cell_type": "code",
   "execution_count": 260,
   "id": "stone-retro",
   "metadata": {},
   "outputs": [],
   "source": [
    "sqf_cpw_filter = sqf_cpw_filter.drop(columns=['STOP_DURATION_MINUTES', \n",
    "                                              #'OBSERVED_DURATION_MINUTES',\n",
    "                                              #'OFFICER_IN_UNIFORM_FLAG', \n",
    "                                              'FRISKED_FLAG'])"
   ]
  },
  {
   "cell_type": "code",
   "execution_count": 261,
   "id": "hidden-jersey",
   "metadata": {},
   "outputs": [],
   "source": [
    "p = inflect.engine()\n",
    "\n",
    "sqf_cpw_filter['YEAR2'] = sqf_cpw_filter['YEAR2'].apply(lambda x: p.number_to_words(int(x)))\n",
    "sqf_cpw_filter['MONTH2'] = sqf_cpw_filter['MONTH2'].apply(lambda x: p.number_to_words(int(x)))\n",
    "sqf_cpw_filter['DAY2'] = sqf_cpw_filter['DAY2'].apply(lambda x: p.number_to_words(int(x)))\n",
    "sqf_cpw_filter['STOP_LOCATION_PRECINCT'] = sqf_cpw_filter['STOP_LOCATION_PRECINCT'].apply(lambda x: p.number_to_words(int(x)))"
   ]
  },
  {
   "cell_type": "code",
   "execution_count": 262,
   "id": "institutional-moscow",
   "metadata": {},
   "outputs": [],
   "source": [
    "# Convert to correct datatype --> object for categorical, float64 for numerical \n",
    "sqf_cpw_filter = sqf_cpw_filter.astype({'YEAR2': 'object',\n",
    "                                        'OBSERVED_DURATION_MINUTES': 'float64',\n",
    "                                        'OFFICER_IN_UNIFORM_FLAG': 'object',\n",
    "                                        'STOP_LOCATION_PRECINCT': 'object',\n",
    "                                        'LOCATION_IN_OUT_CODE': 'object', 'JURISDICTION_CODE': 'object',\n",
    "                                        'SUSPECT_SEX': 'object', 'SUSPECT_RACE_DESCRIPTION': 'object',\n",
    "                                        'SUSPECT_REPORTED_AGE': 'float64', 'SUSPECT_BODY_BUILD_TYPE': 'object',\n",
    "                                        'SUSPECT_WEIGHT': 'float64', 'WEAPON_FOUND_FLAG': 'object', \n",
    "                                        'MONTH2': 'string', 'DAY2': 'string',\n",
    "                                        'STOP_FRISK_TIME': 'float64'\n",
    "                                        })"
   ]
  },
  {
   "cell_type": "code",
   "execution_count": 263,
   "id": "controlling-volleyball",
   "metadata": {},
   "outputs": [
    {
     "data": {
      "text/plain": [
       "(8386, 17)"
      ]
     },
     "execution_count": 263,
     "metadata": {},
     "output_type": "execute_result"
    }
   ],
   "source": [
    "sqf_cpw_dropped = sqf_cpw_filter.dropna()\n",
    "sqf_cpw_dropped.shape"
   ]
  },
  {
   "cell_type": "code",
   "execution_count": 342,
   "id": "fresh-tragedy",
   "metadata": {},
   "outputs": [
    {
     "data": {
      "text/plain": [
       "N    6990\n",
       "Y    1396\n",
       "Name: WEAPON_FOUND_FLAG, dtype: int64"
      ]
     },
     "execution_count": 342,
     "metadata": {},
     "output_type": "execute_result"
    }
   ],
   "source": [
    "sqf_cpw_dropped['WEAPON_FOUND_FLAG'].value_counts()"
   ]
  },
  {
   "cell_type": "code",
   "execution_count": 330,
   "id": "fundamental-juvenile",
   "metadata": {},
   "outputs": [],
   "source": [
    "def standardize_data(df_num, t1=0.2, t2=0.25):\n",
    "    print(t1, t2)\n",
    "    train, test = train_test_split(df_num, test_size=t1, random_state=1)\n",
    "    train, val = train_test_split(train, test_size=t2, random_state=1)\n",
    "    scaler = StandardScaler()\n",
    "    train_scale = scaler.fit_transform(train)\n",
    "    val_scale = scaler.transform(val)\n",
    "    test_scale = scaler.transform(test)\n",
    "    scaled_train = pd.DataFrame(train_scale, index=train.index, columns=train.columns)\n",
    "    scaled_val = pd.DataFrame(val_scale, index=val.index, columns=val.columns)\n",
    "    scaled_test = pd.DataFrame(test_scale, index=test.index, columns=test.columns)\n",
    "    print(scaled_train.shape)\n",
    "    return scaled_train, scaled_val, scaled_test"
   ]
  },
  {
   "cell_type": "code",
   "execution_count": 331,
   "id": "intended-juice",
   "metadata": {},
   "outputs": [],
   "source": [
    "def process_data_simpleimputer(sqf_cpw, t1=0.2, t2=0.25):\n",
    "    print(sqf_cpw.shape)\n",
    "    weapon = 'WEAPON_FOUND_FLAG_Y'\n",
    "    df_num = sqf_cpw.select_dtypes(['float64', 'int64'])\n",
    "    df_cat = sqf_cpw.select_dtypes(['object', 'string'])\n",
    "    cat = df_cat.columns\n",
    "    print(cat)\n",
    "    df_ohe = pd.get_dummies(df_cat, prefix=cat, columns=cat, drop_first=True)\n",
    "    print(df_ohe.isna().sum())\n",
    "    train_cat, test_cat = train_test_split(df_ohe, test_size=t1, random_state=1)\n",
    "    train_cat, val_cat = train_test_split(train_cat, test_size=t2, random_state=1)\n",
    "    train_num, val_num, test_num = standardize_data(df_num, t1, t2)\n",
    "    train = train_num.join(train_cat, how='outer')\n",
    "    val = val_num.join(val_cat, how='outer')\n",
    "    test = test_num.join(test_cat, how='outer')\n",
    "    train_x = train.drop([weapon], axis=1)\n",
    "    val_x = val.drop([weapon], axis=1)\n",
    "    test_x = test.drop([weapon], axis=1)\n",
    "    # targets\n",
    "    targets_train = train[weapon]\n",
    "    targets_val = val[weapon]\n",
    "    targets_test = test[weapon]\n",
    "    \n",
    "    return train_x, val_x, test_x, targets_train, targets_val, targets_test"
   ]
  },
  {
   "cell_type": "code",
   "execution_count": 332,
   "id": "pleased-southeast",
   "metadata": {},
   "outputs": [],
   "source": [
    "from sklearn.metrics import confusion_matrix\n",
    "def specificity(y_true, y_pred):\n",
    "    tn, fp, fn, tp = confusion_matrix(y_true, y_pred).ravel()\n",
    "    #print(tn)\n",
    "    #print(fp)\n",
    "    specificity = tn / (tn+fp)\n",
    "    return specificity "
   ]
  },
  {
   "cell_type": "code",
   "execution_count": 333,
   "id": "killing-gambling",
   "metadata": {},
   "outputs": [],
   "source": [
    "def weighted_accuracy(true, pred):\n",
    "    assert(len(pred) == len(true))\n",
    "    num_labels = len(true)\n",
    "    num_pos = sum(true)\n",
    "    num_neg = num_labels - num_pos \n",
    "    frac_pos = num_pos/num_labels \n",
    "    weight_pos = 1/frac_pos\n",
    "    weight_neg = 1/(1-frac_pos)\n",
    "    #print(weight_pos)\n",
    "    #print(weight_neg)\n",
    "    num_pos_correct = 0\n",
    "    num_neg_correct = 0\n",
    "    for pred_i, true_i in zip(pred, true): \n",
    "        num_pos_correct += (pred_i == true_i and true_i == 1) \n",
    "        num_neg_correct += (pred_i == true_i and true_i == 0) \n",
    "        weighted_accuracy = ((weight_pos * num_pos_correct) \n",
    "                             + (weight_neg * num_neg_correct))/((weight_pos * num_pos) + (weight_neg * num_neg)) \n",
    "    return weighted_accuracy "
   ]
  },
  {
   "cell_type": "code",
   "execution_count": 334,
   "id": "chief-project",
   "metadata": {},
   "outputs": [
    {
     "name": "stdout",
     "output_type": "stream",
     "text": [
      "(8386, 17)\n",
      "Index(['YEAR2', 'STOP_LOCATION_PRECINCT', 'LOCATION_IN_OUT_CODE',\n",
      "       'JURISDICTION_CODE', 'OFFICER_IN_UNIFORM_FLAG', 'STOP_WAS_INITIATED',\n",
      "       'SUSPECT_SEX', 'SUSPECT_RACE_DESCRIPTION', 'SUSPECT_BODY_BUILD_TYPE',\n",
      "       'WEAPON_FOUND_FLAG', 'MONTH2', 'DAY2'],\n",
      "      dtype='object')\n",
      "YEAR2_two thousand and fifteen         0\n",
      "YEAR2_two thousand and nineteen        0\n",
      "YEAR2_two thousand and seventeen       0\n",
      "YEAR2_two thousand and sixteen         0\n",
      "STOP_LOCATION_PRECINCT_eighty-eight    0\n",
      "                                      ..\n",
      "DAY2_one                               0\n",
      "DAY2_six                               0\n",
      "DAY2_three                             0\n",
      "DAY2_two                               0\n",
      "DAY2_zero                              0\n",
      "Length: 114, dtype: int64\n",
      "0.1 0.1111111111111111\n",
      "(6708, 5)\n"
     ]
    }
   ],
   "source": [
    "b_train, b_val, b_test, targets_train_b, targets_val_b, targets_test_b = process_data_simpleimputer(sqf_cpw_dropped, 0.1, 1/9)"
   ]
  },
  {
   "cell_type": "code",
   "execution_count": 335,
   "id": "composite-disco",
   "metadata": {},
   "outputs": [
    {
     "data": {
      "text/plain": [
       "(6708, 118)"
      ]
     },
     "execution_count": 335,
     "metadata": {},
     "output_type": "execute_result"
    }
   ],
   "source": [
    "b_train.shape"
   ]
  },
  {
   "cell_type": "markdown",
   "id": "complimentary-secretariat",
   "metadata": {},
   "source": [
    "### Linear SVM"
   ]
  },
  {
   "cell_type": "code",
   "execution_count": 336,
   "id": "demanding-bookmark",
   "metadata": {},
   "outputs": [
    {
     "data": {
      "text/plain": [
       "SVC(C=1, class_weight='balanced', gamma=0.06158482110660261, kernel='linear',\n",
       "    probability=True)"
      ]
     },
     "execution_count": 336,
     "metadata": {},
     "output_type": "execute_result"
    }
   ],
   "source": [
    "svm_l = SVC(kernel='linear', degree=3, probability=True, class_weight='balanced', C=1, gamma=g)\n",
    "svm_l.fit(b_train, targets_train_b)"
   ]
  },
  {
   "cell_type": "code",
   "execution_count": 337,
   "id": "south-empire",
   "metadata": {
    "scrolled": true
   },
   "outputs": [
    {
     "name": "stdout",
     "output_type": "stream",
     "text": [
      "weightedacc train =  0.6899147863325669\n",
      "weighted acc val =  0.6724175219220636\n"
     ]
    }
   ],
   "source": [
    "y_wacc_train_l = weighted_accuracy(targets_train_b, svm_l.predict(b_train))\n",
    "y_wacc_val_l = weighted_accuracy(targets_val_b, svm_l.predict(b_val))\n",
    "print('weightedacc train = ', y_wacc_train_l)\n",
    "print('weighted acc val = ', y_wacc_val_l)"
   ]
  },
  {
   "cell_type": "markdown",
   "id": "fluid-calculator",
   "metadata": {},
   "source": [
    "### RBF SVM"
   ]
  },
  {
   "cell_type": "code",
   "execution_count": 338,
   "id": "above-swing",
   "metadata": {},
   "outputs": [
    {
     "data": {
      "text/plain": [
       "SVC(C=1, class_weight='balanced', gamma=0.06158482110660261, probability=True)"
      ]
     },
     "execution_count": 338,
     "metadata": {},
     "output_type": "execute_result"
    }
   ],
   "source": [
    "svm = SVC(kernel='rbf', degree=3, probability=True, class_weight='balanced', C=1, gamma=g)\n",
    "svm.fit(b_train, targets_train_b)\n",
    "#pred = svm.predict_proba(b_train)\n",
    "#pred_val = svm.predict_proba(b_val)\n",
    "#print('The AUC score of my training set:', roc_auc_score(targets_train_b, pred[:, 1]))\n",
    "#print('The AUC score of my val set:', roc_auc_score(targets_val_b, pred_val[:, 1]))"
   ]
  },
  {
   "cell_type": "code",
   "execution_count": 339,
   "id": "split-ebony",
   "metadata": {},
   "outputs": [
    {
     "name": "stdout",
     "output_type": "stream",
     "text": [
      "weighted acc train =  0.7938031892788302\n",
      "weighted acc val =  0.7070111281506822\n"
     ]
    }
   ],
   "source": [
    "y_wacc_train_b = weighted_accuracy(targets_train_b, svm.predict(b_train))\n",
    "y_wacc_val_b = weighted_accuracy(targets_val_b, svm.predict(b_val))\n",
    "print('weighted acc train = ', y_wacc_train_b)\n",
    "print('weighted acc val = ', y_wacc_val_b)"
   ]
  },
  {
   "cell_type": "code",
   "execution_count": 329,
   "id": "danish-attempt",
   "metadata": {},
   "outputs": [
    {
     "name": "stdout",
     "output_type": "stream",
     "text": [
      "weighted acc test =  0.6440498737373738\n"
     ]
    }
   ],
   "source": [
    "y_wacc_test_b = weighted_accuracy(targets_test_b, svm.predict(b_test))\n",
    "print('weighted acc test = ', y_wacc_test_b)"
   ]
  },
  {
   "cell_type": "markdown",
   "id": "satisfied-northeast",
   "metadata": {},
   "source": [
    "### Optimize gamma "
   ]
  },
  {
   "cell_type": "code",
   "execution_count": 215,
   "id": "radical-tumor",
   "metadata": {},
   "outputs": [],
   "source": [
    "gamma = 10**np.linspace(-5, -1, 20)"
   ]
  },
  {
   "cell_type": "code",
   "execution_count": 216,
   "id": "perfect-telephone",
   "metadata": {},
   "outputs": [
    {
     "data": {
      "text/plain": [
       "array([1.00000000e-05, 1.62377674e-05, 2.63665090e-05, 4.28133240e-05,\n",
       "       6.95192796e-05, 1.12883789e-04, 1.83298071e-04, 2.97635144e-04,\n",
       "       4.83293024e-04, 7.84759970e-04, 1.27427499e-03, 2.06913808e-03,\n",
       "       3.35981829e-03, 5.45559478e-03, 8.85866790e-03, 1.43844989e-02,\n",
       "       2.33572147e-02, 3.79269019e-02, 6.15848211e-02, 1.00000000e-01])"
      ]
     },
     "execution_count": 216,
     "metadata": {},
     "output_type": "execute_result"
    }
   ],
   "source": [
    "gamma"
   ]
  },
  {
   "cell_type": "code",
   "execution_count": 217,
   "id": "continent-jewelry",
   "metadata": {},
   "outputs": [],
   "source": [
    "train_gamma_acc = []\n",
    "val_gamma_acc = []\n",
    "\n",
    "for i in gamma:  \n",
    "    svm = SVC(kernel='rbf', degree=3, probability=True, class_weight='balanced', gamma=i)\n",
    "    svm.fit(b_train, targets_train_b)\n",
    "    pred_train = svm.predict(b_train)\n",
    "    pred_val = svm.predict(b_val)\n",
    "    train_gamma_acc.append(weighted_accuracy(targets_train_b, pred_train))\n",
    "    val_gamma_acc.append(weighted_accuracy(targets_val_b, pred_val))"
   ]
  },
  {
   "cell_type": "code",
   "execution_count": 218,
   "id": "valued-protein",
   "metadata": {},
   "outputs": [],
   "source": [
    "# train_scores_mean = np.mean(train_scores, axis=1)\n",
    "# train_scores_std = np.std(train_scores, axis=1)\n",
    "# test_scores_mean = np.mean(test_scores, axis=1)\n",
    "# test_scores_std = np.std(test_scores, axis=1)"
   ]
  },
  {
   "cell_type": "code",
   "execution_count": 225,
   "id": "described-latex",
   "metadata": {},
   "outputs": [
    {
     "data": {
      "text/plain": [
       "<matplotlib.legend.Legend at 0x7fee2f05ae50>"
      ]
     },
     "execution_count": 225,
     "metadata": {},
     "output_type": "execute_result"
    },
    {
     "data": {
      "image/png": "[encoded data removed]",
      "text/plain": [
       "<Figure size 576x432 with 1 Axes>"
      ]
     },
     "metadata": {
      "needs_background": "light"
     },
     "output_type": "display_data"
    }
   ],
   "source": [
    "#plotting regularization strength vs. AUC score for train, val, and test\n",
    "plt.figure(figsize=(8, 6))\n",
    "plt.semilogx(gamma, train_gamma_acc, label='Train Weighted Acc')\n",
    "plt.semilogx(gamma, val_gamma_acc, label='Validation Weighted Acc')\n",
    "# plt.fill_between(gamma, test_scores_mean - test_scores_std,\n",
    "#                  test_scores_mean + test_scores_std, alpha=0.2,\n",
    "#                  color=\"navy\", lw=lw)\n",
    "plt.xlabel(\"Gamma\")\n",
    "plt.ylabel(\"Weighted Acc\")\n",
    "plt.title(\"Weighted Accuracy for Different Values of Gamma\", size=14)\n",
    "plt.grid()\n",
    "plt.legend()"
   ]
  },
  {
   "cell_type": "code",
   "execution_count": 220,
   "id": "fifteen-internet",
   "metadata": {},
   "outputs": [
    {
     "data": {
      "text/plain": [
       "0.06158482110660261"
      ]
     },
     "execution_count": 220,
     "metadata": {},
     "output_type": "execute_result"
    }
   ],
   "source": [
    "#choose gamma hyperparam where validation performs best\n",
    "gamma_index = np.array(val_gamma_acc).argmax()\n",
    "g = gamma[gamma_index]\n",
    "g"
   ]
  },
  {
   "cell_type": "markdown",
   "id": "expressed-briefing",
   "metadata": {},
   "source": [
    "### Optimize c using auc"
   ]
  },
  {
   "cell_type": "code",
   "execution_count": 221,
   "id": "armed-cabin",
   "metadata": {},
   "outputs": [],
   "source": [
    "c = 10**np.linspace(-2, 0, 20)"
   ]
  },
  {
   "cell_type": "code",
   "execution_count": 144,
   "id": "covered-information",
   "metadata": {},
   "outputs": [],
   "source": [
    "# train_c_auc = []\n",
    "# val_c_auc = []\n",
    "\n",
    "# for i in c:  \n",
    "#     svm = SVC(kernel='rbf', degree=3, probability=True, class_weight='balanced', C=i)\n",
    "#     svm.fit(b_train, targets_train_b)\n",
    "#     pred_train = svm.predict_proba(b_train)[:,1]\n",
    "#     pred_val = svm.predict_proba(b_val)[:,1]\n",
    "#     train_c_auc.append(roc_auc_score(targets_train_b, pred_train))\n",
    "#     val_c_auc.append(roc_auc_score(targets_val_b, pred_val))"
   ]
  },
  {
   "cell_type": "code",
   "execution_count": 145,
   "id": "legitimate-going",
   "metadata": {},
   "outputs": [],
   "source": [
    "# #plotting regularization strength vs. AUC score for train, val, and test\n",
    "# plt.figure(figsize=(8, 6))\n",
    "# plt.plot(c, train_c_auc, label='Train AUC')\n",
    "# plt.plot(c, val_c_auc, label='Validation AUC')\n",
    "# plt.xlabel(\"Strength of Regularization Parameter\")\n",
    "# plt.ylabel(\"AUC Score\")\n",
    "# plt.title(\"AUC Score for Different Values of C (Regularization Parameter)\", size=14)\n",
    "# plt.grid()\n",
    "# plt.legend()"
   ]
  },
  {
   "cell_type": "markdown",
   "id": "enabling-grounds",
   "metadata": {},
   "source": [
    "### Optimize c using weighted acc"
   ]
  },
  {
   "cell_type": "code",
   "execution_count": 102,
   "id": "senior-pantyhose",
   "metadata": {},
   "outputs": [],
   "source": [
    "# from imblearn.under_sampling import RandomUnderSampler \n",
    "\n",
    "# sqf_cpw_dropped['WEAPON_FOUND_FLAG'].value_counts()\n",
    "# sqf_cpw_y = sqf_cpw_dropped['WEAPON_FOUND_FLAG']\n",
    "# sqf_cpw_x = sqf_cpw_dropped.drop(columns=['WEAPON_FOUND_FLAG'])\n",
    "\n",
    "# rus = RandomUnderSampler(random_state=42)\n",
    "# X_res, y_res = rus.fit_resample(sqf_cpw_x, sqf_cpw_y)\n",
    "# sqf = X_res.copy()\n",
    "# sqf['WEAPON_FOUND_FLAG'] = y_res"
   ]
  },
  {
   "cell_type": "code",
   "execution_count": 340,
   "id": "consecutive-library",
   "metadata": {},
   "outputs": [],
   "source": [
    "train_c_w_acc = []\n",
    "val_c_w_acc = []\n",
    "\n",
    "for i in c:  \n",
    "    svm = SVC(kernel='rbf', degree=3, probability=True, class_weight='balanced', C=i, gamma=g)\n",
    "    svm.fit(b_train, targets_train_b)\n",
    "    pred_train = svm.predict(b_train)\n",
    "    pred_val = svm.predict(b_val)\n",
    "    train_c_w_acc.append(weighted_accuracy(targets_train_b, pred_train))\n",
    "    val_c_w_acc.append(weighted_accuracy(targets_val_b, pred_val))"
   ]
  },
  {
   "cell_type": "code",
   "execution_count": 341,
   "id": "mathematical-firmware",
   "metadata": {},
   "outputs": [
    {
     "data": {
      "text/plain": [
       "<matplotlib.legend.Legend at 0x7fef34bac850>"
      ]
     },
     "execution_count": 341,
     "metadata": {},
     "output_type": "execute_result"
    },
    {
     "data": {
      "image/png": "[encoded data removed]",
      "text/plain": [
       "<Figure size 576x432 with 1 Axes>"
      ]
     },
     "metadata": {
      "needs_background": "light"
     },
     "output_type": "display_data"
    }
   ],
   "source": [
    "#plotting regularization strength vs. AUC score for train, val, and test\n",
    "plt.figure(figsize=(8, 6))\n",
    "plt.semilogx(c, np.array(train_c_w_acc), label='Train W Acc')\n",
    "plt.semilogx(c, np.array(val_c_w_acc), label='Validation W Acc')\n",
    "plt.xlabel(\"Strength of Regularization Parameter\")\n",
    "plt.ylabel(\"Weighted Acc Score\")\n",
    "plt.title(\"Weighted Accuracy for Different Values of Regularization Parameter\", size=14)\n",
    "plt.grid()\n",
    "plt.legend()"
   ]
  },
  {
   "cell_type": "code",
   "execution_count": 155,
   "id": "historic-somerset",
   "metadata": {},
   "outputs": [
    {
     "data": {
      "text/plain": [
       "0.7070111281506822"
      ]
     },
     "execution_count": 155,
     "metadata": {},
     "output_type": "execute_result"
    }
   ],
   "source": [
    "np.array(val_c_w_acc).max()"
   ]
  },
  {
   "cell_type": "code",
   "execution_count": 152,
   "id": "conventional-sending",
   "metadata": {},
   "outputs": [
    {
     "data": {
      "text/plain": [
       "1.0"
      ]
     },
     "execution_count": 152,
     "metadata": {},
     "output_type": "execute_result"
    }
   ],
   "source": [
    "#choose gamma hyperparam where validation performs best\n",
    "c_index = np.array(val_c_w_acc).argmax()\n",
    "c_opt = c[c_index]\n",
    "c_opt"
   ]
  },
  {
   "cell_type": "markdown",
   "id": "settled-appraisal",
   "metadata": {},
   "source": [
    "### Recall/Specificity"
   ]
  },
  {
   "cell_type": "code",
   "execution_count": 298,
   "id": "gentle-alaska",
   "metadata": {},
   "outputs": [],
   "source": [
    "from sklearn.metrics import recall_score\n",
    "from sklearn.metrics import accuracy_score\n",
    "w = [0.5, 1, 1.5, 2, 2.5, 3, 3.5, 4, 4.5, 5, 5.5, 6, 6.5, 7, 7.5, 8, 8.5, 9]\n",
    "r_train = []\n",
    "r_val = []\n",
    "s_train = []\n",
    "s_val = []\n",
    "wa_train = []\n",
    "wa_val = []\n",
    "a_train = []\n",
    "a_val = []\n",
    "\n",
    "for i in w:\n",
    "    svm_weights = SVC(kernel='rbf', degree=3, probability=True, class_weight={0: 1, 1: i}, C=c_opt, gamma=g)\n",
    "    svm_weights.fit(b_train, targets_train_b)\n",
    "    \n",
    "    y_pred_train = svm_weights.predict(b_train)\n",
    "    y_pred_val = svm_weights.predict(b_val)\n",
    "    \n",
    "    recall_train_b = recall_score(targets_train_b, y_pred_train)\n",
    "    r_train.append(recall_train_b)\n",
    "    recall_val_b = recall_score(targets_val_b, y_pred_val)\n",
    "    r_val.append(recall_val_b)\n",
    "    \n",
    "    sp_train_b = specificity(targets_train_b, y_pred_train)\n",
    "    s_train.append(sp_train_b)\n",
    "    sp_val_b = specificity(targets_val_b, y_pred_val)\n",
    "    s_val.append(sp_val_b)\n",
    "    \n",
    "    wacc_train_b = weighted_accuracy(targets_train_b, y_pred_train)\n",
    "    wa_train.append(wacc_train_b)\n",
    "    wacc_val_b = weighted_accuracy(targets_val_b, y_pred_val)\n",
    "    wa_val.append(wacc_val_b)\n",
    "    \n",
    "    acc_train_b = accuracy_score(targets_train_b, y_pred_train)\n",
    "    a_train.append(acc_train_b)\n",
    "    acc_val_b = accuracy_score(targets_val_b, y_pred_val)\n",
    "    a_val.append(acc_val_b)"
   ]
  },
  {
   "cell_type": "code",
   "execution_count": 299,
   "id": "banned-satin",
   "metadata": {},
   "outputs": [
    {
     "data": {
      "text/plain": [
       "<matplotlib.legend.Legend at 0x7fee3075f4d0>"
      ]
     },
     "execution_count": 299,
     "metadata": {},
     "output_type": "execute_result"
    },
    {
     "data": {
      "image/png": "[encoded data removed]",
      "text/plain": [
       "<Figure size 576x360 with 1 Axes>"
      ]
     },
     "metadata": {
      "needs_background": "light"
     },
     "output_type": "display_data"
    }
   ],
   "source": [
    "plt.figure(figsize=(8,5))\n",
    "plt.plot(w, r_train, c='red', label='Train recall', ls='--')\n",
    "plt.plot(w, r_val, c='red', label='Validation recall')\n",
    "plt.plot(w, s_train, c='green', label='Train specificity', ls='--')\n",
    "plt.plot(w, s_val, c='green', label='Validation specificity')\n",
    "plt.xlabel('Weight of class 1 relative to class 0')\n",
    "plt.ylabel('Recall/Specificity')\n",
    "plt.legend()"
   ]
  },
  {
   "cell_type": "code",
   "execution_count": null,
   "id": "exceptional-mustang",
   "metadata": {},
   "outputs": [],
   "source": [
    "### Random RFC stuff :/ "
   ]
  },
  {
   "cell_type": "code",
   "execution_count": 103,
   "id": "handmade-skiing",
   "metadata": {},
   "outputs": [
    {
     "name": "stdout",
     "output_type": "stream",
     "text": [
      "0.1 0.1111111111111111\n"
     ]
    }
   ],
   "source": [
    "train, val, test, train_y, val_y, test_y = process_data_simpleimputer(sqf, 0.1, 1/9)"
   ]
  },
  {
   "cell_type": "code",
   "execution_count": 104,
   "id": "unavailable-dimension",
   "metadata": {},
   "outputs": [],
   "source": [
    "# train, test = train_test_split(sqf, test_size=0.1, random_state=1)\n",
    "# train, val = train_test_split(train, test_size=1/9, random_state=1)\n",
    "# train_y = train['WEAPON_FOUND_FLAG']\n",
    "# val_y = val['WEAPON_FOUND_FLAG']\n",
    "# test_y = test['WEAPON_FOUND_FLAG']\n",
    "# train = train.drop(columns='WEAPON_FOUND_FLAG')\n",
    "# val = val.drop(columns='WEAPON_FOUND_FLAG')\n",
    "# test = test.drop(columns='WEAPON_FOUND_FLAG')"
   ]
  },
  {
   "cell_type": "code",
   "execution_count": 118,
   "id": "affiliated-soviet",
   "metadata": {},
   "outputs": [
    {
     "data": {
      "text/plain": [
       "RandomForestClassifier(max_depth=10, n_estimators=200, random_state=0)"
      ]
     },
     "execution_count": 118,
     "metadata": {},
     "output_type": "execute_result"
    }
   ],
   "source": [
    "clf = RandomForestClassifier(n_estimators=200, max_depth=10, random_state=0 \n",
    "                             class_weight='balanced')\n",
    "clf.fit(train, train_y)"
   ]
  },
  {
   "cell_type": "code",
   "execution_count": 119,
   "id": "caroline-summary",
   "metadata": {},
   "outputs": [
    {
     "name": "stdout",
     "output_type": "stream",
     "text": [
      "0.9283926608539534\n",
      "0.730802591968978\n"
     ]
    }
   ],
   "source": [
    "pred_t = clf.predict_proba(train)[:,1]\n",
    "pred_v = clf.predict_proba(val)[:,1]\n",
    "print(roc_auc_score(train_y, pred_t))\n",
    "print(roc_auc_score(val_y, pred_v))"
   ]
  },
  {
   "cell_type": "code",
   "execution_count": null,
   "id": "signal-wrong",
   "metadata": {},
   "outputs": [],
   "source": [
    "pred_test = clf.predict(train)\n",
    "pred_val = clf.predict(val)\n",
    "print(weighted_accuracy(train_y, pred_t))\n",
    "print(weighted_accuracy(val_y, pred_v))"
   ]
  },
  {
   "cell_type": "code",
   "execution_count": 120,
   "id": "particular-darkness",
   "metadata": {},
   "outputs": [
    {
     "name": "stderr",
     "output_type": "stream",
     "text": [
      "/Users/eeshakhanna/opt/anaconda3/lib/python3.7/site-packages/sklearn/utils/deprecation.py:87: FutureWarning: Function plot_confusion_matrix is deprecated; Function `plot_confusion_matrix` is deprecated in 1.0 and will be removed in 1.2. Use one of the class methods: ConfusionMatrixDisplay.from_predictions or ConfusionMatrixDisplay.from_estimator.\n",
      "  warnings.warn(msg, category=FutureWarning)\n"
     ]
    },
    {
     "data": {
      "text/plain": [
       "<sklearn.metrics._plot.confusion_matrix.ConfusionMatrixDisplay at 0x7fef577c6c90>"
      ]
     },
     "execution_count": 120,
     "metadata": {},
     "output_type": "execute_result"
    },
    {
     "data": {
      "image/png": "[encoded data removed]",
      "text/plain": [
       "<Figure size 432x288 with 2 Axes>"
      ]
     },
     "metadata": {
      "needs_background": "light"
     },
     "output_type": "display_data"
    }
   ],
   "source": [
    "plot_confusion_matrix(clf, train, train_y) "
   ]
  },
  {
   "cell_type": "code",
   "execution_count": 86,
   "id": "perfect-disabled",
   "metadata": {},
   "outputs": [
    {
     "name": "stderr",
     "output_type": "stream",
     "text": [
      "/Users/eeshakhanna/opt/anaconda3/lib/python3.7/site-packages/sklearn/utils/deprecation.py:87: FutureWarning: Function plot_confusion_matrix is deprecated; Function `plot_confusion_matrix` is deprecated in 1.0 and will be removed in 1.2. Use one of the class methods: ConfusionMatrixDisplay.from_predictions or ConfusionMatrixDisplay.from_estimator.\n",
      "  warnings.warn(msg, category=FutureWarning)\n"
     ]
    },
    {
     "data": {
      "text/plain": [
       "<sklearn.metrics._plot.confusion_matrix.ConfusionMatrixDisplay at 0x7fef4bcc5990>"
      ]
     },
     "execution_count": 86,
     "metadata": {},
     "output_type": "execute_result"
    },
    {
     "data": {
      "image/png": "[encoded data removed]",
      "text/plain": [
       "<Figure size 432x288 with 2 Axes>"
      ]
     },
     "metadata": {
      "needs_background": "light"
     },
     "output_type": "display_data"
    }
   ],
   "source": [
    "plot_confusion_matrix(clf, b_val, targets_val_b) "
   ]
  },
  {
   "cell_type": "markdown",
   "id": "golden-romania",
   "metadata": {},
   "source": [
    "### DFE"
   ]
  },
  {
   "cell_type": "code",
   "execution_count": 156,
   "id": "pressing-syndrome",
   "metadata": {},
   "outputs": [],
   "source": [
    "# df_num = sqf_cpw_dropped.select_dtypes(['float64', 'int64'])\n",
    "# df_cat = sqf_cpw_dropped.select_dtypes(['object', 'string'])\n",
    "# cat = df_cat.columns\n",
    "# df_ohe = pd.get_dummies(df_cat, prefix=cat, columns=cat, drop_first=True)\n",
    "# df_join = df_num.join(df_ohe, how='outer').drop(columns='WEAPON_FOUND_FLAG_Y')"
   ]
  },
  {
   "cell_type": "code",
   "execution_count": 169,
   "id": "important-tuition",
   "metadata": {},
   "outputs": [
    {
     "name": "stdout",
     "output_type": "stream",
     "text": [
      "<class 'pandas.core.frame.DataFrame'>\n",
      "Int64Index: 8386 entries, 0 to 13030\n",
      "Data columns (total 17 columns):\n",
      " #   Column                     Non-Null Count  Dtype  \n",
      "---  ------                     --------------  -----  \n",
      " 0   YEAR2                      8386 non-null   object \n",
      " 1   STOP_LOCATION_PRECINCT     8386 non-null   object \n",
      " 2   LOCATION_IN_OUT_CODE       8386 non-null   object \n",
      " 3   JURISDICTION_CODE          8386 non-null   object \n",
      " 4   OBSERVED_DURATION_MINUTES  8386 non-null   float64\n",
      " 5   OFFICER_IN_UNIFORM_FLAG    8386 non-null   object \n",
      " 6   STOP_WAS_INITIATED         8386 non-null   object \n",
      " 7   SUSPECT_SEX                8386 non-null   object \n",
      " 8   SUSPECT_RACE_DESCRIPTION   8386 non-null   object \n",
      " 9   SUSPECT_REPORTED_AGE       8386 non-null   float64\n",
      " 10  SUSPECT_WEIGHT             8386 non-null   float64\n",
      " 11  SUSPECT_BODY_BUILD_TYPE    8386 non-null   object \n",
      " 12  WEAPON_FOUND_FLAG          8386 non-null   object \n",
      " 13  SUSPECT_HEIGHT             8386 non-null   float64\n",
      " 14  MONTH2                     8386 non-null   string \n",
      " 15  DAY2                       8386 non-null   string \n",
      " 16  STOP_FRISK_TIME            8386 non-null   float64\n",
      "dtypes: float64(5), object(10), string(2)\n",
      "memory usage: 1.4+ MB\n"
     ]
    }
   ],
   "source": [
    "sqf_cpw = sqf_cpw_dropped.copy().drop(columns=['WEAPON_FOUND_FLAG'])"
   ]
  },
  {
   "cell_type": "code",
   "execution_count": 170,
   "id": "patient-luxembourg",
   "metadata": {},
   "outputs": [
    {
     "data": {
      "text/plain": [
       "Y    4363\n",
       "N    4023\n",
       "Name: STOP_WAS_INITIATED, dtype: int64"
      ]
     },
     "execution_count": 170,
     "metadata": {},
     "output_type": "execute_result"
    }
   ],
   "source": [
    "sqf_cpw_dropped['STOP_WAS_INITIATED'].value_counts()"
   ]
  },
  {
   "cell_type": "code",
   "execution_count": 174,
   "id": "immediate-interpretation",
   "metadata": {},
   "outputs": [
    {
     "name": "stderr",
     "output_type": "stream",
     "text": [
      "/Users/eeshakhanna/opt/anaconda3/lib/python3.7/site-packages/featuretools/entityset/entityset.py:1568: UserWarning: index index not found in dataframe, creating new integer column\n",
      "  \"integer column\".format(index))\n"
     ]
    },
    {
     "data": {
      "text/plain": [
       "Entityset: sqf_cpw_dropped\n",
       "  DataFrames:\n",
       "    sqf_cpw_dropped [Rows: 8386, Columns: 18]\n",
       "  Relationships:\n",
       "    No relationships"
      ]
     },
     "execution_count": 174,
     "metadata": {},
     "output_type": "execute_result"
    }
   ],
   "source": [
    "from woodwork.logical_types import Categorical, PostalCode\n",
    "\n",
    "import featuretools as ft\n",
    "\n",
    "# # Create Entity\n",
    "es = ft.EntitySet(id = 'sqf_cpw_dropped')\n",
    "es = es.add_dataframe(\n",
    "    dataframe_name=\"sqf_cpw_dropped\",\n",
    "    dataframe=sqf_cpw_dropped,\n",
    "    index=\"index\",\n",
    "    logical_types={\n",
    "        \"YEAR2\": Categorical,\n",
    "        \"STOP_LOCATION_PRECINCT\": Categorical,\n",
    "        \"LOCATION_IN_OUT_CODE\": Categorical,\n",
    "        \"JURISDICTION_CODE\": Categorical,\n",
    "        \"OFFICER_IN_UNIFORM_FLAG\": Categorical,\n",
    "        \"STOP_WAS_INITIATED\": Categorical,\n",
    "        \"SUSPECT_SEX\": Categorical,\n",
    "        \"SUSPECT_RACE_DESCRIPTION\": Categorical,\n",
    "        \"SUSPECT_REPORTED_AGE\": Categorical,\n",
    "        \"SUSPECT_BODY_BUILD_TYPE\": Categorical,\n",
    "        \"MONTH2\": Categorical,\n",
    "        \"DAY2\" :Categorical},)\n",
    "\n",
    "es"
   ]
  },
  {
   "cell_type": "code",
   "execution_count": 175,
   "id": "surface-senior",
   "metadata": {},
   "outputs": [
    {
     "name": "stdout",
     "output_type": "stream",
     "text": [
      "Built 29 features\n",
      "Elapsed: 00:00 | Progress: 100%|██████████\n"
     ]
    },
    {
     "name": "stderr",
     "output_type": "stream",
     "text": [
      "/Users/eeshakhanna/opt/anaconda3/lib/python3.7/site-packages/featuretools/synthesis/deep_feature_synthesis.py:156: UserWarning: Only one dataframe in entityset, changing max_depth to 1 since deeper features cannot be created\n",
      "  warnings.warn(\"Only one dataframe in entityset, changing max_depth to \"\n"
     ]
    }
   ],
   "source": [
    "# Run deep feature synthesis with transformation primitives\n",
    "feature_matrix, feature_defs = ft.dfs(entityset = es, target_dataframe_name = 'sqf_cpw_dropped',\n",
    "                                      trans_primitives = ['add_numeric', 'multiply_numeric'], \n",
    "                                      verbose=True)"
   ]
  },
  {
   "cell_type": "code",
   "execution_count": 178,
   "id": "intense-logic",
   "metadata": {},
   "outputs": [],
   "source": [
    "feature_matrix['WEAPON_FOUND_FLAG'] = sqf_cpw_dropped['WEAPON_FOUND_FLAG']"
   ]
  },
  {
   "cell_type": "code",
   "execution_count": 189,
   "id": "polyphonic-crest",
   "metadata": {},
   "outputs": [],
   "source": [
    "feature_matrix_cat = feature_matrix.select_dtypes('category').astype('object')\n",
    "feature_matrix_num = feature_matrix.select_dtypes(['float64', 'int64'])\n",
    "dfs = feature_matrix_num.join(feature_matrix_cat, how='outer')"
   ]
  },
  {
   "cell_type": "code",
   "execution_count": 190,
   "id": "black-accordance",
   "metadata": {},
   "outputs": [
    {
     "name": "stdout",
     "output_type": "stream",
     "text": [
      "<class 'pandas.core.frame.DataFrame'>\n",
      "Int64Index: 8386 entries, 0 to 8385\n",
      "Data columns (total 29 columns):\n",
      " #   Column                                       Non-Null Count  Dtype  \n",
      "---  ------                                       --------------  -----  \n",
      " 0   OBSERVED_DURATION_MINUTES                    8386 non-null   float64\n",
      " 1   SUSPECT_WEIGHT                               8386 non-null   float64\n",
      " 2   SUSPECT_HEIGHT                               8386 non-null   float64\n",
      " 3   STOP_FRISK_TIME                              8386 non-null   float64\n",
      " 4   OBSERVED_DURATION_MINUTES + STOP_FRISK_TIME  8386 non-null   float64\n",
      " 5   OBSERVED_DURATION_MINUTES + SUSPECT_HEIGHT   8386 non-null   float64\n",
      " 6   OBSERVED_DURATION_MINUTES + SUSPECT_WEIGHT   8386 non-null   float64\n",
      " 7   STOP_FRISK_TIME + SUSPECT_HEIGHT             8386 non-null   float64\n",
      " 8   STOP_FRISK_TIME + SUSPECT_WEIGHT             8386 non-null   float64\n",
      " 9   SUSPECT_HEIGHT + SUSPECT_WEIGHT              8386 non-null   float64\n",
      " 10  OBSERVED_DURATION_MINUTES * STOP_FRISK_TIME  8386 non-null   float64\n",
      " 11  OBSERVED_DURATION_MINUTES * SUSPECT_HEIGHT   8386 non-null   float64\n",
      " 12  OBSERVED_DURATION_MINUTES * SUSPECT_WEIGHT   8386 non-null   float64\n",
      " 13  STOP_FRISK_TIME * SUSPECT_HEIGHT             8386 non-null   float64\n",
      " 14  STOP_FRISK_TIME * SUSPECT_WEIGHT             8386 non-null   float64\n",
      " 15  SUSPECT_HEIGHT * SUSPECT_WEIGHT              8386 non-null   float64\n",
      " 16  YEAR2                                        8386 non-null   object \n",
      " 17  STOP_LOCATION_PRECINCT                       8386 non-null   object \n",
      " 18  LOCATION_IN_OUT_CODE                         8386 non-null   object \n",
      " 19  JURISDICTION_CODE                            8386 non-null   object \n",
      " 20  OFFICER_IN_UNIFORM_FLAG                      8386 non-null   object \n",
      " 21  STOP_WAS_INITIATED                           8386 non-null   object \n",
      " 22  SUSPECT_SEX                                  8386 non-null   object \n",
      " 23  SUSPECT_RACE_DESCRIPTION                     8386 non-null   object \n",
      " 24  SUSPECT_REPORTED_AGE                         8386 non-null   object \n",
      " 25  SUSPECT_BODY_BUILD_TYPE                      8386 non-null   object \n",
      " 26  WEAPON_FOUND_FLAG                            8386 non-null   object \n",
      " 27  MONTH2                                       8386 non-null   object \n",
      " 28  DAY2                                         8386 non-null   object \n",
      "dtypes: float64(16), object(13)\n",
      "memory usage: 2.2+ MB\n"
     ]
    }
   ],
   "source": [
    "dfs.info()"
   ]
  },
  {
   "cell_type": "code",
   "execution_count": 197,
   "id": "unlimited-bouquet",
   "metadata": {},
   "outputs": [
    {
     "name": "stdout",
     "output_type": "stream",
     "text": [
      "Index(['YEAR2', 'STOP_LOCATION_PRECINCT', 'LOCATION_IN_OUT_CODE',\n",
      "       'JURISDICTION_CODE', 'OFFICER_IN_UNIFORM_FLAG', 'STOP_WAS_INITIATED',\n",
      "       'SUSPECT_SEX', 'SUSPECT_RACE_DESCRIPTION', 'SUSPECT_REPORTED_AGE',\n",
      "       'SUSPECT_BODY_BUILD_TYPE', 'WEAPON_FOUND_FLAG', 'MONTH2', 'DAY2'],\n",
      "      dtype='object')\n",
      "0.1 0.1111111111111111\n"
     ]
    }
   ],
   "source": [
    "dfs_train, dfs_val, dfs_test, targets_train_dfs, targets_val_dfs, targets_test_dfs = process_data_simpleimputer(dfs, 0.1, 1/9)"
   ]
  },
  {
   "cell_type": "code",
   "execution_count": 202,
   "id": "eleven-salad",
   "metadata": {},
   "outputs": [
    {
     "data": {
      "text/plain": [
       "array([ True,  True,  True,  True,  True,  True,  True,  True,  True,\n",
       "        True,  True,  True,  True,  True,  True,  True,  True,  True,\n",
       "        True,  True,  True,  True,  True,  True,  True,  True,  True,\n",
       "        True,  True,  True,  True,  True,  True,  True,  True,  True,\n",
       "        True,  True,  True,  True,  True,  True,  True,  True,  True,\n",
       "        True,  True,  True,  True,  True,  True,  True,  True,  True,\n",
       "        True,  True,  True,  True,  True,  True,  True,  True,  True,\n",
       "        True,  True,  True,  True,  True,  True,  True,  True,  True,\n",
       "        True,  True,  True,  True,  True,  True,  True,  True,  True,\n",
       "        True,  True,  True,  True,  True,  True,  True,  True,  True,\n",
       "        True,  True,  True,  True,  True,  True,  True,  True,  True,\n",
       "        True,  True,  True,  True,  True,  True,  True,  True,  True,\n",
       "        True,  True,  True,  True,  True,  True,  True,  True,  True,\n",
       "        True,  True,  True,  True,  True,  True,  True,  True,  True,\n",
       "        True,  True,  True,  True,  True,  True,  True,  True,  True,\n",
       "        True,  True,  True,  True,  True,  True,  True,  True,  True,\n",
       "        True,  True,  True,  True,  True,  True,  True,  True,  True,\n",
       "        True,  True,  True,  True,  True,  True,  True,  True,  True,\n",
       "        True,  True,  True,  True,  True,  True,  True,  True,  True,\n",
       "        True,  True,  True,  True,  True,  True,  True,  True,  True,\n",
       "        True,  True,  True,  True,  True,  True,  True,  True,  True,\n",
       "        True,  True,  True,  True,  True,  True,  True,  True,  True,\n",
       "        True,  True,  True,  True])"
      ]
     },
     "execution_count": 202,
     "metadata": {},
     "output_type": "execute_result"
    }
   ],
   "source": [
    "dfs_train.columns == dfs_val.columns"
   ]
  },
  {
   "cell_type": "code",
   "execution_count": 205,
   "id": "behavioral-advocacy",
   "metadata": {},
   "outputs": [
    {
     "data": {
      "text/plain": [
       "SVC(C=1, class_weight='balanced', gamma=0.06158482110660261, probability=True)"
      ]
     },
     "execution_count": 205,
     "metadata": {},
     "output_type": "execute_result"
    }
   ],
   "source": [
    "svm_dfs = SVC(kernel='rbf', degree=3, probability=True, class_weight='balanced', C=1, gamma=g)\n",
    "svm_dfs.fit(dfs_train, targets_train_dfs)\n",
    "#pred = svm.predict_proba(b_train)\n",
    "#pred_val = svm.predict_proba(b_val)\n",
    "#print('The AUC score of my training set:', roc_auc_score(targets_train_b, pred[:, 1]))\n",
    "#print('The AUC score of my val set:', roc_auc_score(targets_val_b, pred_val[:, 1]))"
   ]
  },
  {
   "cell_type": "code",
   "execution_count": 206,
   "id": "attractive-applicant",
   "metadata": {},
   "outputs": [
    {
     "name": "stdout",
     "output_type": "stream",
     "text": [
      "weightedacc train =  0.8468328458515232\n",
      "weighted acc val =  0.64196256537297\n"
     ]
    }
   ],
   "source": [
    "y_wacc_train_dfs = weighted_accuracy(targets_train_dfs, svm_dfs.predict(dfs_train))\n",
    "y_wacc_val_dfs = weighted_accuracy(targets_val_dfs, svm_dfs.predict(dfs_val))\n",
    "print('weightedacc train = ', y_wacc_train_dfs)\n",
    "print('weighted acc val = ', y_wacc_val_dfs)"
   ]
  },
  {
   "cell_type": "code",
   "execution_count": null,
   "id": "conceptual-paint",
   "metadata": {},
   "outputs": [],
   "source": []
  }
 ],
 "metadata": {
  "kernelspec": {
   "display_name": "Python 3",
   "language": "python",
   "name": "python3"
  },
  "language_info": {
   "codemirror_mode": {
    "name": "ipython",
    "version": 3
   },
   "file_extension": ".py",
   "mimetype": "text/x-python",
   "name": "python",
   "nbconvert_exporter": "python",
   "pygments_lexer": "ipython3",
   "version": "3.7.4"
  }
 },
 "nbformat": 4,
 "nbformat_minor": 5
}
