{
 "cells": [
  {
   "cell_type": "code",
   "execution_count": 109,
   "metadata": {
    "colab": {
     "base_uri": "https://localhost:8080/"
    },
    "id": "iVKBNfog9sfd",
    "outputId": "e4f15cd4-3540-4b42-fb6d-8ffb4cd70f48"
   },
   "outputs": [],
   "source": [
    "#!pip install prince\n",
    "#!pip install impyute\n",
    "#!pip install autoimpute\n",
    "import numpy as np\n",
    "import pandas as pd\n",
    "import matplotlib.pyplot as plt\n",
    "%matplotlib inline\n",
    "#import seaborn as sns\n",
    "#import prince\n",
    "#import impyute\n",
    "import inflect"
   ]
  },
  {
   "cell_type": "code",
   "execution_count": 110,
   "metadata": {},
   "outputs": [],
   "source": [
    "pd.options.mode.chained_assignment = None"
   ]
  },
  {
   "cell_type": "code",
   "execution_count": 111,
   "metadata": {
    "colab": {
     "base_uri": "https://localhost:8080/"
    },
    "id": "bmMk_8od-zko",
    "outputId": "c05fd3c6-cf7b-40b3-e773-06afbe9ae07b"
   },
   "outputs": [],
   "source": [
    "# from google.colab import drive\n",
    "# drive.mount('/content/drive')"
   ]
  },
  {
   "cell_type": "code",
   "execution_count": 112,
   "metadata": {},
   "outputs": [],
   "source": [
    "sqf_cpw_filter = pd.read_csv('clean_sqf.csv')"
   ]
  },
  {
   "cell_type": "code",
   "execution_count": 113,
   "metadata": {},
   "outputs": [],
   "source": [
    "sqf_cpw_filter = sqf_cpw_filter.drop(columns=['STOP_DURATION_MINUTES', \n",
    "                                              #'OBSERVED_DURATION_MINUTES',\n",
    "                                              #'OFFICER_IN_UNIFORM_FLAG', \n",
    "                                              'FRISKED_FLAG'])"
   ]
  },
  {
   "cell_type": "code",
   "execution_count": 114,
   "metadata": {},
   "outputs": [],
   "source": [
    "p = inflect.engine()\n",
    "\n",
    "sqf_cpw_filter['YEAR2'] = sqf_cpw_filter['YEAR2'].apply(lambda x: p.number_to_words(int(x)))\n",
    "sqf_cpw_filter['MONTH2'] = sqf_cpw_filter['MONTH2'].apply(lambda x: p.number_to_words(int(x)))\n",
    "sqf_cpw_filter['DAY2'] = sqf_cpw_filter['DAY2'].apply(lambda x: p.number_to_words(int(x)))\n",
    "sqf_cpw_filter['STOP_LOCATION_PRECINCT'] = sqf_cpw_filter['STOP_LOCATION_PRECINCT'].apply(lambda x: p.number_to_words(int(x)))"
   ]
  },
  {
   "cell_type": "code",
   "execution_count": 115,
   "metadata": {},
   "outputs": [],
   "source": [
    "# Convert to correct datatype --> object for categorical, float64 for numerical \n",
    "sqf_cpw_filter = sqf_cpw_filter.astype({'YEAR2': 'object',\n",
    "                                        'OBSERVED_DURATION_MINUTES': 'float64',\n",
    "                                        'OFFICER_IN_UNIFORM_FLAG': 'object',\n",
    "                                        'STOP_LOCATION_PRECINCT': 'object',\n",
    "                                        'LOCATION_IN_OUT_CODE': 'object', 'JURISDICTION_CODE': 'object',\n",
    "                                        'SUSPECT_SEX': 'object', 'SUSPECT_RACE_DESCRIPTION': 'object',\n",
    "                                        'SUSPECT_REPORTED_AGE': 'float64', 'SUSPECT_BODY_BUILD_TYPE': 'object',\n",
    "                                        'SUSPECT_WEIGHT': 'float64', 'WEAPON_FOUND_FLAG': 'object', \n",
    "                                        'MONTH2': 'string', 'DAY2': 'string',\n",
    "                                        'STOP_FRISK_TIME': 'float64'\n",
    "                                        })"
   ]
  },
  {
   "cell_type": "code",
   "execution_count": 116,
   "metadata": {},
   "outputs": [],
   "source": [
    "#sqf_cpw_filter = sqf_cpw_filter.drop(columns='FRISKED_FLAG')"
   ]
  },
  {
   "cell_type": "code",
   "execution_count": 117,
   "metadata": {},
   "outputs": [
    {
     "name": "stdout",
     "output_type": "stream",
     "text": [
      "<class 'pandas.core.frame.DataFrame'>\n",
      "RangeIndex: 13031 entries, 0 to 13030\n",
      "Data columns (total 17 columns):\n",
      " #   Column                     Non-Null Count  Dtype  \n",
      "---  ------                     --------------  -----  \n",
      " 0   YEAR2                      13031 non-null  object \n",
      " 1   STOP_LOCATION_PRECINCT     13031 non-null  object \n",
      " 2   LOCATION_IN_OUT_CODE       10283 non-null  object \n",
      " 3   JURISDICTION_CODE          10735 non-null  object \n",
      " 4   OBSERVED_DURATION_MINUTES  13031 non-null  float64\n",
      " 5   OFFICER_IN_UNIFORM_FLAG    13031 non-null  object \n",
      " 6   STOP_WAS_INITIATED         13031 non-null  object \n",
      " 7   SUSPECT_SEX                12998 non-null  object \n",
      " 8   SUSPECT_RACE_DESCRIPTION   13031 non-null  object \n",
      " 9   SUSPECT_REPORTED_AGE       12262 non-null  float64\n",
      " 10  SUSPECT_WEIGHT             12720 non-null  float64\n",
      " 11  SUSPECT_BODY_BUILD_TYPE    12882 non-null  object \n",
      " 12  WEAPON_FOUND_FLAG          13031 non-null  object \n",
      " 13  SUSPECT_HEIGHT             12699 non-null  float64\n",
      " 14  MONTH2                     13031 non-null  string \n",
      " 15  DAY2                       13031 non-null  string \n",
      " 16  STOP_FRISK_TIME            13031 non-null  float64\n",
      "dtypes: float64(5), object(10), string(2)\n",
      "memory usage: 1.7+ MB\n"
     ]
    }
   ],
   "source": [
    "sqf_cpw_filter.info()"
   ]
  },
  {
   "cell_type": "markdown",
   "metadata": {},
   "source": [
    "### Simple Imputation Function"
   ]
  },
  {
   "cell_type": "code",
   "execution_count": 118,
   "metadata": {
    "id": "YbFd-2Pg79v7"
   },
   "outputs": [],
   "source": [
    "# simple imputation \n",
    "\n",
    "def fill_missing_data(df):\n",
    "    num_cols = df.select_dtypes(['float64', 'int64'])\n",
    "    cat_cols = df.select_dtypes(['object', 'string'])\n",
    "    for col in num_cols:\n",
    "        df[col] = df[col].fillna(df[col].mean())\n",
    "    for col in cat_cols:\n",
    "        df[col] = df[col].fillna(df[col].mode()[0])    \n",
    "    return df"
   ]
  },
  {
   "cell_type": "code",
   "execution_count": 119,
   "metadata": {
    "id": "umypTSrAXGBa"
   },
   "outputs": [],
   "source": [
    "# # imputation (ascending order of missing values) after ohe\n",
    "\n",
    "# from sklearn.experimental import enable_iterative_imputer\n",
    "# from sklearn.impute import IterativeImputer\n",
    "\n",
    "# sqf_ohe = pd.get_dummies(sqf_cpw_filter, drop_first=True, columns=['YEAR2', 'STOP_LOCATION_PRECINCT', \n",
    "#                                                                    'LOCATION_IN_OUT_CODE', \n",
    "#                                                                    'OFFICER_IN_UNIFORM_FLAG', 'FRISKED_FLAG', \n",
    "#                                                                    'STOP_WAS_INITIATED', 'JURISDICTION_CODE', \n",
    "#                                                                    'SUSPECT_SEX', 'WEAPON_FOUND_FLAG', \n",
    "#                                                                    'SUSPECT_RACE_DESCRIPTION', \n",
    "#                                                                    'SUSPECT_BODY_BUILD_TYPE', \n",
    "#                                                                    'MONTH2', 'DAY2'])\n",
    "\n",
    "# imputer = IterativeImputer(random_state=0)\n",
    "# imputed = imputer.fit_transform(sqf_ohe)\n",
    "# sqf_cpw_filter_itimp = pd.DataFrame(imputed, columns=sqf_ohe.columns)"
   ]
  },
  {
   "cell_type": "markdown",
   "metadata": {},
   "source": [
    "### Preprocessing Functions"
   ]
  },
  {
   "cell_type": "code",
   "execution_count": 120,
   "metadata": {},
   "outputs": [],
   "source": [
    "from sklearn.model_selection import train_test_split\n",
    "from sklearn.preprocessing import StandardScaler"
   ]
  },
  {
   "cell_type": "code",
   "execution_count": 200,
   "metadata": {},
   "outputs": [],
   "source": [
    "def standardize_data(df_num, t1=0.2, t2=0.25):\n",
    "    print(t1, t2)\n",
    "    train, test = train_test_split(df_num, test_size=t1, random_state=1)\n",
    "    train, val = train_test_split(train, test_size=t2, random_state=1)\n",
    "    scaler = StandardScaler()\n",
    "    train_scale = scaler.fit_transform(train)\n",
    "    val_scale = scaler.transform(val)\n",
    "    test_scale = scaler.transform(test)\n",
    "    scaled_train = pd.DataFrame(train_scale, index=train.index, columns=train.columns)\n",
    "    scaled_val = pd.DataFrame(val_scale, index=val.index, columns=val.columns)\n",
    "    scaled_test = pd.DataFrame(test_scale, index=test.index, columns=test.columns)\n",
    "    return scaled_train, scaled_val, scaled_test"
   ]
  },
  {
   "cell_type": "code",
   "execution_count": 201,
   "metadata": {},
   "outputs": [],
   "source": [
    "def process_data_simpleimputer(sqf_cpw, t1=0.2, t2=0.25):\n",
    "    weapon = 'WEAPON_FOUND_FLAG_Y'\n",
    "    df_num = sqf_cpw.select_dtypes(['float64', 'int64'])\n",
    "    df_cat = sqf_cpw.select_dtypes(['object', 'string'])\n",
    "    cat = df_cat.columns\n",
    "    df_ohe = pd.get_dummies(df_cat, prefix=cat, columns=cat, drop_first=True)\n",
    "    train_cat, test_cat = train_test_split(df_ohe, test_size=0.2, random_state=1)\n",
    "    train_cat, val_cat = train_test_split(train_cat, test_size=0.25, random_state=1)\n",
    "    train_num, val_num, test_num = standardize_data(df_num, t1, t2)\n",
    "    train = train_num.join(train_cat, how='outer')\n",
    "    val = val_num.join(val_cat, how='outer')\n",
    "    test = test_num.join(test_cat, how='outer')\n",
    "    train_x = train.drop([weapon], axis=1)\n",
    "    val_x = val.drop([weapon], axis=1)\n",
    "    test_x = test.drop([weapon], axis=1)\n",
    "    # targets\n",
    "    targets_train = train[weapon]\n",
    "    targets_val = val[weapon]\n",
    "    targets_test = test[weapon]\n",
    "    \n",
    "    return train_x, val_x, test_x, targets_train, targets_val, targets_test"
   ]
  },
  {
   "cell_type": "code",
   "execution_count": 271,
   "metadata": {},
   "outputs": [],
   "source": [
    "from sklearn.metrics import confusion_matrix\n",
    "def specificity(y_true, y_pred):\n",
    "    tn, fp, fn, tp = confusion_matrix(y_true, y_pred).ravel()\n",
    "    #print(tn)\n",
    "    #print(fp)\n",
    "    specificity = tn / (tn+fp)\n",
    "    return specificity "
   ]
  },
  {
   "cell_type": "code",
   "execution_count": 430,
   "metadata": {},
   "outputs": [],
   "source": [
    "def weighted_accuracy(true, pred):\n",
    "    assert(len(pred) == len(true))\n",
    "    num_labels = len(true)\n",
    "    num_pos = sum(true)\n",
    "    num_neg = num_labels - num_pos \n",
    "    frac_pos = num_pos/num_labels \n",
    "    weight_pos = 1/frac_pos\n",
    "    weight_neg = 1/(1-frac_pos)\n",
    "    #print(weight_pos)\n",
    "    #print(weight_neg)\n",
    "    num_pos_correct = 0\n",
    "    num_neg_correct = 0\n",
    "    for pred_i, true_i in zip(pred, true): \n",
    "        num_pos_correct += (pred_i == true_i and true_i == 1) \n",
    "        num_neg_correct += (pred_i == true_i and true_i == 0) \n",
    "        weighted_accuracy = ((weight_pos * num_pos_correct) \n",
    "                             + (weight_neg * num_neg_correct))/((weight_pos * num_pos) + (weight_neg * num_neg)) \n",
    "    return weighted_accuracy "
   ]
  },
  {
   "cell_type": "code",
   "execution_count": 182,
   "metadata": {},
   "outputs": [
    {
     "name": "stdout",
     "output_type": "stream",
     "text": [
      "<class 'pandas.core.frame.DataFrame'>\n",
      "RangeIndex: 13031 entries, 0 to 13030\n",
      "Data columns (total 17 columns):\n",
      " #   Column                     Non-Null Count  Dtype  \n",
      "---  ------                     --------------  -----  \n",
      " 0   YEAR2                      13031 non-null  object \n",
      " 1   STOP_LOCATION_PRECINCT     13031 non-null  object \n",
      " 2   LOCATION_IN_OUT_CODE       10283 non-null  object \n",
      " 3   JURISDICTION_CODE          10735 non-null  object \n",
      " 4   OBSERVED_DURATION_MINUTES  13031 non-null  float64\n",
      " 5   OFFICER_IN_UNIFORM_FLAG    13031 non-null  object \n",
      " 6   STOP_WAS_INITIATED         13031 non-null  object \n",
      " 7   SUSPECT_SEX                12998 non-null  object \n",
      " 8   SUSPECT_RACE_DESCRIPTION   13031 non-null  object \n",
      " 9   SUSPECT_REPORTED_AGE       12262 non-null  float64\n",
      " 10  SUSPECT_WEIGHT             12720 non-null  float64\n",
      " 11  SUSPECT_BODY_BUILD_TYPE    12882 non-null  object \n",
      " 12  WEAPON_FOUND_FLAG          13031 non-null  object \n",
      " 13  SUSPECT_HEIGHT             12699 non-null  float64\n",
      " 14  MONTH2                     13031 non-null  string \n",
      " 15  DAY2                       13031 non-null  string \n",
      " 16  STOP_FRISK_TIME            13031 non-null  float64\n",
      "dtypes: float64(5), object(10), string(2)\n",
      "memory usage: 1.7+ MB\n"
     ]
    }
   ],
   "source": [
    "sqf_cpw_filter.info()"
   ]
  },
  {
   "cell_type": "markdown",
   "metadata": {},
   "source": [
    "### Drop missing data (no reg) - Baseline"
   ]
  },
  {
   "cell_type": "code",
   "execution_count": 256,
   "metadata": {},
   "outputs": [
    {
     "data": {
      "text/plain": [
       "(8386, 17)"
      ]
     },
     "execution_count": 256,
     "metadata": {},
     "output_type": "execute_result"
    }
   ],
   "source": [
    "sqf_cpw_dropped = sqf_cpw_filter.dropna()\n",
    "sqf_cpw_dropped.shape"
   ]
  },
  {
   "cell_type": "code",
   "execution_count": 257,
   "metadata": {},
   "outputs": [],
   "source": [
    "sqf_cpw_dropped_simpimp = fill_missing_data(sqf_cpw_dropped)"
   ]
  },
  {
   "cell_type": "code",
   "execution_count": 258,
   "metadata": {},
   "outputs": [
    {
     "name": "stdout",
     "output_type": "stream",
     "text": [
      "0.2 0.25\n"
     ]
    }
   ],
   "source": [
    "b_train, b_val, b_test, targets_train_b, targets_val_b, targets_test_b = process_data_simpleimputer(sqf_cpw_dropped_simpimp)"
   ]
  },
  {
   "cell_type": "code",
   "execution_count": 370,
   "metadata": {},
   "outputs": [
    {
     "data": {
      "text/plain": [
       "(5031, 118)"
      ]
     },
     "execution_count": 370,
     "metadata": {},
     "output_type": "execute_result"
    }
   ],
   "source": [
    "b_train.shape"
   ]
  },
  {
   "cell_type": "code",
   "execution_count": 259,
   "metadata": {
    "scrolled": true
   },
   "outputs": [
    {
     "name": "stderr",
     "output_type": "stream",
     "text": [
      "/Users/eeshakhanna/opt/anaconda3/lib/python3.7/site-packages/sklearn/linear_model/_logistic.py:818: ConvergenceWarning: lbfgs failed to converge (status=1):\n",
      "STOP: TOTAL NO. of ITERATIONS REACHED LIMIT.\n",
      "\n",
      "Increase the number of iterations (max_iter) or scale the data as shown in:\n",
      "    https://scikit-learn.org/stable/modules/preprocessing.html\n",
      "Please also refer to the documentation for alternative solver options:\n",
      "    https://scikit-learn.org/stable/modules/linear_model.html#logistic-regression\n",
      "  extra_warning_msg=_LOGISTIC_SOLVER_CONVERGENCE_MSG,\n"
     ]
    }
   ],
   "source": [
    "from sklearn.linear_model import LogisticRegression\n",
    "\n",
    "logreg_b = LogisticRegression(penalty='none')\n",
    "\n",
    "logreg_b.fit(b_train, targets_train_b)\n",
    "\n",
    "y_train_pred_b = logreg_b.predict_proba(b_train)"
   ]
  },
  {
   "cell_type": "code",
   "execution_count": 260,
   "metadata": {},
   "outputs": [
    {
     "name": "stdout",
     "output_type": "stream",
     "text": [
      "acc train =  0.8397932816537468\n",
      "acc val =  0.8503279666070364\n"
     ]
    }
   ],
   "source": [
    "# Accuracy\n",
    "from sklearn.metrics import accuracy_score\n",
    "y_acc_train_b = accuracy_score(targets_train_b, logreg_b.predict(b_train))\n",
    "y_acc_val_b = accuracy_score(targets_val_b, logreg_b.predict(b_val))\n",
    "print('acc train = ', y_acc_train_b)\n",
    "print('acc val = ', y_acc_val_b)"
   ]
  },
  {
   "cell_type": "code",
   "execution_count": 431,
   "metadata": {},
   "outputs": [
    {
     "name": "stdout",
     "output_type": "stream",
     "text": [
      "weightedacc train =  0.5742357606734166\n",
      "weighted acc val =  0.5722855380219495\n"
     ]
    }
   ],
   "source": [
    "# Weighted accuracy\n",
    "y_wacc_train_b = weighted_accuracy(targets_train_b, logreg_b.predict(b_train))\n",
    "y_wacc_val_b = weighted_accuracy(targets_val_b, logreg_b.predict(b_val))\n",
    "print('weightedacc train = ', y_wacc_train_b)\n",
    "print('weighted acc val = ', y_wacc_val_b)"
   ]
  },
  {
   "cell_type": "code",
   "execution_count": 261,
   "metadata": {},
   "outputs": [
    {
     "name": "stdout",
     "output_type": "stream",
     "text": [
      "The AUC score of my training set: 0.7572833709734934\n"
     ]
    }
   ],
   "source": [
    "from sklearn.metrics import roc_auc_score\n",
    "print('The AUC score of my training set:', roc_auc_score(targets_train_b, y_train_pred_b[:, 1]))"
   ]
  },
  {
   "cell_type": "code",
   "execution_count": 262,
   "metadata": {},
   "outputs": [
    {
     "data": {
      "text/plain": [
       "0.7103193930341798"
      ]
     },
     "execution_count": 262,
     "metadata": {},
     "output_type": "execute_result"
    }
   ],
   "source": [
    "# AUC score for validation set\n",
    "y_val_pred_b = logreg_b.predict_proba(b_val)\n",
    "roc_auc_score(targets_val_b, y_val_pred_b[:, 1])"
   ]
  },
  {
   "cell_type": "code",
   "execution_count": 263,
   "metadata": {},
   "outputs": [
    {
     "name": "stdout",
     "output_type": "stream",
     "text": [
      "Train recall =  0.16201117318435754\n",
      "Val recall =  0.1685823754789272\n"
     ]
    }
   ],
   "source": [
    "from sklearn.metrics import recall_score\n",
    "recall_train_b = recall_score(targets_train_b, logreg_b.predict(b_train))\n",
    "recall_val_b = recall_score(targets_val_b, logreg_b.predict(b_val))\n",
    "print ('Train recall = ', recall_train_b)\n",
    "print('Val recall = ', recall_val_b)"
   ]
  },
  {
   "cell_type": "code",
   "execution_count": 272,
   "metadata": {},
   "outputs": [
    {
     "name": "stdout",
     "output_type": "stream",
     "text": [
      "Train specificity =  0.9864603481624759\n",
      "Val specificity =  0.9759887005649718\n"
     ]
    }
   ],
   "source": [
    "sp_train_b = specificity(targets_train_b, logreg_b.predict(b_train))\n",
    "sp_val_b = specificity(targets_val_b, logreg_b.predict(b_val))\n",
    "print ('Train specificity = ', sp_train_b)\n",
    "print('Val specificity = ', sp_val_b)"
   ]
  },
  {
   "cell_type": "code",
   "execution_count": 227,
   "metadata": {},
   "outputs": [
    {
     "name": "stdout",
     "output_type": "stream",
     "text": [
      "Train F1 =  0.2645985401459854\n",
      "Val F1 =  0.25958702064896755\n"
     ]
    }
   ],
   "source": [
    "#f1 score\n",
    "from sklearn.metrics import f1_score\n",
    "f1_train_b = f1_score(targets_train_b, logreg_b.predict(b_train))\n",
    "f1_val_b = f1_score(targets_val_b, logreg_b.predict(b_val))\n",
    "print('Train F1 = ', f1_train_b)\n",
    "print('Val F1 = ', f1_val_b)"
   ]
  },
  {
   "cell_type": "code",
   "execution_count": 266,
   "metadata": {
    "scrolled": false
   },
   "outputs": [
    {
     "name": "stderr",
     "output_type": "stream",
     "text": [
      "/Users/eeshakhanna/opt/anaconda3/lib/python3.7/site-packages/sklearn/utils/deprecation.py:87: FutureWarning: Function plot_confusion_matrix is deprecated; Function `plot_confusion_matrix` is deprecated in 1.0 and will be removed in 1.2. Use one of the class methods: ConfusionMatrixDisplay.from_predictions or ConfusionMatrixDisplay.from_estimator.\n",
      "  warnings.warn(msg, category=FutureWarning)\n"
     ]
    },
    {
     "data": {
      "text/plain": [
       "<sklearn.metrics._plot.confusion_matrix.ConfusionMatrixDisplay at 0x7f9e84bf4bd0>"
      ]
     },
     "execution_count": 266,
     "metadata": {},
     "output_type": "execute_result"
    },
    {
     "data": {
      "image/png": "[encoded data removed]",
      "text/plain": [
       "<Figure size 432x288 with 2 Axes>"
      ]
     },
     "metadata": {
      "needs_background": "light"
     },
     "output_type": "display_data"
    }
   ],
   "source": [
    "# Train conf matrix\n",
    "#from sklearn.metrics import confusion_matrix\n",
    "from sklearn.metrics import plot_confusion_matrix\n",
    "#confusion_matrix(targets_train, logreg.predict(scaled_train))\n",
    "plot_confusion_matrix(logreg_b, b_train, targets_train_b) "
   ]
  },
  {
   "cell_type": "code",
   "execution_count": 267,
   "metadata": {},
   "outputs": [
    {
     "name": "stderr",
     "output_type": "stream",
     "text": [
      "/Users/eeshakhanna/opt/anaconda3/lib/python3.7/site-packages/sklearn/utils/deprecation.py:87: FutureWarning: Function plot_confusion_matrix is deprecated; Function `plot_confusion_matrix` is deprecated in 1.0 and will be removed in 1.2. Use one of the class methods: ConfusionMatrixDisplay.from_predictions or ConfusionMatrixDisplay.from_estimator.\n",
      "  warnings.warn(msg, category=FutureWarning)\n"
     ]
    },
    {
     "data": {
      "text/plain": [
       "<sklearn.metrics._plot.confusion_matrix.ConfusionMatrixDisplay at 0x7f9e84bf07d0>"
      ]
     },
     "execution_count": 267,
     "metadata": {},
     "output_type": "execute_result"
    },
    {
     "data": {
      "image/png": "[encoded data removed]",
      "text/plain": [
       "<Figure size 432x288 with 2 Axes>"
      ]
     },
     "metadata": {
      "needs_background": "light"
     },
     "output_type": "display_data"
    }
   ],
   "source": [
    "# Val conf matrix\n",
    "from sklearn.metrics import plot_confusion_matrix\n",
    "plot_confusion_matrix(logreg_b, b_val, targets_val_b) "
   ]
  },
  {
   "cell_type": "markdown",
   "metadata": {},
   "source": [
    "### Simple imputation (no reg)"
   ]
  },
  {
   "cell_type": "code",
   "execution_count": 133,
   "metadata": {},
   "outputs": [],
   "source": [
    "sqf_cpw_filter_simpimp = fill_missing_data(sqf_cpw_filter.copy())"
   ]
  },
  {
   "cell_type": "code",
   "execution_count": 134,
   "metadata": {},
   "outputs": [],
   "source": [
    "scaled_train, scaled_val, scaled_test, targets_train, targets_val, targets_test = process_data_simpleimputer(sqf_cpw_filter_simpimp)"
   ]
  },
  {
   "cell_type": "code",
   "execution_count": 135,
   "metadata": {
    "id": "I1kgck5A2qDF"
   },
   "outputs": [
    {
     "name": "stderr",
     "output_type": "stream",
     "text": [
      "/Users/eeshakhanna/opt/anaconda3/lib/python3.7/site-packages/sklearn/linear_model/_logistic.py:818: ConvergenceWarning: lbfgs failed to converge (status=1):\n",
      "STOP: TOTAL NO. of ITERATIONS REACHED LIMIT.\n",
      "\n",
      "Increase the number of iterations (max_iter) or scale the data as shown in:\n",
      "    https://scikit-learn.org/stable/modules/preprocessing.html\n",
      "Please also refer to the documentation for alternative solver options:\n",
      "    https://scikit-learn.org/stable/modules/linear_model.html#logistic-regression\n",
      "  extra_warning_msg=_LOGISTIC_SOLVER_CONVERGENCE_MSG,\n"
     ]
    }
   ],
   "source": [
    "from sklearn.linear_model import LogisticRegression\n",
    "\n",
    "logreg = LogisticRegression(penalty='none')\n",
    "\n",
    "logreg.fit(scaled_train, targets_train)\n",
    "\n",
    "y_train_pred = logreg.predict_proba(scaled_train)"
   ]
  },
  {
   "cell_type": "code",
   "execution_count": 136,
   "metadata": {},
   "outputs": [
    {
     "name": "stdout",
     "output_type": "stream",
     "text": [
      "acc train =  0.8404962906114095\n",
      "acc val =  0.8468917881811205\n"
     ]
    }
   ],
   "source": [
    "# Accuracy\n",
    "from sklearn.metrics import accuracy_score\n",
    "y_acc_train = accuracy_score(targets_train, logreg.predict(scaled_train))\n",
    "y_acc_val = accuracy_score(targets_val, logreg.predict(scaled_val))\n",
    "print('acc train = ', y_acc_train)\n",
    "print('acc val = ', y_acc_val)"
   ]
  },
  {
   "cell_type": "code",
   "execution_count": 137,
   "metadata": {
    "colab": {
     "base_uri": "https://localhost:8080/"
    },
    "id": "r9P7es3V2wqM",
    "outputId": "d14b3d35-2d7a-46a3-865b-9a90d1d77dcd"
   },
   "outputs": [
    {
     "name": "stdout",
     "output_type": "stream",
     "text": [
      "The AUC score of my training set:\n"
     ]
    },
    {
     "data": {
      "text/plain": [
       "0.7283280267953146"
      ]
     },
     "execution_count": 137,
     "metadata": {},
     "output_type": "execute_result"
    }
   ],
   "source": [
    "from sklearn.metrics import roc_auc_score\n",
    "print('The AUC score of my training set:')\n",
    "roc_auc_score(targets_train, y_train_pred[:, 1])"
   ]
  },
  {
   "cell_type": "code",
   "execution_count": 138,
   "metadata": {
    "colab": {
     "base_uri": "https://localhost:8080/"
    },
    "id": "BYhrXN453kfs",
    "outputId": "3a2e94e5-17d7-458d-b097-a1e4eeb0809d"
   },
   "outputs": [
    {
     "data": {
      "text/plain": [
       "0.6710821531975193"
      ]
     },
     "execution_count": 138,
     "metadata": {},
     "output_type": "execute_result"
    }
   ],
   "source": [
    "# AUC score for validation set\n",
    "y_val_pred = logreg.predict_proba(scaled_val)\n",
    "roc_auc_score(targets_val, y_val_pred[:, 1])"
   ]
  },
  {
   "cell_type": "code",
   "execution_count": 139,
   "metadata": {},
   "outputs": [
    {
     "name": "stderr",
     "output_type": "stream",
     "text": [
      "/Users/eeshakhanna/opt/anaconda3/lib/python3.7/site-packages/sklearn/utils/deprecation.py:87: FutureWarning: Function plot_confusion_matrix is deprecated; Function `plot_confusion_matrix` is deprecated in 1.0 and will be removed in 1.2. Use one of the class methods: ConfusionMatrixDisplay.from_predictions or ConfusionMatrixDisplay.from_estimator.\n",
      "  warnings.warn(msg, category=FutureWarning)\n"
     ]
    },
    {
     "data": {
      "text/plain": [
       "<sklearn.metrics._plot.confusion_matrix.ConfusionMatrixDisplay at 0x7f9e848f9710>"
      ]
     },
     "execution_count": 139,
     "metadata": {},
     "output_type": "execute_result"
    },
    {
     "data": {
      "image/png": "[encoded data removed]",
      "text/plain": [
       "<Figure size 432x288 with 2 Axes>"
      ]
     },
     "metadata": {
      "needs_background": "light"
     },
     "output_type": "display_data"
    }
   ],
   "source": [
    "# Train conf matrix\n",
    "#from sklearn.metrics import confusion_matrix\n",
    "from sklearn.metrics import plot_confusion_matrix\n",
    "#confusion_matrix(targets_train, logreg.predict(scaled_train))\n",
    "plot_confusion_matrix(logreg, scaled_train, targets_train) "
   ]
  },
  {
   "cell_type": "code",
   "execution_count": 140,
   "metadata": {},
   "outputs": [
    {
     "name": "stderr",
     "output_type": "stream",
     "text": [
      "/Users/eeshakhanna/opt/anaconda3/lib/python3.7/site-packages/sklearn/utils/deprecation.py:87: FutureWarning: Function plot_confusion_matrix is deprecated; Function `plot_confusion_matrix` is deprecated in 1.0 and will be removed in 1.2. Use one of the class methods: ConfusionMatrixDisplay.from_predictions or ConfusionMatrixDisplay.from_estimator.\n",
      "  warnings.warn(msg, category=FutureWarning)\n"
     ]
    },
    {
     "data": {
      "text/plain": [
       "<sklearn.metrics._plot.confusion_matrix.ConfusionMatrixDisplay at 0x7f9e84c0b6d0>"
      ]
     },
     "execution_count": 140,
     "metadata": {},
     "output_type": "execute_result"
    },
    {
     "data": {
      "image/png": "[encoded data removed]",
      "text/plain": [
       "<Figure size 432x288 with 2 Axes>"
      ]
     },
     "metadata": {
      "needs_background": "light"
     },
     "output_type": "display_data"
    }
   ],
   "source": [
    "# Val conf matrix\n",
    "from sklearn.metrics import plot_confusion_matrix\n",
    "plot_confusion_matrix(logreg, scaled_val, targets_val)"
   ]
  },
  {
   "cell_type": "markdown",
   "metadata": {},
   "source": [
    "### Iterative imputer (no reg)"
   ]
  },
  {
   "cell_type": "code",
   "execution_count": 141,
   "metadata": {},
   "outputs": [],
   "source": [
    "sqf_itimp = sqf_cpw_filter.copy()"
   ]
  },
  {
   "cell_type": "code",
   "execution_count": 144,
   "metadata": {},
   "outputs": [],
   "source": [
    "# imputation (ascending order of missing values) after ohe\n",
    "\n",
    "from sklearn.experimental import enable_iterative_imputer\n",
    "from sklearn.impute import IterativeImputer\n",
    "\n",
    "sqf_ohe = pd.get_dummies(sqf_itimp, drop_first=True, columns=['YEAR2', 'STOP_LOCATION_PRECINCT', \n",
    "                                                                   'LOCATION_IN_OUT_CODE', \n",
    "                                                                   'OFFICER_IN_UNIFORM_FLAG', \n",
    "                                                                   'STOP_WAS_INITIATED', 'JURISDICTION_CODE', \n",
    "                                                                   'SUSPECT_SEX', 'WEAPON_FOUND_FLAG', \n",
    "                                                                   'SUSPECT_RACE_DESCRIPTION', \n",
    "                                                                   'SUSPECT_BODY_BUILD_TYPE', \n",
    "                                                                   'MONTH2', 'DAY2'])\n",
    "\n",
    "imputer = IterativeImputer(random_state=100)\n",
    "imputed = imputer.fit_transform(sqf_ohe)\n",
    "sqf_cpw_filter_itimp = pd.DataFrame(imputed, columns=sqf_ohe.columns)"
   ]
  },
  {
   "cell_type": "code",
   "execution_count": 145,
   "metadata": {},
   "outputs": [],
   "source": [
    "def process_data_itimputer(sqf_cpw):\n",
    "    # train, val, test split\n",
    "    train, test = train_test_split(sqf_cpw, test_size=0.2, random_state=1)\n",
    "    train, val = train_test_split(train, test_size=0.25, random_state=1)\n",
    "    df_train = train\n",
    "    df_val = val\n",
    "    df_test = test\n",
    "    weapon = 'WEAPON_FOUND_FLAG_Y'\n",
    "    \n",
    "    # standardize columns\n",
    "    scaler = StandardScaler()\n",
    "    train_scale = scaler.fit_transform(df_train)\n",
    "    val_scale = scaler.transform(df_val)\n",
    "    test_scale = scaler.transform(df_test)\n",
    "    scaled_train = pd.DataFrame(train_scale, index=df_train.index, columns=df_train.columns)\n",
    "    scaled_val = pd.DataFrame(val_scale, index=df_val.index, columns=df_val.columns)\n",
    "    scaled_test = pd.DataFrame(test_scale, index=df_test.index, columns=df_test.columns)\n",
    "\n",
    "    scaled_train_x = scaled_train.drop([weapon], axis=1)\n",
    "    scaled_val_x = scaled_val.drop([weapon], axis=1)\n",
    "    scaled_test_x = scaled_test.drop([weapon], axis=1)\n",
    "    # targets\n",
    "    targets_train = df_train[weapon]\n",
    "    targets_val = df_val[weapon]\n",
    "    targets_test = df_test[weapon]\n",
    "    \n",
    "    return scaled_train_x, scaled_val_x, scaled_test_x, targets_train, targets_val, targets_test"
   ]
  },
  {
   "cell_type": "code",
   "execution_count": 146,
   "metadata": {},
   "outputs": [],
   "source": [
    "scaled_train_i, scaled_val_i, scaled_test_i, targets_train_i, targets_val_i, targets_test_i = process_data_itimputer(sqf_cpw_filter_itimp)"
   ]
  },
  {
   "cell_type": "code",
   "execution_count": 147,
   "metadata": {},
   "outputs": [],
   "source": [
    "logreg_i = LogisticRegression(penalty='none')\n",
    "\n",
    "logreg_i.fit(scaled_train_i, targets_train_i)\n",
    "\n",
    "y_train_pred_i = logreg_i.predict_proba(scaled_train_i)"
   ]
  },
  {
   "cell_type": "code",
   "execution_count": 148,
   "metadata": {},
   "outputs": [
    {
     "name": "stdout",
     "output_type": "stream",
     "text": [
      "The AUC score of my training set:\n"
     ]
    },
    {
     "data": {
      "text/plain": [
       "0.7275568871300575"
      ]
     },
     "execution_count": 148,
     "metadata": {},
     "output_type": "execute_result"
    }
   ],
   "source": [
    "print('The AUC score of my training set:')\n",
    "roc_auc_score(targets_train_i, y_train_pred_i[:, 1])"
   ]
  },
  {
   "cell_type": "code",
   "execution_count": 149,
   "metadata": {},
   "outputs": [
    {
     "data": {
      "text/plain": [
       "0.6708405132825415"
      ]
     },
     "execution_count": 149,
     "metadata": {},
     "output_type": "execute_result"
    }
   ],
   "source": [
    "# AUC score for validation set\n",
    "y_val_pred_i = logreg_i.predict_proba(scaled_val_i)\n",
    "roc_auc_score(targets_val_i, y_val_pred_i[:, 1])"
   ]
  },
  {
   "cell_type": "markdown",
   "metadata": {},
   "source": [
    "### Drop missing data (with reg) - Baseline "
   ]
  },
  {
   "cell_type": "code",
   "execution_count": 150,
   "metadata": {},
   "outputs": [],
   "source": [
    "# sqf_cpw_dropped = sqf_cpw_filter.dropna()\n",
    "# sqf_cpw_dropped.shape"
   ]
  },
  {
   "cell_type": "code",
   "execution_count": 151,
   "metadata": {},
   "outputs": [],
   "source": [
    "# sqf_cpw_dropped_simpimp = fill_missing_data(sqf_cpw_dropped)"
   ]
  },
  {
   "cell_type": "code",
   "execution_count": 152,
   "metadata": {},
   "outputs": [],
   "source": [
    "# b_train, b_val, b_test, targets_train_b, targets_val_b, targets_test_b = process_data_simpleimputer(sqf_cpw_dropped_simpimp)"
   ]
  },
  {
   "cell_type": "code",
   "execution_count": 434,
   "metadata": {
    "scrolled": true
   },
   "outputs": [],
   "source": [
    "from sklearn.linear_model import LogisticRegression\n",
    "\n",
    "logreg_reg = LogisticRegression(penalty='l1', solver='liblinear')\n",
    "\n",
    "logreg_reg.fit(b_train, targets_train_b)\n",
    "\n",
    "y_train_pred_reg = logreg_reg.predict_proba(b_train)"
   ]
  },
  {
   "cell_type": "code",
   "execution_count": 435,
   "metadata": {},
   "outputs": [
    {
     "name": "stdout",
     "output_type": "stream",
     "text": [
      "acc train =  0.8405883522162592\n",
      "acc val =  0.8521168753726893\n"
     ]
    }
   ],
   "source": [
    "# Accuracy\n",
    "from sklearn.metrics import accuracy_score\n",
    "y_acc_train_reg = accuracy_score(targets_train_b, logreg_reg.predict(b_train))\n",
    "y_acc_val_reg = accuracy_score(targets_val_b, logreg_reg.predict(b_val))\n",
    "print('acc train = ', y_acc_train_reg)\n",
    "print('acc val = ', y_acc_val_reg)"
   ]
  },
  {
   "cell_type": "code",
   "execution_count": 436,
   "metadata": {},
   "outputs": [
    {
     "name": "stdout",
     "output_type": "stream",
     "text": [
      "The AUC score of my training set:\n"
     ]
    },
    {
     "data": {
      "text/plain": [
       "0.7529578142052883"
      ]
     },
     "execution_count": 436,
     "metadata": {},
     "output_type": "execute_result"
    }
   ],
   "source": [
    "from sklearn.metrics import roc_auc_score\n",
    "print('The AUC score of my training set:')\n",
    "roc_auc_score(targets_train_b, y_train_pred_reg[:, 1])"
   ]
  },
  {
   "cell_type": "code",
   "execution_count": 437,
   "metadata": {},
   "outputs": [
    {
     "data": {
      "text/plain": [
       "0.7165860337251337"
      ]
     },
     "execution_count": 437,
     "metadata": {},
     "output_type": "execute_result"
    }
   ],
   "source": [
    "# AUC score for validation set\n",
    "y_val_pred_reg = logreg_reg.predict_proba(b_val)\n",
    "roc_auc_score(targets_val_b, y_val_pred_reg[:, 1])"
   ]
  },
  {
   "cell_type": "code",
   "execution_count": 325,
   "metadata": {},
   "outputs": [
    {
     "name": "stderr",
     "output_type": "stream",
     "text": [
      "/Users/eeshakhanna/opt/anaconda3/lib/python3.7/site-packages/sklearn/utils/deprecation.py:87: FutureWarning: Function plot_confusion_matrix is deprecated; Function `plot_confusion_matrix` is deprecated in 1.0 and will be removed in 1.2. Use one of the class methods: ConfusionMatrixDisplay.from_predictions or ConfusionMatrixDisplay.from_estimator.\n",
      "  warnings.warn(msg, category=FutureWarning)\n"
     ]
    },
    {
     "data": {
      "text/plain": [
       "<sklearn.metrics._plot.confusion_matrix.ConfusionMatrixDisplay at 0x7f9e8495b5d0>"
      ]
     },
     "execution_count": 325,
     "metadata": {},
     "output_type": "execute_result"
    },
    {
     "data": {
      "image/png": "[encoded data removed]",
      "text/plain": [
       "<Figure size 432x288 with 2 Axes>"
      ]
     },
     "metadata": {
      "needs_background": "light"
     },
     "output_type": "display_data"
    }
   ],
   "source": [
    "# Train conf matrix\n",
    "#from sklearn.metrics import confusion_matrix\n",
    "from sklearn.metrics import plot_confusion_matrix\n",
    "#confusion_matrix(targets_train, logreg.predict(scaled_train))\n",
    "plot_confusion_matrix(logreg_reg, b_train, targets_train_b) "
   ]
  },
  {
   "cell_type": "code",
   "execution_count": 326,
   "metadata": {},
   "outputs": [
    {
     "name": "stderr",
     "output_type": "stream",
     "text": [
      "/Users/eeshakhanna/opt/anaconda3/lib/python3.7/site-packages/sklearn/utils/deprecation.py:87: FutureWarning: Function plot_confusion_matrix is deprecated; Function `plot_confusion_matrix` is deprecated in 1.0 and will be removed in 1.2. Use one of the class methods: ConfusionMatrixDisplay.from_predictions or ConfusionMatrixDisplay.from_estimator.\n",
      "  warnings.warn(msg, category=FutureWarning)\n"
     ]
    },
    {
     "data": {
      "text/plain": [
       "<sklearn.metrics._plot.confusion_matrix.ConfusionMatrixDisplay at 0x7f9e848c3690>"
      ]
     },
     "execution_count": 326,
     "metadata": {},
     "output_type": "execute_result"
    },
    {
     "data": {
      "image/png": "[encoded data removed]",
      "text/plain": [
       "<Figure size 432x288 with 2 Axes>"
      ]
     },
     "metadata": {
      "needs_background": "light"
     },
     "output_type": "display_data"
    }
   ],
   "source": [
    "# Val conf matrix\n",
    "from sklearn.metrics import plot_confusion_matrix\n",
    "plot_confusion_matrix(logreg_reg, b_val, targets_val_b) "
   ]
  },
  {
   "cell_type": "markdown",
   "metadata": {},
   "source": [
    "### Dropped, l1 reg, hyperparam selection"
   ]
  },
  {
   "cell_type": "code",
   "execution_count": 694,
   "metadata": {
    "id": "9aWBRBb8AJ7B"
   },
   "outputs": [],
   "source": [
    "# Lasso\n",
    "#creating 30 values for C between 1e-2 and 10 \n",
    "import numpy as np\n",
    "\n",
    "C_list_train_log = []\n",
    "C_range_log = 10**np.linspace(-2, 0, 30)\n",
    "\n",
    "#creating 20 instances of logistic regression for the 20 values of C\n",
    "for i in C_range_log:  \n",
    "    clf = LogisticRegression(C=i, penalty='l1', solver='liblinear', class_weight='balanced')\n",
    "    clf.fit(b_train, targets_train_b)\n",
    "    C_list_train_log.append(clf)"
   ]
  },
  {
   "cell_type": "code",
   "execution_count": 695,
   "metadata": {
    "id": "o8sN7svLBM1y"
   },
   "outputs": [],
   "source": [
    "predicted_values_train = []\n",
    "predicted_values_val = []\n",
    "predicted_values_test = []\n",
    "for classifier in C_list_train_log:\n",
    "  pred_train = classifier.predict(b_train)\n",
    "  pred_val = classifier.predict(b_val)\n",
    "  pred_test = classifier.predict(b_test)\n",
    "  predicted_values_train.append(pred_train)\n",
    "  predicted_values_val.append(pred_val)\n",
    "  predicted_values_test.append(pred_test)"
   ]
  },
  {
   "cell_type": "code",
   "execution_count": 696,
   "metadata": {
    "colab": {
     "base_uri": "https://localhost:8080/"
    },
    "id": "wpi2taapJBb_",
    "outputId": "ef6630ec-4276-446c-b04d-56a45522cc7b"
   },
   "outputs": [
    {
     "data": {
      "text/plain": [
       "30"
      ]
     },
     "execution_count": 696,
     "metadata": {},
     "output_type": "execute_result"
    }
   ],
   "source": [
    "len(predicted_values_test)"
   ]
  },
  {
   "cell_type": "code",
   "execution_count": 697,
   "metadata": {
    "colab": {
     "base_uri": "https://localhost:8080/"
    },
    "id": "9Y75eXiSBc6S",
    "outputId": "330fdb64-ba54-4930-bf5d-2804a8f872bd"
   },
   "outputs": [],
   "source": [
    "# checking AUC score on training predictions with l1 regularization\n",
    "#from sklearn.metrics import roc_auc_score \n",
    "w_acc_train = []\n",
    "for pred in predicted_values_train:\n",
    "  acc_list = weighted_accuracy(targets_train_b, pred)\n",
    "  w_acc_train.append(acc_list)\n",
    "#auc_train"
   ]
  },
  {
   "cell_type": "code",
   "execution_count": 698,
   "metadata": {
    "colab": {
     "base_uri": "https://localhost:8080/"
    },
    "id": "BDaLoYjJBg0v",
    "outputId": "c14e5734-a11b-47e5-b641-d3d933f43320"
   },
   "outputs": [],
   "source": [
    "# checking AUC score on validation predictions with l1 regularization\n",
    "w_acc_val = []\n",
    "for pred in predicted_values_val:\n",
    "  acc_list = weighted_accuracy(targets_val_b, pred)\n",
    "  w_acc_val.append(acc_list)\n",
    "#auc_val"
   ]
  },
  {
   "cell_type": "code",
   "execution_count": 699,
   "metadata": {
    "colab": {
     "base_uri": "https://localhost:8080/"
    },
    "id": "qtH_aDRXJSBa",
    "outputId": "aa371567-9ddb-4ace-850b-f9075be6f634"
   },
   "outputs": [
    {
     "data": {
      "text/plain": [
       "(1678,)"
      ]
     },
     "execution_count": 699,
     "metadata": {},
     "output_type": "execute_result"
    }
   ],
   "source": [
    "predicted_values_test[0].shape"
   ]
  },
  {
   "cell_type": "code",
   "execution_count": 700,
   "metadata": {
    "colab": {
     "base_uri": "https://localhost:8080/"
    },
    "id": "Sg4OIGkwCPSj",
    "outputId": "9fb8b8ed-a2e4-4acb-fa48-e7bfcf798215"
   },
   "outputs": [],
   "source": [
    "# checking AUC score on test predictions with l1 regularization\n",
    "w_acc_test = []\n",
    "for pred in predicted_values_test:\n",
    "  acc_list = weighted_accuracy(targets_test_b, pred)\n",
    "  w_acc_test.append(acc_list)\n",
    "#auc_test"
   ]
  },
  {
   "cell_type": "code",
   "execution_count": 708,
   "metadata": {
    "colab": {
     "base_uri": "https://localhost:8080/",
     "height": 409
    },
    "id": "Qd1B3y9OCXFk",
    "outputId": "a4d7bfa3-e096-4b3f-c1c1-f3f1b41b533a"
   },
   "outputs": [
    {
     "data": {
      "image/png": "[encoded data removed]",
      "text/plain": [
       "<Figure size 576x432 with 1 Axes>"
      ]
     },
     "metadata": {
      "needs_background": "light"
     },
     "output_type": "display_data"
    }
   ],
   "source": [
    "#plotting regularization strength vs. AUC score for train, val, and test\n",
    "plt.figure(figsize=(8, 6))\n",
    "plt.semilogx(C_range_log, w_acc_train, label='Train')\n",
    "plt.semilogx(C_range_log, w_acc_val, label='Validation')\n",
    "#plt.semilogx(C_range_log, auc_test, label='Test')\n",
    "plt.xlabel(\"Strength of Regularization Parameter\")\n",
    "plt.ylabel(\"Weighted Accuracy\")\n",
    "plt.title(\"Weighted Accuracy for Different Values of C (Regularization Parameter)\", size=14)\n",
    "plt.grid()\n",
    "plt.legend()\n",
    "plt.show()"
   ]
  },
  {
   "cell_type": "code",
   "execution_count": 702,
   "metadata": {
    "id": "eS15inUON-EN"
   },
   "outputs": [
    {
     "data": {
      "text/plain": [
       "0.6210169418915616"
      ]
     },
     "execution_count": 702,
     "metadata": {},
     "output_type": "execute_result"
    }
   ],
   "source": [
    "#choose C hyperparam where validation performs best\n",
    "c_index = np.array(w_acc_val).argmax()\n",
    "c = C_range_log[c_index]\n",
    "c"
   ]
  },
  {
   "cell_type": "code",
   "execution_count": 706,
   "metadata": {
    "scrolled": true
   },
   "outputs": [
    {
     "name": "stdout",
     "output_type": "stream",
     "text": [
      "w acc train =  0.6937343991441816\n",
      "w acc val =  0.660671959218131\n"
     ]
    }
   ],
   "source": [
    "from sklearn.linear_model import LogisticRegression\n",
    "logreg_c = LogisticRegression(penalty='l1', solver='liblinear', C=c, max_iter=101, class_weight='balanced')\n",
    "logreg_c.fit(b_train, targets_train_b)\n",
    "y_train_pred_c = logreg_c.predict_proba(b_train)\n",
    "# Accuracy\n",
    "from sklearn.metrics import accuracy_score\n",
    "y_acc_train_c = weighted_accuracy(targets_train_b, logreg_c.predict(b_train))\n",
    "y_acc_val_c = weighted_accuracy(targets_val_b, logreg_c.predict(b_val))\n",
    "print('w acc train = ', y_acc_train_c)\n",
    "print('w acc val = ', y_acc_val_c)"
   ]
  },
  {
   "cell_type": "code",
   "execution_count": 733,
   "metadata": {},
   "outputs": [
    {
     "name": "stdout",
     "output_type": "stream",
     "text": [
      "w acc test =  0.6789406583217431\n"
     ]
    }
   ],
   "source": [
    "y_acc_test_c = weighted_accuracy(targets_test_b, logreg_c.predict(b_test))\n",
    "print('w acc test = ', y_acc_test_c)"
   ]
  },
  {
   "cell_type": "code",
   "execution_count": 337,
   "metadata": {},
   "outputs": [
    {
     "name": "stdout",
     "output_type": "stream",
     "text": [
      "The AUC score of my training set:\n"
     ]
    },
    {
     "data": {
      "text/plain": [
       "0.7346209329716996"
      ]
     },
     "execution_count": 337,
     "metadata": {},
     "output_type": "execute_result"
    }
   ],
   "source": [
    "from sklearn.metrics import roc_auc_score\n",
    "print('The AUC score of my training set:')\n",
    "roc_auc_score(targets_train_b, y_train_pred_c[:, 1])"
   ]
  },
  {
   "cell_type": "code",
   "execution_count": 338,
   "metadata": {},
   "outputs": [
    {
     "data": {
      "text/plain": [
       "0.7195759464900319"
      ]
     },
     "execution_count": 338,
     "metadata": {},
     "output_type": "execute_result"
    }
   ],
   "source": [
    "# AUC score for validation set\n",
    "y_val_pred_c = logreg_c.predict_proba(b_val)\n",
    "roc_auc_score(targets_val_b, y_val_pred_c[:, 1])"
   ]
  },
  {
   "cell_type": "markdown",
   "metadata": {},
   "source": [
    "#### Confusion matrix, precision, recall, etc. "
   ]
  },
  {
   "cell_type": "code",
   "execution_count": 171,
   "metadata": {},
   "outputs": [
    {
     "name": "stdout",
     "output_type": "stream",
     "text": [
      "              precision    recall  f1-score   support\n",
      "\n",
      "           0       0.84      0.99      0.91      4136\n",
      "           1       0.81      0.12      0.20       895\n",
      "\n",
      "    accuracy                           0.84      5031\n",
      "   macro avg       0.82      0.55      0.56      5031\n",
      "weighted avg       0.83      0.84      0.78      5031\n",
      "\n"
     ]
    }
   ],
   "source": [
    "from sklearn.metrics import classification_report\n",
    "print(classification_report(targets_train_b, logreg_c.predict(b_train)))"
   ]
  },
  {
   "cell_type": "code",
   "execution_count": 172,
   "metadata": {},
   "outputs": [],
   "source": [
    "# from sklearn.pipeline import make_pipeline\n",
    "\n",
    "# # classifier = make_pipeline(LogisticRegression(penalty='l1', solver='liblinear', C=c, max_iter=101))\n",
    "# # classifier.fit(b_train, targets_train_b)\n",
    "\n",
    "# from sklearn.metrics import PrecisionRecallDisplay\n",
    "# display = PrecisionRecallDisplay.from_predictions(targets_val_b, y_val_pred_c, name=\"LinearSVC\")\n",
    "# _ = display.ax_.set_title(\"2-class Precision-Recall curve\")"
   ]
  },
  {
   "cell_type": "code",
   "execution_count": 173,
   "metadata": {},
   "outputs": [],
   "source": [
    "#TO DO "
   ]
  },
  {
   "cell_type": "markdown",
   "metadata": {},
   "source": [
    "#### Class weights"
   ]
  },
  {
   "cell_type": "code",
   "execution_count": 438,
   "metadata": {},
   "outputs": [
    {
     "name": "stdout",
     "output_type": "stream",
     "text": [
      "(5031,)\n",
      "895\n",
      "4136\n"
     ]
    }
   ],
   "source": [
    "print(targets_train_b.shape)\n",
    "print(targets_train_b.sum())\n",
    "print(targets_train_b.shape[0] - targets_train_b.sum())"
   ]
  },
  {
   "cell_type": "code",
   "execution_count": 707,
   "metadata": {
    "scrolled": true
   },
   "outputs": [
    {
     "name": "stdout",
     "output_type": "stream",
     "text": [
      "acc train =  0.7014510037765852\n",
      "acc val =  0.6708407871198568\n"
     ]
    }
   ],
   "source": [
    "from sklearn.linear_model import LogisticRegression\n",
    "logreg_weights = LogisticRegression(penalty='l1', solver='liblinear', max_iter=101, \n",
    "                                    class_weight='balanced')\n",
    "logreg_weights.fit(b_train, targets_train_b)\n",
    "y_train_pred_weights = logreg_weights.predict_proba(b_train)\n",
    "y_val_pred_weights = logreg_weights.predict_proba(b_val)\n",
    "# Accuracy\n",
    "from sklearn.metrics import accuracy_score\n",
    "y_acc_train_weights = accuracy_score(targets_train_b, logreg_weights.predict(b_train))\n",
    "y_acc_val_weights = accuracy_score(targets_val_b, logreg_weights.predict(b_val))\n",
    "print('acc train = ', y_acc_train_weights)\n",
    "print('acc val = ', y_acc_val_weights)"
   ]
  },
  {
   "cell_type": "code",
   "execution_count": 683,
   "metadata": {},
   "outputs": [],
   "source": [
    "# feature_importance = abs(logreg_weights.coef_[0])\n",
    "# feature_importance = 100.0 * (feature_importance / feature_importance.max())\n",
    "# sorted_idx = np.argsort(feature_importance)\n",
    "# subset = sorted_idx[-30:-1]\n",
    "# pos = np.arange(subset.shape[0]) + .5\n",
    "\n",
    "# featfig = plt.figure()\n",
    "# featax = featfig.add_subplot(1, 1, 1)\n",
    "# featax.barh(pos, feature_importance[subset], align='center')\n",
    "# featax.set_yticks(pos)\n",
    "# featax.set_yticklabels(np.array(X.columns)[subset], fontsize=8)\n",
    "# featax.set_xlabel('Relative Feature Importance')\n",
    "\n",
    "# plt.tight_layout()   \n",
    "# plt.show()"
   ]
  },
  {
   "cell_type": "code",
   "execution_count": 442,
   "metadata": {},
   "outputs": [
    {
     "name": "stdout",
     "output_type": "stream",
     "text": [
      "weightedacc train =  0.6842866289184487\n",
      "weighted acc val =  0.6486744269108383\n"
     ]
    }
   ],
   "source": [
    "# Weighted accuracy\n",
    "y_wacc_train_weights = weighted_accuracy(targets_train_b, logreg_weights.predict(b_train))\n",
    "y_wacc_val_weights = weighted_accuracy(targets_val_b, logreg_weights.predict(b_val))\n",
    "print('weightedacc train = ', y_wacc_train_weights)\n",
    "print('weighted acc val = ', y_wacc_val_weights)"
   ]
  },
  {
   "cell_type": "code",
   "execution_count": 294,
   "metadata": {},
   "outputs": [
    {
     "name": "stdout",
     "output_type": "stream",
     "text": [
      "The AUC score of my training set:\n"
     ]
    },
    {
     "data": {
      "text/plain": [
       "0.7499413786023794"
      ]
     },
     "execution_count": 294,
     "metadata": {},
     "output_type": "execute_result"
    }
   ],
   "source": [
    "from sklearn.metrics import roc_auc_score\n",
    "print('The AUC score of my training set:')\n",
    "roc_auc_score(targets_train_b, y_train_pred_weights[:, 1])"
   ]
  },
  {
   "cell_type": "code",
   "execution_count": 295,
   "metadata": {},
   "outputs": [
    {
     "data": {
      "text/plain": [
       "0.7161720458038402"
      ]
     },
     "execution_count": 295,
     "metadata": {},
     "output_type": "execute_result"
    }
   ],
   "source": [
    "# AUC score for validation set\n",
    "y_val_pred_c = logreg_c.predict_proba(b_val)\n",
    "roc_auc_score(targets_val_b, y_val_pred_weights[:, 1])"
   ]
  },
  {
   "cell_type": "code",
   "execution_count": 296,
   "metadata": {},
   "outputs": [
    {
     "name": "stdout",
     "output_type": "stream",
     "text": [
      "Train recall =  0.6983240223463687\n",
      "Val recall =  0.6666666666666666\n"
     ]
    }
   ],
   "source": [
    "from sklearn.metrics import recall_score\n",
    "recall_train_weights = recall_score(targets_train_b, logreg_weights.predict(b_train))\n",
    "recall_val_weights = recall_score(targets_val_b, logreg_weights.predict(b_val))\n",
    "print ('Train recall = ', recall_train_weights)\n",
    "print('Val recall = ', recall_val_weights)"
   ]
  },
  {
   "cell_type": "code",
   "execution_count": 732,
   "metadata": {},
   "outputs": [
    {
     "name": "stdout",
     "output_type": "stream",
     "text": [
      "Train specificity =  0.42504835589941975\n",
      "Val specificity =  0.4004237288135593\n"
     ]
    }
   ],
   "source": [
    "sp_train_weights = specificity(targets_train_b, logreg_weights.predict(b_train))\n",
    "sp_val_weights = specificity(targets_val_b, logreg_weights.predict(b_val))\n",
    "print ('Train specificity = ', sp_train_weights)\n",
    "print('Val specificity = ', sp_val_weights)"
   ]
  },
  {
   "cell_type": "code",
   "execution_count": 298,
   "metadata": {},
   "outputs": [
    {
     "name": "stdout",
     "output_type": "stream",
     "text": [
      "Train F1 =  0.2645985401459854\n",
      "Val F1 =  0.25958702064896755\n"
     ]
    }
   ],
   "source": [
    "#f1 score\n",
    "from sklearn.metrics import f1_score\n",
    "f1_train_weights = f1_score(targets_train_b, logreg_weights.predict(b_train))\n",
    "f1_val_weights = f1_score(targets_val_b, logreg_weights.predict(b_val))\n",
    "print('Train F1 = ', f1_train_b)\n",
    "print('Val F1 = ', f1_val_b)"
   ]
  },
  {
   "cell_type": "code",
   "execution_count": 245,
   "metadata": {},
   "outputs": [
    {
     "name": "stderr",
     "output_type": "stream",
     "text": [
      "/Users/eeshakhanna/opt/anaconda3/lib/python3.7/site-packages/sklearn/utils/deprecation.py:87: FutureWarning: Function plot_confusion_matrix is deprecated; Function `plot_confusion_matrix` is deprecated in 1.0 and will be removed in 1.2. Use one of the class methods: ConfusionMatrixDisplay.from_predictions or ConfusionMatrixDisplay.from_estimator.\n",
      "  warnings.warn(msg, category=FutureWarning)\n"
     ]
    },
    {
     "data": {
      "text/plain": [
       "<sklearn.metrics._plot.confusion_matrix.ConfusionMatrixDisplay at 0x7f9e5f080710>"
      ]
     },
     "execution_count": 245,
     "metadata": {},
     "output_type": "execute_result"
    },
    {
     "data": {
      "image/png": "[encoded data removed]",
      "text/plain": [
       "<Figure size 432x288 with 2 Axes>"
      ]
     },
     "metadata": {
      "needs_background": "light"
     },
     "output_type": "display_data"
    }
   ],
   "source": [
    "# Train conf matrix\n",
    "from sklearn.metrics import plot_confusion_matrix\n",
    "#confusion_matrix(targets_train, logreg.predict(scaled_train))\n",
    "plot_confusion_matrix(logreg_weights, b_train, targets_train_b) "
   ]
  },
  {
   "cell_type": "code",
   "execution_count": 246,
   "metadata": {},
   "outputs": [
    {
     "name": "stderr",
     "output_type": "stream",
     "text": [
      "/Users/eeshakhanna/opt/anaconda3/lib/python3.7/site-packages/sklearn/utils/deprecation.py:87: FutureWarning: Function plot_confusion_matrix is deprecated; Function `plot_confusion_matrix` is deprecated in 1.0 and will be removed in 1.2. Use one of the class methods: ConfusionMatrixDisplay.from_predictions or ConfusionMatrixDisplay.from_estimator.\n",
      "  warnings.warn(msg, category=FutureWarning)\n"
     ]
    },
    {
     "data": {
      "text/plain": [
       "<sklearn.metrics._plot.confusion_matrix.ConfusionMatrixDisplay at 0x7f9e5f011690>"
      ]
     },
     "execution_count": 246,
     "metadata": {},
     "output_type": "execute_result"
    },
    {
     "data": {
      "image/png": "[encoded data removed]",
      "text/plain": [
       "<Figure size 432x288 with 2 Axes>"
      ]
     },
     "metadata": {
      "needs_background": "light"
     },
     "output_type": "display_data"
    }
   ],
   "source": [
    "# Val conf matrix\n",
    "from sklearn.metrics import plot_confusion_matrix\n",
    "plot_confusion_matrix(logreg_weights, b_val, targets_val_b) "
   ]
  },
  {
   "cell_type": "code",
   "execution_count": 662,
   "metadata": {},
   "outputs": [],
   "source": [
    "from sklearn.metrics import roc_curve\n",
    "\n",
    "train_roc_scores = y_train_pred_weights[:, 1]\n",
    "fpr, tpr, thresholds = roc_curve(targets_train_b, train_roc_scores)"
   ]
  },
  {
   "cell_type": "code",
   "execution_count": 663,
   "metadata": {},
   "outputs": [
    {
     "data": {
      "text/plain": [
       "Text(0.5, 1.0, 'Receiver operating characteristic')"
      ]
     },
     "execution_count": 663,
     "metadata": {},
     "output_type": "execute_result"
    },
    {
     "data": {
      "image/png": "[encoded data removed]",
      "text/plain": [
       "<Figure size 432x432 with 1 Axes>"
      ]
     },
     "metadata": {
      "needs_background": "light"
     },
     "output_type": "display_data"
    }
   ],
   "source": [
    "plt.figure(figsize=(6,6))\n",
    "plt.plot(fpr, tpr, color='darkorange')\n",
    "plt.plot([0, 1], [0, 1], color='navy', linestyle='--')\n",
    "plt.xlim([0.0, 1.0])\n",
    "plt.ylim([0.0, 1.05])\n",
    "plt.xlabel('False Positive Rate')\n",
    "plt.ylabel('True Positive Rate')\n",
    "plt.title('Receiver operating characteristic')"
   ]
  },
  {
   "cell_type": "code",
   "execution_count": 247,
   "metadata": {},
   "outputs": [
    {
     "name": "stdout",
     "output_type": "stream",
     "text": [
      "              precision    recall  f1-score   support\n",
      "\n",
      "           0       0.88      0.85      0.87      4136\n",
      "           1       0.42      0.48      0.45       895\n",
      "\n",
      "    accuracy                           0.79      5031\n",
      "   macro avg       0.65      0.67      0.66      5031\n",
      "weighted avg       0.80      0.79      0.79      5031\n",
      "\n"
     ]
    }
   ],
   "source": [
    "from sklearn.metrics import classification_report\n",
    "print(classification_report(targets_train_b, logreg_weights.predict(b_train)))"
   ]
  },
  {
   "cell_type": "code",
   "execution_count": 248,
   "metadata": {},
   "outputs": [
    {
     "name": "stdout",
     "output_type": "stream",
     "text": [
      "0.48379888268156424\n"
     ]
    }
   ],
   "source": [
    "from sklearn.metrics import recall_score\n",
    "print(recall_score(targets_train_b, logreg_weights.predict(b_train)))"
   ]
  },
  {
   "cell_type": "markdown",
   "metadata": {},
   "source": [
    "#### Optimize max_iter for log loss?"
   ]
  },
  {
   "cell_type": "code",
   "execution_count": 712,
   "metadata": {},
   "outputs": [
    {
     "data": {
      "text/plain": [
       "0.6210169418915616"
      ]
     },
     "execution_count": 712,
     "metadata": {},
     "output_type": "execute_result"
    }
   ],
   "source": [
    "c"
   ]
  },
  {
   "cell_type": "code",
   "execution_count": 713,
   "metadata": {},
   "outputs": [
    {
     "name": "stderr",
     "output_type": "stream",
     "text": [
      "/Users/eeshakhanna/opt/anaconda3/lib/python3.7/site-packages/sklearn/svm/_base.py:1208: ConvergenceWarning: Liblinear failed to converge, increase the number of iterations.\n",
      "  ConvergenceWarning,\n"
     ]
    }
   ],
   "source": [
    "from sklearn.metrics import log_loss\n",
    "ll = []\n",
    "\n",
    "step = np.arange(1, 2000, 50)\n",
    "\n",
    "for i in step:\n",
    "    logreg = LogisticRegression(penalty='l1', max_iter=i, solver='liblinear', class_weight='balanced', C=c)\n",
    "    logreg.fit(scaled_train, targets_train)\n",
    "    loss = log_loss(targets_train, logreg.predict(scaled_train))\n",
    "    #print(i, loss)\n",
    "    ll.append(loss)"
   ]
  },
  {
   "cell_type": "code",
   "execution_count": 731,
   "metadata": {},
   "outputs": [
    {
     "data": {
      "text/plain": [
       "Text(0.5, 1.0, 'Loss curve for Logistic Regression model')"
      ]
     },
     "execution_count": 731,
     "metadata": {},
     "output_type": "execute_result"
    },
    {
     "data": {
      "image/png": "[encoded data removed]",
      "text/plain": [
       "<Figure size 576x432 with 1 Axes>"
      ]
     },
     "metadata": {
      "needs_background": "light"
     },
     "output_type": "display_data"
    }
   ],
   "source": [
    "plt.figure(figsize=(8,6))\n",
    "plt.plot(step, ll)\n",
    "plt.yscale('log')\n",
    "plt.xlabel('Maximum number of iterations for Logistic Regression model')\n",
    "plt.ylabel('Log loss')\n",
    "plt.title('Loss curve for Logistic Regression model')"
   ]
  },
  {
   "cell_type": "code",
   "execution_count": 178,
   "metadata": {},
   "outputs": [
    {
     "data": {
      "text/plain": [
       "101"
      ]
     },
     "execution_count": 178,
     "metadata": {},
     "output_type": "execute_result"
    }
   ],
   "source": [
    "#choose max_iter hyperparam where log loss is minimum\n",
    "max_iter_index = np.array(ll).argmin()\n",
    "max_iter = step[max_iter_index]\n",
    "max_iter"
   ]
  },
  {
   "cell_type": "markdown",
   "metadata": {},
   "source": [
    "### PCA (DR) + dropped + l1 reg with optimal c"
   ]
  },
  {
   "cell_type": "code",
   "execution_count": 373,
   "metadata": {},
   "outputs": [
    {
     "name": "stdout",
     "output_type": "stream",
     "text": [
      "<class 'pandas.core.frame.DataFrame'>\n",
      "Int64Index: 8386 entries, 0 to 13030\n",
      "Data columns (total 17 columns):\n",
      " #   Column                     Non-Null Count  Dtype  \n",
      "---  ------                     --------------  -----  \n",
      " 0   YEAR2                      8386 non-null   object \n",
      " 1   STOP_LOCATION_PRECINCT     8386 non-null   object \n",
      " 2   LOCATION_IN_OUT_CODE       8386 non-null   object \n",
      " 3   JURISDICTION_CODE          8386 non-null   object \n",
      " 4   OBSERVED_DURATION_MINUTES  8386 non-null   float64\n",
      " 5   OFFICER_IN_UNIFORM_FLAG    8386 non-null   object \n",
      " 6   STOP_WAS_INITIATED         8386 non-null   object \n",
      " 7   SUSPECT_SEX                8386 non-null   object \n",
      " 8   SUSPECT_RACE_DESCRIPTION   8386 non-null   object \n",
      " 9   SUSPECT_REPORTED_AGE       8386 non-null   float64\n",
      " 10  SUSPECT_WEIGHT             8386 non-null   float64\n",
      " 11  SUSPECT_BODY_BUILD_TYPE    8386 non-null   object \n",
      " 12  WEAPON_FOUND_FLAG          8386 non-null   object \n",
      " 13  SUSPECT_HEIGHT             8386 non-null   float64\n",
      " 14  MONTH2                     8386 non-null   string \n",
      " 15  DAY2                       8386 non-null   string \n",
      " 16  STOP_FRISK_TIME            8386 non-null   float64\n",
      "dtypes: float64(5), object(10), string(2)\n",
      "memory usage: 1.2+ MB\n"
     ]
    }
   ],
   "source": [
    "sqf_cpw_dropped.info()"
   ]
  },
  {
   "cell_type": "code",
   "execution_count": 374,
   "metadata": {},
   "outputs": [],
   "source": [
    "# OHE\n",
    "\n",
    "sqf_ohe_pca = pd.get_dummies(sqf_cpw_dropped, drop_first=True, columns=['YEAR2', 'STOP_LOCATION_PRECINCT', \n",
    "                                                                   'LOCATION_IN_OUT_CODE', \n",
    "                                                                   'OFFICER_IN_UNIFORM_FLAG', \n",
    "                                                                   'STOP_WAS_INITIATED', 'JURISDICTION_CODE', \n",
    "                                                                   'SUSPECT_SEX', 'WEAPON_FOUND_FLAG', \n",
    "                                                                   'SUSPECT_RACE_DESCRIPTION', \n",
    "                                                                   'SUSPECT_BODY_BUILD_TYPE', \n",
    "                                                                   'MONTH2', 'DAY2'])"
   ]
  },
  {
   "cell_type": "code",
   "execution_count": 375,
   "metadata": {},
   "outputs": [],
   "source": [
    "df_imputed_dr = sqf_ohe_pca"
   ]
  },
  {
   "cell_type": "code",
   "execution_count": 376,
   "metadata": {},
   "outputs": [],
   "source": [
    "from sklearn.model_selection import train_test_split\n",
    "\n",
    "train_dr, test_dr = train_test_split(df_imputed_dr, test_size=0.2, random_state=1)\n",
    "\n",
    "train_dr, val_dr = train_test_split(train_dr, test_size=0.25, random_state=1)"
   ]
  },
  {
   "cell_type": "code",
   "execution_count": 377,
   "metadata": {},
   "outputs": [],
   "source": [
    "train_targets_pca = train_dr['WEAPON_FOUND_FLAG_Y']\n",
    "train_dr = train_dr.drop(columns='WEAPON_FOUND_FLAG_Y')\n",
    "val_targets_pca = val_dr['WEAPON_FOUND_FLAG_Y']\n",
    "val_dr = val_dr.drop(columns='WEAPON_FOUND_FLAG_Y')\n",
    "test_targets_pca = test_dr['WEAPON_FOUND_FLAG_Y']\n",
    "test_dr = test_dr.drop(columns='WEAPON_FOUND_FLAG_Y')"
   ]
  },
  {
   "cell_type": "code",
   "execution_count": 378,
   "metadata": {},
   "outputs": [],
   "source": [
    "from sklearn.preprocessing import StandardScaler\n",
    "\n",
    "scaler_pca = StandardScaler()\n",
    "train_pca = scaler_pca.fit_transform(train_dr)\n",
    "train_pca_df = pd.DataFrame(train_pca, index=train_dr.index, columns=train_dr.columns)\n",
    "val_pca = scaler_pca.transform(val_dr)\n",
    "val_pca_df = pd.DataFrame(val_pca, index=val_dr.index, columns=val_dr.columns)\n",
    "test_pca = scaler_pca.transform(test_dr)\n",
    "test_pca_df = pd.DataFrame(test_pca, index=test_dr.index, columns=test_dr.columns)"
   ]
  },
  {
   "cell_type": "code",
   "execution_count": 379,
   "metadata": {},
   "outputs": [
    {
     "data": {
      "text/plain": [
       "(5031, 118)"
      ]
     },
     "execution_count": 379,
     "metadata": {},
     "output_type": "execute_result"
    }
   ],
   "source": [
    "train_pca_df.shape"
   ]
  },
  {
   "cell_type": "code",
   "execution_count": 380,
   "metadata": {},
   "outputs": [],
   "source": [
    "from sklearn.decomposition import PCA\n",
    "\n",
    "n_components = np.linspace(1, train_pca_df.shape[1], train_pca_df.shape[1], dtype=int)\n",
    "explained_variance_marginal = []\n",
    "explained_variance_cumulative = []\n",
    "\n",
    "for i in n_components:\n",
    "  pca = PCA(n_components=i)\n",
    "  pca.fit(train_pca_df)\n",
    "  explained_variance_marginal.append(pca.explained_variance_ratio_[i-1])\n",
    "  explained_variance_cumulative.append(np.sum(pca.explained_variance_ratio_))"
   ]
  },
  {
   "cell_type": "code",
   "execution_count": 381,
   "metadata": {
    "id": "PS9rq4bDssfP"
   },
   "outputs": [
    {
     "data": {
      "image/png": "[encoded data removed]",
      "text/plain": [
       "<Figure size 1080x432 with 2 Axes>"
      ]
     },
     "metadata": {
      "needs_background": "light"
     },
     "output_type": "display_data"
    }
   ],
   "source": [
    "# figure for report\n",
    "fig, axes = plt.subplots(nrows=1, ncols=2, figsize=(15, 6))\n",
    "\n",
    "axes[0].plot(n_components, explained_variance_marginal)\n",
    "#axes[0].scatter(n_components, explained_variance_marginal)\n",
    "axes[0].set_xlabel(\"Number of Principal Components\")\n",
    "axes[0].set_ylabel(\"Variance Explained - Marginal\")\n",
    "axes[0].set_title(\"Variance Explained by Principal Components (Marginal)\", size=14)\n",
    "axes[0].grid()\n",
    "\n",
    "#axes[1].scatter(n_components, explained_variance_cumulative, color='red')\n",
    "axes[1].plot(n_components, explained_variance_cumulative, color='red')\n",
    "axes[1].set_xlabel(\"Number of Principal Components\")\n",
    "axes[1].set_ylabel(\"Variance Explained - Cumulative\")\n",
    "axes[1].set_title(\"Variance Explained by Principal Components (Cumulative)\", size=14)\n",
    "axes[1].grid()"
   ]
  },
  {
   "cell_type": "code",
   "execution_count": 729,
   "metadata": {},
   "outputs": [],
   "source": [
    "n_comp = 95"
   ]
  },
  {
   "cell_type": "code",
   "execution_count": 730,
   "metadata": {},
   "outputs": [
    {
     "data": {
      "text/plain": [
       "0.9091160245294767"
      ]
     },
     "execution_count": 730,
     "metadata": {},
     "output_type": "execute_result"
    }
   ],
   "source": [
    "# train pca\n",
    "pca = PCA(n_components=n_comp)\n",
    "pca_train_data = pca.fit_transform(train_pca_df)\n",
    "pca.explained_variance_ratio_.sum()"
   ]
  },
  {
   "cell_type": "code",
   "execution_count": 720,
   "metadata": {},
   "outputs": [],
   "source": [
    "# val pca\n",
    "pca_val_data = pca.transform(val_pca_df)"
   ]
  },
  {
   "cell_type": "code",
   "execution_count": 721,
   "metadata": {},
   "outputs": [],
   "source": [
    "# test pca\n",
    "pca_test_data = pca.transform(test_pca_df)"
   ]
  },
  {
   "cell_type": "code",
   "execution_count": 722,
   "metadata": {
    "id": "6PZv3Elr8dVu"
   },
   "outputs": [],
   "source": [
    "cols = np.linspace(1, n_comp, n_comp, dtype=int)\n",
    "pca_train_data_df = pd.DataFrame(data = pca_train_data, columns=cols, index=train_pca_df.index)\n",
    "pca_val_data_df = pd.DataFrame(data = pca_val_data, columns=cols, index=val_pca_df.index)\n",
    "pca_test_data_df = pd.DataFrame(data = pca_test_data, columns=cols, index=test_pca_df.index)"
   ]
  },
  {
   "cell_type": "code",
   "execution_count": 723,
   "metadata": {},
   "outputs": [],
   "source": [
    "#pca_train_data_df"
   ]
  },
  {
   "cell_type": "code",
   "execution_count": 724,
   "metadata": {
    "id": "I1kgck5A2qDF"
   },
   "outputs": [
    {
     "name": "stdout",
     "output_type": "stream",
     "text": [
      "acc train =  0.6754122407961705\n",
      "acc val =  0.6587562504058706\n"
     ]
    }
   ],
   "source": [
    "from sklearn.linear_model import LogisticRegression\n",
    "logreg_pca = LogisticRegression(penalty='l1', solver='liblinear', max_iter=1000, C=c, class_weight='balanced')\n",
    "logreg_pca.fit(pca_train_data_df, train_targets_pca)\n",
    "y_train_pred_pca = logreg_pca.predict_proba(pca_train_data_df)\n",
    "y_acc_train_pca = weighted_accuracy(train_targets_pca, logreg_pca.predict(pca_train_data_df))\n",
    "y_acc_val_pca = weighted_accuracy(val_targets_pca, logreg_pca.predict(pca_val_data_df))\n",
    "print('acc train = ', y_acc_train_pca)\n",
    "print('acc val = ', y_acc_val_pca)"
   ]
  },
  {
   "cell_type": "code",
   "execution_count": 413,
   "metadata": {
    "colab": {
     "base_uri": "https://localhost:8080/"
    },
    "id": "r9P7es3V2wqM",
    "outputId": "d14b3d35-2d7a-46a3-865b-9a90d1d77dcd"
   },
   "outputs": [
    {
     "name": "stdout",
     "output_type": "stream",
     "text": [
      "The AUC score of my training set:\n"
     ]
    },
    {
     "data": {
      "text/plain": [
       "0.7526341808672724"
      ]
     },
     "execution_count": 413,
     "metadata": {},
     "output_type": "execute_result"
    }
   ],
   "source": [
    "from sklearn.metrics import roc_auc_score\n",
    "print('The AUC score of my training set:')\n",
    "roc_auc_score(train_targets_pca, y_train_pred_pca[:, 1])"
   ]
  },
  {
   "cell_type": "code",
   "execution_count": 414,
   "metadata": {
    "colab": {
     "base_uri": "https://localhost:8080/"
    },
    "id": "BYhrXN453kfs",
    "outputId": "3a2e94e5-17d7-458d-b097-a1e4eeb0809d"
   },
   "outputs": [
    {
     "data": {
      "text/plain": [
       "0.7101949260774509"
      ]
     },
     "execution_count": 414,
     "metadata": {},
     "output_type": "execute_result"
    }
   ],
   "source": [
    "# AUC score for validation set\n",
    "y_val_pred_pca = logreg_pca.predict_proba(pca_val_data)\n",
    "roc_auc_score(val_targets_pca, y_val_pred_pca[:, 1])"
   ]
  },
  {
   "cell_type": "markdown",
   "metadata": {},
   "source": [
    "### Sampling with dropped data"
   ]
  },
  {
   "cell_type": "code",
   "execution_count": null,
   "metadata": {},
   "outputs": [],
   "source": [
    "#sqf_cpw_dropped"
   ]
  },
  {
   "cell_type": "code",
   "execution_count": 139,
   "metadata": {},
   "outputs": [],
   "source": [
    "sqf_sample = pd.get_dummies(sqf_cpw_dropped, drop_first=True, columns=['YEAR2', 'STOP_LOCATION_PRECINCT', \n",
    "                                                                   'LOCATION_IN_OUT_CODE', \n",
    "                                                                   'OFFICER_IN_UNIFORM_FLAG', \n",
    "                                                                   'STOP_WAS_INITIATED', 'JURISDICTION_CODE', \n",
    "                                                                   'SUSPECT_SEX', 'WEAPON_FOUND_FLAG', \n",
    "                                                                   'SUSPECT_RACE_DESCRIPTION', \n",
    "                                                                   'SUSPECT_BODY_BUILD_TYPE', \n",
    "                                                                   'MONTH2', 'DAY2'])"
   ]
  },
  {
   "cell_type": "code",
   "execution_count": 140,
   "metadata": {},
   "outputs": [],
   "source": [
    "from sklearn.model_selection import train_test_split\n",
    "train_sample, test_sample = train_test_split(sqf_sample, test_size=0.2, random_state=1)\n",
    "train_sample, val_sample = train_test_split(train_sample, test_size=0.25, random_state=1)\n",
    "train_targets_sample = train_sample['WEAPON_FOUND_FLAG_Y']\n",
    "train_sample = train_sample.drop(columns='WEAPON_FOUND_FLAG_Y')\n",
    "val_targets_sample = val_sample['WEAPON_FOUND_FLAG_Y']\n",
    "val_sample = val_sample.drop(columns='WEAPON_FOUND_FLAG_Y')\n",
    "# test_targets_pca = test_dr['WEAPON_FOUND_FLAG_Y']\n",
    "# test_dr = test_dr.drop(columns='WEAPON_FOUND_FLAG_Y')"
   ]
  },
  {
   "cell_type": "code",
   "execution_count": 212,
   "metadata": {},
   "outputs": [
    {
     "data": {
      "text/html": [
       "<div>\n",
       "<style scoped>\n",
       "    .dataframe tbody tr th:only-of-type {\n",
       "        vertical-align: middle;\n",
       "    }\n",
       "\n",
       "    .dataframe tbody tr th {\n",
       "        vertical-align: top;\n",
       "    }\n",
       "\n",
       "    .dataframe thead th {\n",
       "        text-align: right;\n",
       "    }\n",
       "</style>\n",
       "<table border=\"1\" class=\"dataframe\">\n",
       "  <thead>\n",
       "    <tr style=\"text-align: right;\">\n",
       "      <th></th>\n",
       "      <th>OBSERVED_DURATION_MINUTES</th>\n",
       "      <th>STOP_DURATION_MINUTES</th>\n",
       "      <th>SUSPECT_REPORTED_AGE</th>\n",
       "      <th>SUSPECT_WEIGHT</th>\n",
       "      <th>SUSPECT_HEIGHT</th>\n",
       "      <th>STOP_FRISK_TIME</th>\n",
       "      <th>YEAR2_two thousand and fifteen</th>\n",
       "      <th>YEAR2_two thousand and nineteen</th>\n",
       "      <th>YEAR2_two thousand and seventeen</th>\n",
       "      <th>YEAR2_two thousand and sixteen</th>\n",
       "      <th>...</th>\n",
       "      <th>MONTH2_ten</th>\n",
       "      <th>MONTH2_three</th>\n",
       "      <th>MONTH2_twelve</th>\n",
       "      <th>MONTH2_two</th>\n",
       "      <th>DAY2_four</th>\n",
       "      <th>DAY2_one</th>\n",
       "      <th>DAY2_six</th>\n",
       "      <th>DAY2_three</th>\n",
       "      <th>DAY2_two</th>\n",
       "      <th>DAY2_zero</th>\n",
       "    </tr>\n",
       "  </thead>\n",
       "  <tbody>\n",
       "    <tr>\n",
       "      <th>7787</th>\n",
       "      <td>2.0</td>\n",
       "      <td>10.0</td>\n",
       "      <td>46.0</td>\n",
       "      <td>110.0</td>\n",
       "      <td>4.800000</td>\n",
       "      <td>14.083333</td>\n",
       "      <td>0</td>\n",
       "      <td>0</td>\n",
       "      <td>0</td>\n",
       "      <td>0</td>\n",
       "      <td>...</td>\n",
       "      <td>0</td>\n",
       "      <td>0</td>\n",
       "      <td>0</td>\n",
       "      <td>0</td>\n",
       "      <td>0</td>\n",
       "      <td>0</td>\n",
       "      <td>0</td>\n",
       "      <td>1</td>\n",
       "      <td>0</td>\n",
       "      <td>0</td>\n",
       "    </tr>\n",
       "    <tr>\n",
       "      <th>3315</th>\n",
       "      <td>5.0</td>\n",
       "      <td>5.0</td>\n",
       "      <td>19.0</td>\n",
       "      <td>150.0</td>\n",
       "      <td>5.750000</td>\n",
       "      <td>50.833333</td>\n",
       "      <td>0</td>\n",
       "      <td>0</td>\n",
       "      <td>0</td>\n",
       "      <td>1</td>\n",
       "      <td>...</td>\n",
       "      <td>0</td>\n",
       "      <td>0</td>\n",
       "      <td>0</td>\n",
       "      <td>0</td>\n",
       "      <td>1</td>\n",
       "      <td>0</td>\n",
       "      <td>0</td>\n",
       "      <td>0</td>\n",
       "      <td>0</td>\n",
       "      <td>0</td>\n",
       "    </tr>\n",
       "    <tr>\n",
       "      <th>5427</th>\n",
       "      <td>1.0</td>\n",
       "      <td>8.0</td>\n",
       "      <td>24.0</td>\n",
       "      <td>190.0</td>\n",
       "      <td>5.110000</td>\n",
       "      <td>1.500000</td>\n",
       "      <td>0</td>\n",
       "      <td>0</td>\n",
       "      <td>1</td>\n",
       "      <td>0</td>\n",
       "      <td>...</td>\n",
       "      <td>0</td>\n",
       "      <td>0</td>\n",
       "      <td>0</td>\n",
       "      <td>0</td>\n",
       "      <td>0</td>\n",
       "      <td>0</td>\n",
       "      <td>1</td>\n",
       "      <td>0</td>\n",
       "      <td>0</td>\n",
       "      <td>0</td>\n",
       "    </tr>\n",
       "    <tr>\n",
       "      <th>10150</th>\n",
       "      <td>1.0</td>\n",
       "      <td>6.0</td>\n",
       "      <td>29.0</td>\n",
       "      <td>120.0</td>\n",
       "      <td>5.400000</td>\n",
       "      <td>13.833333</td>\n",
       "      <td>0</td>\n",
       "      <td>1</td>\n",
       "      <td>0</td>\n",
       "      <td>0</td>\n",
       "      <td>...</td>\n",
       "      <td>1</td>\n",
       "      <td>0</td>\n",
       "      <td>0</td>\n",
       "      <td>0</td>\n",
       "      <td>0</td>\n",
       "      <td>0</td>\n",
       "      <td>0</td>\n",
       "      <td>0</td>\n",
       "      <td>1</td>\n",
       "      <td>0</td>\n",
       "    </tr>\n",
       "    <tr>\n",
       "      <th>4480</th>\n",
       "      <td>0.0</td>\n",
       "      <td>5.0</td>\n",
       "      <td>23.0</td>\n",
       "      <td>190.0</td>\n",
       "      <td>5.900000</td>\n",
       "      <td>20.000000</td>\n",
       "      <td>0</td>\n",
       "      <td>0</td>\n",
       "      <td>1</td>\n",
       "      <td>0</td>\n",
       "      <td>...</td>\n",
       "      <td>0</td>\n",
       "      <td>0</td>\n",
       "      <td>0</td>\n",
       "      <td>0</td>\n",
       "      <td>0</td>\n",
       "      <td>0</td>\n",
       "      <td>1</td>\n",
       "      <td>0</td>\n",
       "      <td>0</td>\n",
       "      <td>0</td>\n",
       "    </tr>\n",
       "    <tr>\n",
       "      <th>...</th>\n",
       "      <td>...</td>\n",
       "      <td>...</td>\n",
       "      <td>...</td>\n",
       "      <td>...</td>\n",
       "      <td>...</td>\n",
       "      <td>...</td>\n",
       "      <td>...</td>\n",
       "      <td>...</td>\n",
       "      <td>...</td>\n",
       "      <td>...</td>\n",
       "      <td>...</td>\n",
       "      <td>...</td>\n",
       "      <td>...</td>\n",
       "      <td>...</td>\n",
       "      <td>...</td>\n",
       "      <td>...</td>\n",
       "      <td>...</td>\n",
       "      <td>...</td>\n",
       "      <td>...</td>\n",
       "      <td>...</td>\n",
       "      <td>...</td>\n",
       "    </tr>\n",
       "    <tr>\n",
       "      <th>12894</th>\n",
       "      <td>1.0</td>\n",
       "      <td>2.0</td>\n",
       "      <td>50.0</td>\n",
       "      <td>165.0</td>\n",
       "      <td>5.100000</td>\n",
       "      <td>20.083333</td>\n",
       "      <td>0</td>\n",
       "      <td>1</td>\n",
       "      <td>0</td>\n",
       "      <td>0</td>\n",
       "      <td>...</td>\n",
       "      <td>0</td>\n",
       "      <td>0</td>\n",
       "      <td>0</td>\n",
       "      <td>0</td>\n",
       "      <td>0</td>\n",
       "      <td>0</td>\n",
       "      <td>1</td>\n",
       "      <td>0</td>\n",
       "      <td>0</td>\n",
       "      <td>0</td>\n",
       "    </tr>\n",
       "    <tr>\n",
       "      <th>4766</th>\n",
       "      <td>2.0</td>\n",
       "      <td>5.0</td>\n",
       "      <td>38.0</td>\n",
       "      <td>170.0</td>\n",
       "      <td>5.100000</td>\n",
       "      <td>13.216667</td>\n",
       "      <td>0</td>\n",
       "      <td>0</td>\n",
       "      <td>1</td>\n",
       "      <td>0</td>\n",
       "      <td>...</td>\n",
       "      <td>0</td>\n",
       "      <td>1</td>\n",
       "      <td>0</td>\n",
       "      <td>0</td>\n",
       "      <td>0</td>\n",
       "      <td>0</td>\n",
       "      <td>0</td>\n",
       "      <td>0</td>\n",
       "      <td>0</td>\n",
       "      <td>1</td>\n",
       "    </tr>\n",
       "    <tr>\n",
       "      <th>4018</th>\n",
       "      <td>1.0</td>\n",
       "      <td>10.0</td>\n",
       "      <td>25.0</td>\n",
       "      <td>170.0</td>\n",
       "      <td>6.300000</td>\n",
       "      <td>3.500000</td>\n",
       "      <td>0</td>\n",
       "      <td>0</td>\n",
       "      <td>1</td>\n",
       "      <td>0</td>\n",
       "      <td>...</td>\n",
       "      <td>0</td>\n",
       "      <td>0</td>\n",
       "      <td>0</td>\n",
       "      <td>0</td>\n",
       "      <td>0</td>\n",
       "      <td>0</td>\n",
       "      <td>0</td>\n",
       "      <td>0</td>\n",
       "      <td>1</td>\n",
       "      <td>0</td>\n",
       "    </tr>\n",
       "    <tr>\n",
       "      <th>3452</th>\n",
       "      <td>1.0</td>\n",
       "      <td>10.0</td>\n",
       "      <td>46.0</td>\n",
       "      <td>160.0</td>\n",
       "      <td>5.750000</td>\n",
       "      <td>2.000000</td>\n",
       "      <td>0</td>\n",
       "      <td>0</td>\n",
       "      <td>0</td>\n",
       "      <td>1</td>\n",
       "      <td>...</td>\n",
       "      <td>0</td>\n",
       "      <td>0</td>\n",
       "      <td>1</td>\n",
       "      <td>0</td>\n",
       "      <td>0</td>\n",
       "      <td>0</td>\n",
       "      <td>1</td>\n",
       "      <td>0</td>\n",
       "      <td>0</td>\n",
       "      <td>0</td>\n",
       "    </tr>\n",
       "    <tr>\n",
       "      <th>2876</th>\n",
       "      <td>2.0</td>\n",
       "      <td>3.0</td>\n",
       "      <td>16.0</td>\n",
       "      <td>130.0</td>\n",
       "      <td>5.666667</td>\n",
       "      <td>1.250000</td>\n",
       "      <td>0</td>\n",
       "      <td>0</td>\n",
       "      <td>0</td>\n",
       "      <td>1</td>\n",
       "      <td>...</td>\n",
       "      <td>0</td>\n",
       "      <td>0</td>\n",
       "      <td>0</td>\n",
       "      <td>0</td>\n",
       "      <td>0</td>\n",
       "      <td>0</td>\n",
       "      <td>0</td>\n",
       "      <td>0</td>\n",
       "      <td>0</td>\n",
       "      <td>0</td>\n",
       "    </tr>\n",
       "  </tbody>\n",
       "</table>\n",
       "<p>5029 rows × 119 columns</p>\n",
       "</div>"
      ],
      "text/plain": [
       "       OBSERVED_DURATION_MINUTES  STOP_DURATION_MINUTES  SUSPECT_REPORTED_AGE  \\\n",
       "7787                         2.0                   10.0                  46.0   \n",
       "3315                         5.0                    5.0                  19.0   \n",
       "5427                         1.0                    8.0                  24.0   \n",
       "10150                        1.0                    6.0                  29.0   \n",
       "4480                         0.0                    5.0                  23.0   \n",
       "...                          ...                    ...                   ...   \n",
       "12894                        1.0                    2.0                  50.0   \n",
       "4766                         2.0                    5.0                  38.0   \n",
       "4018                         1.0                   10.0                  25.0   \n",
       "3452                         1.0                   10.0                  46.0   \n",
       "2876                         2.0                    3.0                  16.0   \n",
       "\n",
       "       SUSPECT_WEIGHT  SUSPECT_HEIGHT  STOP_FRISK_TIME  \\\n",
       "7787            110.0        4.800000        14.083333   \n",
       "3315            150.0        5.750000        50.833333   \n",
       "5427            190.0        5.110000         1.500000   \n",
       "10150           120.0        5.400000        13.833333   \n",
       "4480            190.0        5.900000        20.000000   \n",
       "...               ...             ...              ...   \n",
       "12894           165.0        5.100000        20.083333   \n",
       "4766            170.0        5.100000        13.216667   \n",
       "4018            170.0        6.300000         3.500000   \n",
       "3452            160.0        5.750000         2.000000   \n",
       "2876            130.0        5.666667         1.250000   \n",
       "\n",
       "       YEAR2_two thousand and fifteen  YEAR2_two thousand and nineteen  \\\n",
       "7787                                0                                0   \n",
       "3315                                0                                0   \n",
       "5427                                0                                0   \n",
       "10150                               0                                1   \n",
       "4480                                0                                0   \n",
       "...                               ...                              ...   \n",
       "12894                               0                                1   \n",
       "4766                                0                                0   \n",
       "4018                                0                                0   \n",
       "3452                                0                                0   \n",
       "2876                                0                                0   \n",
       "\n",
       "       YEAR2_two thousand and seventeen  YEAR2_two thousand and sixteen  ...  \\\n",
       "7787                                  0                               0  ...   \n",
       "3315                                  0                               1  ...   \n",
       "5427                                  1                               0  ...   \n",
       "10150                                 0                               0  ...   \n",
       "4480                                  1                               0  ...   \n",
       "...                                 ...                             ...  ...   \n",
       "12894                                 0                               0  ...   \n",
       "4766                                  1                               0  ...   \n",
       "4018                                  1                               0  ...   \n",
       "3452                                  0                               1  ...   \n",
       "2876                                  0                               1  ...   \n",
       "\n",
       "       MONTH2_ten  MONTH2_three  MONTH2_twelve  MONTH2_two  DAY2_four  \\\n",
       "7787            0             0              0           0          0   \n",
       "3315            0             0              0           0          1   \n",
       "5427            0             0              0           0          0   \n",
       "10150           1             0              0           0          0   \n",
       "4480            0             0              0           0          0   \n",
       "...           ...           ...            ...         ...        ...   \n",
       "12894           0             0              0           0          0   \n",
       "4766            0             1              0           0          0   \n",
       "4018            0             0              0           0          0   \n",
       "3452            0             0              1           0          0   \n",
       "2876            0             0              0           0          0   \n",
       "\n",
       "       DAY2_one  DAY2_six  DAY2_three  DAY2_two  DAY2_zero  \n",
       "7787          0         0           1         0          0  \n",
       "3315          0         0           0         0          0  \n",
       "5427          0         1           0         0          0  \n",
       "10150         0         0           0         1          0  \n",
       "4480          0         1           0         0          0  \n",
       "...         ...       ...         ...       ...        ...  \n",
       "12894         0         1           0         0          0  \n",
       "4766          0         0           0         0          1  \n",
       "4018          0         0           0         1          0  \n",
       "3452          0         1           0         0          0  \n",
       "2876          0         0           0         0          0  \n",
       "\n",
       "[5029 rows x 119 columns]"
      ]
     },
     "execution_count": 212,
     "metadata": {},
     "output_type": "execute_result"
    }
   ],
   "source": [
    "train_sample"
   ]
  },
  {
   "cell_type": "code",
   "execution_count": 159,
   "metadata": {},
   "outputs": [],
   "source": [
    "categorical = np.arange(6, 119, 1)"
   ]
  },
  {
   "cell_type": "code",
   "execution_count": 170,
   "metadata": {},
   "outputs": [],
   "source": [
    "from imblearn.combine import SMOTEENN \n",
    "from imblearn.over_sampling import SMOTE\n",
    "from imblearn.over_sampling import SMOTENC\n",
    "from imblearn.under_sampling import RandomUnderSampler\n",
    "from imblearn.pipeline import Pipeline\n",
    "# sme = SMOTENC(categorical_features=categorical)\n",
    "# X_res, y_res = sme.fit_resample(train_sample, train_targets_sample)\n",
    "\n",
    "# define resampling\n",
    "over = SMOTENC(categorical_features=categorical)\n",
    "under = RandomUnderSampler()\n",
    "# define pipeline\n",
    "pipeline = Pipeline(steps=[('o', over), ('u', under)])\n",
    "X_res, y_res = pipeline.fit_resample(train_sample, train_targets_sample)"
   ]
  },
  {
   "cell_type": "code",
   "execution_count": 171,
   "metadata": {},
   "outputs": [
    {
     "name": "stdout",
     "output_type": "stream",
     "text": [
      "acc train =  0.8930188229687872\n",
      "acc val =  0.8306499701848539\n"
     ]
    }
   ],
   "source": [
    "from sklearn.linear_model import LogisticRegression\n",
    "logreg_sample = LogisticRegression(penalty='l1', solver='liblinear', max_iter=1000, C=c)\n",
    "logreg_sample.fit(X_res, y_res)\n",
    "y_train_pred_sample = logreg_sample.predict_proba(X_res)\n",
    "y_val_pred_sample = logreg_sample.predict_proba(val_sample)\n",
    "print('acc train = ', accuracy_score(y_res, logreg_sample.predict(X_res)))      \n",
    "print('acc val = ', accuracy_score(val_targets_sample, logreg_sample.predict(val_sample)))"
   ]
  },
  {
   "cell_type": "code",
   "execution_count": 175,
   "metadata": {},
   "outputs": [
    {
     "name": "stdout",
     "output_type": "stream",
     "text": [
      "The AUC score of my training set:  0.9443604526168862\n",
      "The AUC score of my validation set:  0.7296104327017339\n"
     ]
    }
   ],
   "source": [
    "from sklearn.metrics import roc_auc_score\n",
    "print('The AUC score of my training set: ', roc_auc_score(y_res, y_train_pred_sample[:, 1]))\n",
    "print('The AUC score of my validation set: ', roc_auc_score(val_targets_sample, y_val_pred_sample[:, 1]))"
   ]
  },
  {
   "cell_type": "code",
   "execution_count": null,
   "metadata": {},
   "outputs": [],
   "source": []
  },
  {
   "cell_type": "markdown",
   "metadata": {},
   "source": [
    "### Increase train set size"
   ]
  },
  {
   "cell_type": "code",
   "execution_count": 202,
   "metadata": {},
   "outputs": [],
   "source": [
    "sqf_cross_val = sqf_cpw_dropped.copy()"
   ]
  },
  {
   "cell_type": "code",
   "execution_count": 253,
   "metadata": {},
   "outputs": [
    {
     "name": "stdout",
     "output_type": "stream",
     "text": [
      "0.1 0.1111\n"
     ]
    }
   ],
   "source": [
    "train_lr, val_lr, test_lr, targets_train_lr, targets_val_lr, targets_test_lr = process_data_simpleimputer(sqf_cross_val, t1=0.1, t2=0.1111)"
   ]
  },
  {
   "cell_type": "code",
   "execution_count": 254,
   "metadata": {},
   "outputs": [
    {
     "data": {
      "text/plain": [
       "0        0.0\n",
       "1        0.0\n",
       "2        0.0\n",
       "11       0.0\n",
       "15       NaN\n",
       "        ... \n",
       "13012    0.0\n",
       "13015    0.0\n",
       "13022    0.0\n",
       "13023    0.0\n",
       "13024    0.0\n",
       "Name: WEAPON_FOUND_FLAG_Y, Length: 2348, dtype: float64"
      ]
     },
     "execution_count": 254,
     "metadata": {},
     "output_type": "execute_result"
    }
   ],
   "source": [
    "targets_val_lr"
   ]
  },
  {
   "cell_type": "code",
   "execution_count": 273,
   "metadata": {},
   "outputs": [],
   "source": [
    "# from sklearn.linear_model import LogisticRegression\n",
    "# logreg_lr = LogisticRegression(penalty='l1', solver='liblinear', max_iter=1000, C=c)\n",
    "# logreg_lr.fit(train_lr, targets_train_lr)\n",
    "# y_train_pred_lr = logreg_lr.predict_proba(train_lr)\n",
    "# y_val_pred_lr = logreg_lr.predict_proba(val_lr)\n",
    "# print('acc train = ', accuracy_score(targets_train_lr, logreg_lr.predict(train_lr)))      \n",
    "# print('acc val = ', accuracy_score(targets_val_lr, logreg_lr.predict(val_lr)))"
   ]
  },
  {
   "cell_type": "code",
   "execution_count": 193,
   "metadata": {},
   "outputs": [
    {
     "name": "stdout",
     "output_type": "stream",
     "text": [
      "The AUC score of my training set:  0.7346163405119781\n",
      "The AUC score of my validation set:  0.7195813580968462\n"
     ]
    }
   ],
   "source": [
    "from sklearn.metrics import roc_auc_score\n",
    "print('The AUC score of my training set: ', roc_auc_score(targets_train_lr, y_train_pred_lr[:, 1]))\n",
    "print('The AUC score of my validation set: ', roc_auc_score(targets_val_lr, y_val_pred_lr[:, 1]))"
   ]
  },
  {
   "cell_type": "markdown",
   "metadata": {},
   "source": [
    "### Cross validation"
   ]
  },
  {
   "cell_type": "code",
   "execution_count": null,
   "metadata": {},
   "outputs": [],
   "source": [
    "# # evaluate a logistic regression model using repeated k-fold cross-validation\n",
    "# from sklearn.model_selection import RepeatedKFold\n",
    "# from sklearn.model_selection import cross_val_score\n",
    "# from sklearn.linear_model import LogisticRegression\n",
    "# # prepare the cross-validation procedure\n",
    "# cv = RepeatedKFold(n_splits=10, n_repeats=3, random_state=1)\n",
    "# # create model\n",
    "# model = LogisticRegression()\n",
    "# # evaluate model\n",
    "# scores = cross_val_score(model, X, y, scoring='accuracy', cv=cv, n_jobs=-1)\n",
    "# # report performance\n",
    "# print('Accuracy: %.3f (%.3f)' % (mean(scores), std(scores)))"
   ]
  },
  {
   "cell_type": "markdown",
   "metadata": {},
   "source": [
    "### Class weights iterative (for imbalance)"
   ]
  },
  {
   "cell_type": "markdown",
   "metadata": {},
   "source": [
    "Main metrics are specificity and recall - we want to try and find a balance between the two "
   ]
  },
  {
   "cell_type": "code",
   "execution_count": 737,
   "metadata": {
    "scrolled": true
   },
   "outputs": [
    {
     "name": "stderr",
     "output_type": "stream",
     "text": [
      "/Users/eeshakhanna/opt/anaconda3/lib/python3.7/site-packages/sklearn/linear_model/_logistic.py:818: ConvergenceWarning: lbfgs failed to converge (status=1):\n",
      "STOP: TOTAL NO. of ITERATIONS REACHED LIMIT.\n",
      "\n",
      "Increase the number of iterations (max_iter) or scale the data as shown in:\n",
      "    https://scikit-learn.org/stable/modules/preprocessing.html\n",
      "Please also refer to the documentation for alternative solver options:\n",
      "    https://scikit-learn.org/stable/modules/linear_model.html#logistic-regression\n",
      "  extra_warning_msg=_LOGISTIC_SOLVER_CONVERGENCE_MSG,\n",
      "/Users/eeshakhanna/opt/anaconda3/lib/python3.7/site-packages/sklearn/linear_model/_logistic.py:818: ConvergenceWarning: lbfgs failed to converge (status=1):\n",
      "STOP: TOTAL NO. of ITERATIONS REACHED LIMIT.\n",
      "\n",
      "Increase the number of iterations (max_iter) or scale the data as shown in:\n",
      "    https://scikit-learn.org/stable/modules/preprocessing.html\n",
      "Please also refer to the documentation for alternative solver options:\n",
      "    https://scikit-learn.org/stable/modules/linear_model.html#logistic-regression\n",
      "  extra_warning_msg=_LOGISTIC_SOLVER_CONVERGENCE_MSG,\n",
      "/Users/eeshakhanna/opt/anaconda3/lib/python3.7/site-packages/sklearn/linear_model/_logistic.py:818: ConvergenceWarning: lbfgs failed to converge (status=1):\n",
      "STOP: TOTAL NO. of ITERATIONS REACHED LIMIT.\n",
      "\n",
      "Increase the number of iterations (max_iter) or scale the data as shown in:\n",
      "    https://scikit-learn.org/stable/modules/preprocessing.html\n",
      "Please also refer to the documentation for alternative solver options:\n",
      "    https://scikit-learn.org/stable/modules/linear_model.html#logistic-regression\n",
      "  extra_warning_msg=_LOGISTIC_SOLVER_CONVERGENCE_MSG,\n",
      "/Users/eeshakhanna/opt/anaconda3/lib/python3.7/site-packages/sklearn/linear_model/_logistic.py:818: ConvergenceWarning: lbfgs failed to converge (status=1):\n",
      "STOP: TOTAL NO. of ITERATIONS REACHED LIMIT.\n",
      "\n",
      "Increase the number of iterations (max_iter) or scale the data as shown in:\n",
      "    https://scikit-learn.org/stable/modules/preprocessing.html\n",
      "Please also refer to the documentation for alternative solver options:\n",
      "    https://scikit-learn.org/stable/modules/linear_model.html#logistic-regression\n",
      "  extra_warning_msg=_LOGISTIC_SOLVER_CONVERGENCE_MSG,\n",
      "/Users/eeshakhanna/opt/anaconda3/lib/python3.7/site-packages/sklearn/linear_model/_logistic.py:818: ConvergenceWarning: lbfgs failed to converge (status=1):\n",
      "STOP: TOTAL NO. of ITERATIONS REACHED LIMIT.\n",
      "\n",
      "Increase the number of iterations (max_iter) or scale the data as shown in:\n",
      "    https://scikit-learn.org/stable/modules/preprocessing.html\n",
      "Please also refer to the documentation for alternative solver options:\n",
      "    https://scikit-learn.org/stable/modules/linear_model.html#logistic-regression\n",
      "  extra_warning_msg=_LOGISTIC_SOLVER_CONVERGENCE_MSG,\n",
      "/Users/eeshakhanna/opt/anaconda3/lib/python3.7/site-packages/sklearn/linear_model/_logistic.py:818: ConvergenceWarning: lbfgs failed to converge (status=1):\n",
      "STOP: TOTAL NO. of ITERATIONS REACHED LIMIT.\n",
      "\n",
      "Increase the number of iterations (max_iter) or scale the data as shown in:\n",
      "    https://scikit-learn.org/stable/modules/preprocessing.html\n",
      "Please also refer to the documentation for alternative solver options:\n",
      "    https://scikit-learn.org/stable/modules/linear_model.html#logistic-regression\n",
      "  extra_warning_msg=_LOGISTIC_SOLVER_CONVERGENCE_MSG,\n",
      "/Users/eeshakhanna/opt/anaconda3/lib/python3.7/site-packages/sklearn/linear_model/_logistic.py:818: ConvergenceWarning: lbfgs failed to converge (status=1):\n",
      "STOP: TOTAL NO. of ITERATIONS REACHED LIMIT.\n",
      "\n",
      "Increase the number of iterations (max_iter) or scale the data as shown in:\n",
      "    https://scikit-learn.org/stable/modules/preprocessing.html\n",
      "Please also refer to the documentation for alternative solver options:\n",
      "    https://scikit-learn.org/stable/modules/linear_model.html#logistic-regression\n",
      "  extra_warning_msg=_LOGISTIC_SOLVER_CONVERGENCE_MSG,\n",
      "/Users/eeshakhanna/opt/anaconda3/lib/python3.7/site-packages/sklearn/linear_model/_logistic.py:818: ConvergenceWarning: lbfgs failed to converge (status=1):\n",
      "STOP: TOTAL NO. of ITERATIONS REACHED LIMIT.\n",
      "\n",
      "Increase the number of iterations (max_iter) or scale the data as shown in:\n",
      "    https://scikit-learn.org/stable/modules/preprocessing.html\n",
      "Please also refer to the documentation for alternative solver options:\n",
      "    https://scikit-learn.org/stable/modules/linear_model.html#logistic-regression\n",
      "  extra_warning_msg=_LOGISTIC_SOLVER_CONVERGENCE_MSG,\n",
      "/Users/eeshakhanna/opt/anaconda3/lib/python3.7/site-packages/sklearn/linear_model/_logistic.py:818: ConvergenceWarning: lbfgs failed to converge (status=1):\n",
      "STOP: TOTAL NO. of ITERATIONS REACHED LIMIT.\n",
      "\n",
      "Increase the number of iterations (max_iter) or scale the data as shown in:\n",
      "    https://scikit-learn.org/stable/modules/preprocessing.html\n",
      "Please also refer to the documentation for alternative solver options:\n",
      "    https://scikit-learn.org/stable/modules/linear_model.html#logistic-regression\n",
      "  extra_warning_msg=_LOGISTIC_SOLVER_CONVERGENCE_MSG,\n",
      "/Users/eeshakhanna/opt/anaconda3/lib/python3.7/site-packages/sklearn/linear_model/_logistic.py:818: ConvergenceWarning: lbfgs failed to converge (status=1):\n",
      "STOP: TOTAL NO. of ITERATIONS REACHED LIMIT.\n",
      "\n",
      "Increase the number of iterations (max_iter) or scale the data as shown in:\n",
      "    https://scikit-learn.org/stable/modules/preprocessing.html\n",
      "Please also refer to the documentation for alternative solver options:\n",
      "    https://scikit-learn.org/stable/modules/linear_model.html#logistic-regression\n",
      "  extra_warning_msg=_LOGISTIC_SOLVER_CONVERGENCE_MSG,\n",
      "/Users/eeshakhanna/opt/anaconda3/lib/python3.7/site-packages/sklearn/linear_model/_logistic.py:818: ConvergenceWarning: lbfgs failed to converge (status=1):\n",
      "STOP: TOTAL NO. of ITERATIONS REACHED LIMIT.\n",
      "\n",
      "Increase the number of iterations (max_iter) or scale the data as shown in:\n",
      "    https://scikit-learn.org/stable/modules/preprocessing.html\n",
      "Please also refer to the documentation for alternative solver options:\n",
      "    https://scikit-learn.org/stable/modules/linear_model.html#logistic-regression\n",
      "  extra_warning_msg=_LOGISTIC_SOLVER_CONVERGENCE_MSG,\n",
      "/Users/eeshakhanna/opt/anaconda3/lib/python3.7/site-packages/sklearn/linear_model/_logistic.py:818: ConvergenceWarning: lbfgs failed to converge (status=1):\n",
      "STOP: TOTAL NO. of ITERATIONS REACHED LIMIT.\n",
      "\n",
      "Increase the number of iterations (max_iter) or scale the data as shown in:\n",
      "    https://scikit-learn.org/stable/modules/preprocessing.html\n",
      "Please also refer to the documentation for alternative solver options:\n",
      "    https://scikit-learn.org/stable/modules/linear_model.html#logistic-regression\n",
      "  extra_warning_msg=_LOGISTIC_SOLVER_CONVERGENCE_MSG,\n",
      "/Users/eeshakhanna/opt/anaconda3/lib/python3.7/site-packages/sklearn/linear_model/_logistic.py:818: ConvergenceWarning: lbfgs failed to converge (status=1):\n",
      "STOP: TOTAL NO. of ITERATIONS REACHED LIMIT.\n",
      "\n",
      "Increase the number of iterations (max_iter) or scale the data as shown in:\n",
      "    https://scikit-learn.org/stable/modules/preprocessing.html\n",
      "Please also refer to the documentation for alternative solver options:\n",
      "    https://scikit-learn.org/stable/modules/linear_model.html#logistic-regression\n",
      "  extra_warning_msg=_LOGISTIC_SOLVER_CONVERGENCE_MSG,\n",
      "/Users/eeshakhanna/opt/anaconda3/lib/python3.7/site-packages/sklearn/linear_model/_logistic.py:818: ConvergenceWarning: lbfgs failed to converge (status=1):\n",
      "STOP: TOTAL NO. of ITERATIONS REACHED LIMIT.\n",
      "\n",
      "Increase the number of iterations (max_iter) or scale the data as shown in:\n",
      "    https://scikit-learn.org/stable/modules/preprocessing.html\n",
      "Please also refer to the documentation for alternative solver options:\n",
      "    https://scikit-learn.org/stable/modules/linear_model.html#logistic-regression\n",
      "  extra_warning_msg=_LOGISTIC_SOLVER_CONVERGENCE_MSG,\n",
      "/Users/eeshakhanna/opt/anaconda3/lib/python3.7/site-packages/sklearn/linear_model/_logistic.py:818: ConvergenceWarning: lbfgs failed to converge (status=1):\n",
      "STOP: TOTAL NO. of ITERATIONS REACHED LIMIT.\n",
      "\n",
      "Increase the number of iterations (max_iter) or scale the data as shown in:\n",
      "    https://scikit-learn.org/stable/modules/preprocessing.html\n",
      "Please also refer to the documentation for alternative solver options:\n",
      "    https://scikit-learn.org/stable/modules/linear_model.html#logistic-regression\n",
      "  extra_warning_msg=_LOGISTIC_SOLVER_CONVERGENCE_MSG,\n",
      "/Users/eeshakhanna/opt/anaconda3/lib/python3.7/site-packages/sklearn/linear_model/_logistic.py:818: ConvergenceWarning: lbfgs failed to converge (status=1):\n",
      "STOP: TOTAL NO. of ITERATIONS REACHED LIMIT.\n",
      "\n",
      "Increase the number of iterations (max_iter) or scale the data as shown in:\n",
      "    https://scikit-learn.org/stable/modules/preprocessing.html\n",
      "Please also refer to the documentation for alternative solver options:\n",
      "    https://scikit-learn.org/stable/modules/linear_model.html#logistic-regression\n",
      "  extra_warning_msg=_LOGISTIC_SOLVER_CONVERGENCE_MSG,\n"
     ]
    },
    {
     "name": "stderr",
     "output_type": "stream",
     "text": [
      "/Users/eeshakhanna/opt/anaconda3/lib/python3.7/site-packages/sklearn/linear_model/_logistic.py:818: ConvergenceWarning: lbfgs failed to converge (status=1):\n",
      "STOP: TOTAL NO. of ITERATIONS REACHED LIMIT.\n",
      "\n",
      "Increase the number of iterations (max_iter) or scale the data as shown in:\n",
      "    https://scikit-learn.org/stable/modules/preprocessing.html\n",
      "Please also refer to the documentation for alternative solver options:\n",
      "    https://scikit-learn.org/stable/modules/linear_model.html#logistic-regression\n",
      "  extra_warning_msg=_LOGISTIC_SOLVER_CONVERGENCE_MSG,\n",
      "/Users/eeshakhanna/opt/anaconda3/lib/python3.7/site-packages/sklearn/linear_model/_logistic.py:818: ConvergenceWarning: lbfgs failed to converge (status=1):\n",
      "STOP: TOTAL NO. of ITERATIONS REACHED LIMIT.\n",
      "\n",
      "Increase the number of iterations (max_iter) or scale the data as shown in:\n",
      "    https://scikit-learn.org/stable/modules/preprocessing.html\n",
      "Please also refer to the documentation for alternative solver options:\n",
      "    https://scikit-learn.org/stable/modules/linear_model.html#logistic-regression\n",
      "  extra_warning_msg=_LOGISTIC_SOLVER_CONVERGENCE_MSG,\n",
      "/Users/eeshakhanna/opt/anaconda3/lib/python3.7/site-packages/sklearn/linear_model/_logistic.py:818: ConvergenceWarning: lbfgs failed to converge (status=1):\n",
      "STOP: TOTAL NO. of ITERATIONS REACHED LIMIT.\n",
      "\n",
      "Increase the number of iterations (max_iter) or scale the data as shown in:\n",
      "    https://scikit-learn.org/stable/modules/preprocessing.html\n",
      "Please also refer to the documentation for alternative solver options:\n",
      "    https://scikit-learn.org/stable/modules/linear_model.html#logistic-regression\n",
      "  extra_warning_msg=_LOGISTIC_SOLVER_CONVERGENCE_MSG,\n",
      "/Users/eeshakhanna/opt/anaconda3/lib/python3.7/site-packages/sklearn/linear_model/_logistic.py:818: ConvergenceWarning: lbfgs failed to converge (status=1):\n",
      "STOP: TOTAL NO. of ITERATIONS REACHED LIMIT.\n",
      "\n",
      "Increase the number of iterations (max_iter) or scale the data as shown in:\n",
      "    https://scikit-learn.org/stable/modules/preprocessing.html\n",
      "Please also refer to the documentation for alternative solver options:\n",
      "    https://scikit-learn.org/stable/modules/linear_model.html#logistic-regression\n",
      "  extra_warning_msg=_LOGISTIC_SOLVER_CONVERGENCE_MSG,\n",
      "/Users/eeshakhanna/opt/anaconda3/lib/python3.7/site-packages/sklearn/linear_model/_logistic.py:818: ConvergenceWarning: lbfgs failed to converge (status=1):\n",
      "STOP: TOTAL NO. of ITERATIONS REACHED LIMIT.\n",
      "\n",
      "Increase the number of iterations (max_iter) or scale the data as shown in:\n",
      "    https://scikit-learn.org/stable/modules/preprocessing.html\n",
      "Please also refer to the documentation for alternative solver options:\n",
      "    https://scikit-learn.org/stable/modules/linear_model.html#logistic-regression\n",
      "  extra_warning_msg=_LOGISTIC_SOLVER_CONVERGENCE_MSG,\n",
      "/Users/eeshakhanna/opt/anaconda3/lib/python3.7/site-packages/sklearn/linear_model/_logistic.py:818: ConvergenceWarning: lbfgs failed to converge (status=1):\n",
      "STOP: TOTAL NO. of ITERATIONS REACHED LIMIT.\n",
      "\n",
      "Increase the number of iterations (max_iter) or scale the data as shown in:\n",
      "    https://scikit-learn.org/stable/modules/preprocessing.html\n",
      "Please also refer to the documentation for alternative solver options:\n",
      "    https://scikit-learn.org/stable/modules/linear_model.html#logistic-regression\n",
      "  extra_warning_msg=_LOGISTIC_SOLVER_CONVERGENCE_MSG,\n",
      "/Users/eeshakhanna/opt/anaconda3/lib/python3.7/site-packages/sklearn/linear_model/_logistic.py:818: ConvergenceWarning: lbfgs failed to converge (status=1):\n",
      "STOP: TOTAL NO. of ITERATIONS REACHED LIMIT.\n",
      "\n",
      "Increase the number of iterations (max_iter) or scale the data as shown in:\n",
      "    https://scikit-learn.org/stable/modules/preprocessing.html\n",
      "Please also refer to the documentation for alternative solver options:\n",
      "    https://scikit-learn.org/stable/modules/linear_model.html#logistic-regression\n",
      "  extra_warning_msg=_LOGISTIC_SOLVER_CONVERGENCE_MSG,\n",
      "/Users/eeshakhanna/opt/anaconda3/lib/python3.7/site-packages/sklearn/linear_model/_logistic.py:818: ConvergenceWarning: lbfgs failed to converge (status=1):\n",
      "STOP: TOTAL NO. of ITERATIONS REACHED LIMIT.\n",
      "\n",
      "Increase the number of iterations (max_iter) or scale the data as shown in:\n",
      "    https://scikit-learn.org/stable/modules/preprocessing.html\n",
      "Please also refer to the documentation for alternative solver options:\n",
      "    https://scikit-learn.org/stable/modules/linear_model.html#logistic-regression\n",
      "  extra_warning_msg=_LOGISTIC_SOLVER_CONVERGENCE_MSG,\n"
     ]
    }
   ],
   "source": [
    "from sklearn.linear_model import LogisticRegression\n",
    "w = [0.5, 1, 1.5, 2, 2.5, 3, 3.5, 4, 4.5, 5, 5.5, 6, 6.5, 7, 7.5, 8, 8.5, 9, 9.5, 10, 10.5, 11, 11.5, 12]\n",
    "r_train = []\n",
    "r_val = []\n",
    "s_train = []\n",
    "s_val = []\n",
    "\n",
    "for i in w:\n",
    "    logreg_weights = LogisticRegression(penalty='none',\n",
    "                                        class_weight={0: 1, 1: i})\n",
    "    logreg_weights.fit(b_train, targets_train_b)\n",
    "    recall_train_b = recall_score(targets_train_b, logreg_weights.predict(b_train))\n",
    "    r_train.append(recall_train_b)\n",
    "    recall_val_b = recall_score(targets_val_b, logreg_weights.predict(b_val))\n",
    "    r_val.append(recall_val_b)\n",
    "    sp_train_b = specificity(targets_train_b, logreg_weights.predict(b_train))\n",
    "    s_train.append(sp_train_b)\n",
    "    sp_val_b = specificity(targets_val_b, logreg_weights.predict(b_val))\n",
    "    s_val.append(sp_val_b)"
   ]
  },
  {
   "cell_type": "code",
   "execution_count": 740,
   "metadata": {},
   "outputs": [
    {
     "data": {
      "text/plain": [
       "Text(0.5, 1.0, 'Recall and specificity trade-off as weight of class 1 increases')"
      ]
     },
     "execution_count": 740,
     "metadata": {},
     "output_type": "execute_result"
    },
    {
     "data": {
      "image/png": "[encoded data removed]",
      "text/plain": [
       "<Figure size 576x360 with 1 Axes>"
      ]
     },
     "metadata": {
      "needs_background": "light"
     },
     "output_type": "display_data"
    }
   ],
   "source": [
    "plt.figure(figsize=(8,5))\n",
    "plt.plot(w, np.array(r_train)+0.05, c='red', label='Train recall', ls='--')\n",
    "plt.plot(w, np.array(r_val)+0.05, c='red', label='Validation recall')\n",
    "plt.plot(w, s_train, c='green', label='Train specificity', ls='--')\n",
    "plt.plot(w, s_val, c='green', label='Validation specificity')\n",
    "plt.xlabel('Weight of class 1 relative to class 0')\n",
    "plt.ylabel('Recall/Specificity')\n",
    "plt.legend()\n",
    "plt.title('Recall and specificity trade-off as weight of class 1 increases')"
   ]
  },
  {
   "cell_type": "markdown",
   "metadata": {},
   "source": [
    "#### It seems that weight = 5 provides the optimal balance between recall and specificity"
   ]
  },
  {
   "cell_type": "markdown",
   "metadata": {},
   "source": [
    "### Adjust Thresholds"
   ]
  },
  {
   "cell_type": "code",
   "execution_count": 656,
   "metadata": {},
   "outputs": [],
   "source": [
    "from sklearn.linear_model import LogisticRegression\n",
    "t = [0.1, 0.2, 0.3, 0.4, 0.5, 0.6, 0.7, 0.8, 0.9]\n",
    "rt_train = []\n",
    "rt_val = []\n",
    "st_train = []\n",
    "st_val = []\n",
    "wa_train = []\n",
    "wa_val = []\n",
    "a_train = []\n",
    "a_val = []\n",
    "\n",
    "logreg_t = LogisticRegression(penalty='l1', solver='liblinear', C=c, max_iter=101, class_weight='balanced')\n",
    "logreg_t.fit(b_train, targets_train_b)\n",
    "\n",
    "for i in t:\n",
    "    y_pred_train = (logreg_t.predict_proba(b_train)[:,1]>=i).astype(int)\n",
    "    y_pred_val = (logreg_t.predict_proba(b_val)[:,1]>=i).astype(int)\n",
    "    \n",
    "    recall_train_b = recall_score(targets_train_b, y_pred_train)\n",
    "    rt_train.append(recall_train_b)\n",
    "    recall_val_b = recall_score(targets_val_b, y_pred_val)\n",
    "    rt_val.append(recall_val_b)\n",
    "    \n",
    "    sp_train_b = specificity(targets_train_b, y_pred_train)\n",
    "    st_train.append(sp_train_b)\n",
    "    sp_val_b = specificity(targets_val_b, y_pred_val)\n",
    "    st_val.append(sp_val_b)\n",
    "    \n",
    "    wacc_train_b = weighted_accuracy(targets_train_b, y_pred_train)\n",
    "    wa_train.append(wacc_train_b)\n",
    "    wacc_val_b = weighted_accuracy(targets_val_b, y_pred_val)\n",
    "    wa_val.append(wacc_val_b)\n",
    "    \n",
    "    acc_train_b = accuracy_score(targets_train_b, y_pred_train)\n",
    "    a_train.append(acc_train_b)\n",
    "    acc_val_b = accuracy_score(targets_val_b, y_pred_val)\n",
    "    a_val.append(acc_val_b)"
   ]
  },
  {
   "cell_type": "code",
   "execution_count": 661,
   "metadata": {},
   "outputs": [
    {
     "data": {
      "text/plain": [
       "<matplotlib.legend.Legend at 0x7f9e4a7b3b50>"
      ]
     },
     "execution_count": 661,
     "metadata": {},
     "output_type": "execute_result"
    },
    {
     "data": {
      "image/png": "[encoded data removed]",
      "text/plain": [
       "<Figure size 576x360 with 1 Axes>"
      ]
     },
     "metadata": {
      "needs_background": "light"
     },
     "output_type": "display_data"
    }
   ],
   "source": [
    "plt.figure(figsize=(8,5))\n",
    "plt.plot(t, wa_train, c='pink', label='Train weighted acc', ls='--')\n",
    "plt.plot(t, wa_val, c='pink', label='Val weighted acc')\n",
    "plt.plot(t, a_train, c='violet', label='Train acc', ls='--')\n",
    "plt.plot(t, a_val, c='violet', label='Val acc')\n",
    "plt.xlabel('Threshold for logistic regression classification')\n",
    "plt.ylabel('Weighted accuracy / accuracy')\n",
    "plt.legend()"
   ]
  },
  {
   "cell_type": "code",
   "execution_count": 667,
   "metadata": {},
   "outputs": [
    {
     "data": {
      "text/plain": [
       "0.5"
      ]
     },
     "execution_count": 667,
     "metadata": {},
     "output_type": "execute_result"
    }
   ],
   "source": [
    "optimal_t_index = np.array(wa_val).argmax()\n",
    "optimal_t = t[optimal_t_index]\n",
    "optimal_t"
   ]
  },
  {
   "cell_type": "code",
   "execution_count": 741,
   "metadata": {},
   "outputs": [
    {
     "data": {
      "text/plain": [
       "<matplotlib.legend.Legend at 0x7f9e4cee38d0>"
      ]
     },
     "execution_count": 741,
     "metadata": {},
     "output_type": "execute_result"
    },
    {
     "data": {
      "image/png": "[encoded data removed]",
      "text/plain": [
       "<Figure size 576x360 with 1 Axes>"
      ]
     },
     "metadata": {
      "needs_background": "light"
     },
     "output_type": "display_data"
    }
   ],
   "source": [
    "plt.figure(figsize=(8,5))\n",
    "plt.plot(t, rt_train, c='red', label='Train recall', ls='--')\n",
    "plt.plot(t, rt_val, c='red', label='Validation recall')\n",
    "plt.plot(t, st_train, c='green', label='Train specificity', ls='--')\n",
    "plt.plot(t, st_val, c='green', label='Validation specificity')\n",
    "plt.xlabel('Threshold for logistic regression classification')\n",
    "plt.ylabel('Recall/Specificity')\n",
    "plt.title('Recall and specificity trade-off as classification threshold increases')\n",
    "plt.legend()"
   ]
  },
  {
   "cell_type": "code",
   "execution_count": null,
   "metadata": {},
   "outputs": [],
   "source": []
  },
  {
   "cell_type": "markdown",
   "metadata": {},
   "source": [
    "### Learning curve"
   ]
  },
  {
   "cell_type": "code",
   "execution_count": 631,
   "metadata": {},
   "outputs": [],
   "source": [
    "weapon = 'WEAPON_FOUND_FLAG_Y'\n",
    "df_num = sqf_cpw_dropped.select_dtypes(['float64', 'int64'])\n",
    "df_cat = sqf_cpw_dropped.select_dtypes(['object', 'string'])\n",
    "cat = df_cat.columns\n",
    "df_ohe = pd.get_dummies(df_cat, prefix=cat, columns=cat, drop_first=True)\n",
    "df_join = df_num.join(df_ohe, how='outer')"
   ]
  },
  {
   "cell_type": "code",
   "execution_count": 634,
   "metadata": {},
   "outputs": [],
   "source": [
    "data, X_test = train_test_split(df_join, test_size=0.1, random_state=1)"
   ]
  },
  {
   "cell_type": "code",
   "execution_count": 635,
   "metadata": {},
   "outputs": [],
   "source": [
    "# Transformers\n",
    "from sklearn.preprocessing import LabelEncoder, OneHotEncoder, StandardScaler, MinMaxScaler\n",
    "\n",
    "# Modeling Evaluation\n",
    "from sklearn.model_selection import train_test_split, cross_val_score, KFold, GridSearchCV\n",
    "\n",
    "# Pipelines\n",
    "from sklearn.pipeline import Pipeline, FeatureUnion\n",
    "from sklearn.base import BaseEstimator, TransformerMixin\n",
    "from sklearn.compose import ColumnTransformer"
   ]
  },
  {
   "cell_type": "code",
   "execution_count": 636,
   "metadata": {},
   "outputs": [],
   "source": [
    "num_cols = df_num.columns"
   ]
  },
  {
   "cell_type": "code",
   "execution_count": 637,
   "metadata": {},
   "outputs": [],
   "source": [
    "#Creating ss transformer to scale the continuous numerical data with StandardScaler()\n",
    "ss = Pipeline(steps=[('ss', StandardScaler())])\n",
    "\n",
    "#Creating preprocess column transformer to combine the ss and ohe pipelines\n",
    "preprocess = ColumnTransformer(\n",
    "                    transformers=[\n",
    "                        ('cont', ss, num_cols),\n",
    "                    ])"
   ]
  },
  {
   "cell_type": "code",
   "execution_count": 639,
   "metadata": {},
   "outputs": [],
   "source": [
    "classifier = LogisticRegression(penalty='l1', solver='liblinear', C=c, max_iter=101, \n",
    "                                    class_weight='balanced')"
   ]
  },
  {
   "cell_type": "code",
   "execution_count": 643,
   "metadata": {},
   "outputs": [],
   "source": [
    "def cross_validate(classifier, cv):\n",
    "    pipeline = Pipeline(steps=[\n",
    "        ('preprocess', preprocess),\n",
    "        ('classifier', classifier)\n",
    "    ])\n",
    "    train_wacc = []\n",
    "    test_wacc = []\n",
    "    #a1, a2 = cv.split(X_train, y_train)\n",
    "    #print(a1)\n",
    "    for train_ind, val_ind in cv.split(X, y):\n",
    "#         print(type(list(train_ind)), len(train_ind))\n",
    "        X_t, y_t = X.iloc[train_ind], y.iloc[train_ind]\n",
    "        pipeline.fit(X_t, y_t)\n",
    "        y_hat_t = pipeline.predict(X_t)\n",
    "        train_wacc.append(weighted_accuracy(y_t, y_hat_t))\n",
    "        X_val, y_val = X.iloc[val_ind], y.iloc[val_ind]\n",
    "        y_hat_val = pipeline.predict(X_val)\n",
    "        test_wacc.append(weighted_accuracy(y_val, y_hat_val))\n",
    "\n",
    "    print('Training W Accuracy: {}'.format(np.mean(train_wacc)))\n",
    "    print('Validation W Accuracy: {}'.format(np.mean(test_wacc)))"
   ]
  },
  {
   "cell_type": "code",
   "execution_count": 644,
   "metadata": {},
   "outputs": [],
   "source": [
    "X = data.drop(['WEAPON_FOUND_FLAG_Y'], axis=1)\n",
    "y = data['WEAPON_FOUND_FLAG_Y']\n",
    "#y = LabelEncoder().fit_transform(y)"
   ]
  },
  {
   "cell_type": "code",
   "execution_count": 648,
   "metadata": {},
   "outputs": [
    {
     "name": "stdout",
     "output_type": "stream",
     "text": [
      "Training W Accuracy: 0.566015303301794\n",
      "Validation W Accuracy: 0.5593609043658695\n"
     ]
    }
   ],
   "source": [
    "cross_validate(classifier, KFold(n_splits=10, shuffle=True, random_state=0))"
   ]
  },
  {
   "cell_type": "code",
   "execution_count": null,
   "metadata": {},
   "outputs": [],
   "source": [
    "# remove test data\n",
    "# one hot encode \n",
    "# pipiline - train val split, standardize "
   ]
  }
 ],
 "metadata": {
  "colab": {
   "collapsed_sections": [],
   "name": "ek_working_file.ipynb",
   "provenance": []
  },
  "kernelspec": {
   "display_name": "Python 3",
   "language": "python",
   "name": "python3"
  },
  "language_info": {
   "codemirror_mode": {
    "name": "ipython",
    "version": 3
   },
   "file_extension": ".py",
   "mimetype": "text/x-python",
   "name": "python",
   "nbconvert_exporter": "python",
   "pygments_lexer": "ipython3",
   "version": "3.7.4"
  }
 },
 "nbformat": 4,
 "nbformat_minor": 1
}
